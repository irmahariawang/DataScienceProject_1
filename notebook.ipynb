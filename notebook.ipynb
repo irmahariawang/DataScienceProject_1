{
 "cells": [
  {
   "cell_type": "markdown",
   "id": "32ef266d-edac-45f5-aaeb-0703937641d7",
   "metadata": {},
   "source": [
    "# Proyek Analisis Data: E-Commerce Public Dataset\n",
    "- **Nama:** Irma Indriana Hariawang\n",
    "- **Email:** irma_loh@yahoo.com\n",
    "- **ID Dicoding:** irma_h\n",
    "- **Sumber Dataset:** https://www.kaggle.com/datasets/olistbr/brazilian-ecommerce/data?select=olist_customers_dataset.csv"
   ]
  },
  {
   "cell_type": "markdown",
   "id": "bd971bf4-fa5f-4c81-9f8a-d39494c3432d",
   "metadata": {},
   "source": [
    "### Menentukan Pertanyaan Bisnis"
   ]
  },
  {
   "cell_type": "markdown",
   "id": "d12e8334-7c40-40ba-a870-05f9b5af2c74",
   "metadata": {},
   "source": [
    "1. Produk kategori apa yang paling banyak dan paling sedikit penjualannya?\n",
    "2. Tunjukkan 10 kota yang menjadi domisili pembeli terbanyak!\n",
    "3. Bagaimana tren penjualan dalam kurun waktu data didapatkan?\n",
    "4. Bagaimana analisis RFM terhadap customer? insight apa yang didapatkan?"
   ]
  },
  {
   "cell_type": "markdown",
   "id": "654fdc0b-bea2-4106-a15f-7b88c710573b",
   "metadata": {},
   "source": [
    "### Import Semua Packages/Library yang Digunakan"
   ]
  },
  {
   "cell_type": "code",
   "execution_count": 1,
   "id": "3ca59ea7-a12b-4a39-962e-6f3902421bd0",
   "metadata": {},
   "outputs": [],
   "source": [
    "import numpy as np\n",
    "import pandas as pd\n",
    "import matplotlib.pyplot as plt\n",
    "import seaborn as sns\n",
    "import warnings\n",
    "warnings.filterwarnings('ignore')"
   ]
  },
  {
   "cell_type": "markdown",
   "id": "a65fb5a9-900b-44b1-bb14-c57dac2e6a43",
   "metadata": {},
   "source": [
    "## Data Wrangling"
   ]
  },
  {
   "cell_type": "markdown",
   "id": "cb8a338f-2fb7-405b-92fd-b91872fc536d",
   "metadata": {},
   "source": [
    "Dataset yang digunakan :\n",
    "- orders_dataset.csv\n",
    "- order_items_dataset.csv\n",
    "- customers_dataset.csv\n",
    "- sellers_dataset.csv\n",
    "- products_dataset.csv\n",
    "- product_category_name_translation.csv"
   ]
  },
  {
   "cell_type": "markdown",
   "id": "75ca59e4-cee2-48c4-b8da-17dd00006ee2",
   "metadata": {},
   "source": [
    "### Gathering Data"
   ]
  },
  {
   "cell_type": "code",
   "execution_count": 2,
   "id": "f88ce576-ff2b-42b3-a084-f9584eaaa99b",
   "metadata": {},
   "outputs": [
    {
     "data": {
      "text/html": [
       "<div>\n",
       "<style scoped>\n",
       "    .dataframe tbody tr th:only-of-type {\n",
       "        vertical-align: middle;\n",
       "    }\n",
       "\n",
       "    .dataframe tbody tr th {\n",
       "        vertical-align: top;\n",
       "    }\n",
       "\n",
       "    .dataframe thead th {\n",
       "        text-align: right;\n",
       "    }\n",
       "</style>\n",
       "<table border=\"1\" class=\"dataframe\">\n",
       "  <thead>\n",
       "    <tr style=\"text-align: right;\">\n",
       "      <th></th>\n",
       "      <th>order_id</th>\n",
       "      <th>customer_id</th>\n",
       "      <th>order_status</th>\n",
       "      <th>order_purchase_timestamp</th>\n",
       "      <th>order_approved_at</th>\n",
       "      <th>order_delivered_carrier_date</th>\n",
       "      <th>order_delivered_customer_date</th>\n",
       "      <th>order_estimated_delivery_date</th>\n",
       "    </tr>\n",
       "  </thead>\n",
       "  <tbody>\n",
       "    <tr>\n",
       "      <th>0</th>\n",
       "      <td>e481f51cbdc54678b7cc49136f2d6af7</td>\n",
       "      <td>9ef432eb6251297304e76186b10a928d</td>\n",
       "      <td>delivered</td>\n",
       "      <td>2017-10-02 10:56:33</td>\n",
       "      <td>2017-10-02 11:07:15</td>\n",
       "      <td>2017-10-04 19:55:00</td>\n",
       "      <td>2017-10-10 21:25:13</td>\n",
       "      <td>2017-10-18 00:00:00</td>\n",
       "    </tr>\n",
       "    <tr>\n",
       "      <th>1</th>\n",
       "      <td>53cdb2fc8bc7dce0b6741e2150273451</td>\n",
       "      <td>b0830fb4747a6c6d20dea0b8c802d7ef</td>\n",
       "      <td>delivered</td>\n",
       "      <td>2018-07-24 20:41:37</td>\n",
       "      <td>2018-07-26 03:24:27</td>\n",
       "      <td>2018-07-26 14:31:00</td>\n",
       "      <td>2018-08-07 15:27:45</td>\n",
       "      <td>2018-08-13 00:00:00</td>\n",
       "    </tr>\n",
       "    <tr>\n",
       "      <th>2</th>\n",
       "      <td>47770eb9100c2d0c44946d9cf07ec65d</td>\n",
       "      <td>41ce2a54c0b03bf3443c3d931a367089</td>\n",
       "      <td>delivered</td>\n",
       "      <td>2018-08-08 08:38:49</td>\n",
       "      <td>2018-08-08 08:55:23</td>\n",
       "      <td>2018-08-08 13:50:00</td>\n",
       "      <td>2018-08-17 18:06:29</td>\n",
       "      <td>2018-09-04 00:00:00</td>\n",
       "    </tr>\n",
       "    <tr>\n",
       "      <th>3</th>\n",
       "      <td>949d5b44dbf5de918fe9c16f97b45f8a</td>\n",
       "      <td>f88197465ea7920adcdbec7375364d82</td>\n",
       "      <td>delivered</td>\n",
       "      <td>2017-11-18 19:28:06</td>\n",
       "      <td>2017-11-18 19:45:59</td>\n",
       "      <td>2017-11-22 13:39:59</td>\n",
       "      <td>2017-12-02 00:28:42</td>\n",
       "      <td>2017-12-15 00:00:00</td>\n",
       "    </tr>\n",
       "    <tr>\n",
       "      <th>4</th>\n",
       "      <td>ad21c59c0840e6cb83a9ceb5573f8159</td>\n",
       "      <td>8ab97904e6daea8866dbdbc4fb7aad2c</td>\n",
       "      <td>delivered</td>\n",
       "      <td>2018-02-13 21:18:39</td>\n",
       "      <td>2018-02-13 22:20:29</td>\n",
       "      <td>2018-02-14 19:46:34</td>\n",
       "      <td>2018-02-16 18:17:02</td>\n",
       "      <td>2018-02-26 00:00:00</td>\n",
       "    </tr>\n",
       "  </tbody>\n",
       "</table>\n",
       "</div>"
      ],
      "text/plain": [
       "                           order_id                       customer_id  \\\n",
       "0  e481f51cbdc54678b7cc49136f2d6af7  9ef432eb6251297304e76186b10a928d   \n",
       "1  53cdb2fc8bc7dce0b6741e2150273451  b0830fb4747a6c6d20dea0b8c802d7ef   \n",
       "2  47770eb9100c2d0c44946d9cf07ec65d  41ce2a54c0b03bf3443c3d931a367089   \n",
       "3  949d5b44dbf5de918fe9c16f97b45f8a  f88197465ea7920adcdbec7375364d82   \n",
       "4  ad21c59c0840e6cb83a9ceb5573f8159  8ab97904e6daea8866dbdbc4fb7aad2c   \n",
       "\n",
       "  order_status order_purchase_timestamp    order_approved_at  \\\n",
       "0    delivered      2017-10-02 10:56:33  2017-10-02 11:07:15   \n",
       "1    delivered      2018-07-24 20:41:37  2018-07-26 03:24:27   \n",
       "2    delivered      2018-08-08 08:38:49  2018-08-08 08:55:23   \n",
       "3    delivered      2017-11-18 19:28:06  2017-11-18 19:45:59   \n",
       "4    delivered      2018-02-13 21:18:39  2018-02-13 22:20:29   \n",
       "\n",
       "  order_delivered_carrier_date order_delivered_customer_date  \\\n",
       "0          2017-10-04 19:55:00           2017-10-10 21:25:13   \n",
       "1          2018-07-26 14:31:00           2018-08-07 15:27:45   \n",
       "2          2018-08-08 13:50:00           2018-08-17 18:06:29   \n",
       "3          2017-11-22 13:39:59           2017-12-02 00:28:42   \n",
       "4          2018-02-14 19:46:34           2018-02-16 18:17:02   \n",
       "\n",
       "  order_estimated_delivery_date  \n",
       "0           2017-10-18 00:00:00  \n",
       "1           2018-08-13 00:00:00  \n",
       "2           2018-09-04 00:00:00  \n",
       "3           2017-12-15 00:00:00  \n",
       "4           2018-02-26 00:00:00  "
      ]
     },
     "execution_count": 2,
     "metadata": {},
     "output_type": "execute_result"
    }
   ],
   "source": [
    "orders_df = pd.read_csv(\"orders_dataset.csv\")\n",
    "orders_df.head()"
   ]
  },
  {
   "cell_type": "code",
   "execution_count": 3,
   "id": "cd096174-1fa7-4bd5-a71f-3fd2238dcb38",
   "metadata": {},
   "outputs": [
    {
     "data": {
      "text/html": [
       "<div>\n",
       "<style scoped>\n",
       "    .dataframe tbody tr th:only-of-type {\n",
       "        vertical-align: middle;\n",
       "    }\n",
       "\n",
       "    .dataframe tbody tr th {\n",
       "        vertical-align: top;\n",
       "    }\n",
       "\n",
       "    .dataframe thead th {\n",
       "        text-align: right;\n",
       "    }\n",
       "</style>\n",
       "<table border=\"1\" class=\"dataframe\">\n",
       "  <thead>\n",
       "    <tr style=\"text-align: right;\">\n",
       "      <th></th>\n",
       "      <th>order_id</th>\n",
       "      <th>order_item_id</th>\n",
       "      <th>product_id</th>\n",
       "      <th>seller_id</th>\n",
       "      <th>shipping_limit_date</th>\n",
       "      <th>price</th>\n",
       "      <th>freight_value</th>\n",
       "    </tr>\n",
       "  </thead>\n",
       "  <tbody>\n",
       "    <tr>\n",
       "      <th>0</th>\n",
       "      <td>00010242fe8c5a6d1ba2dd792cb16214</td>\n",
       "      <td>1</td>\n",
       "      <td>4244733e06e7ecb4970a6e2683c13e61</td>\n",
       "      <td>48436dade18ac8b2bce089ec2a041202</td>\n",
       "      <td>2017-09-19 09:45:35</td>\n",
       "      <td>58.90</td>\n",
       "      <td>13.29</td>\n",
       "    </tr>\n",
       "    <tr>\n",
       "      <th>1</th>\n",
       "      <td>00018f77f2f0320c557190d7a144bdd3</td>\n",
       "      <td>1</td>\n",
       "      <td>e5f2d52b802189ee658865ca93d83a8f</td>\n",
       "      <td>dd7ddc04e1b6c2c614352b383efe2d36</td>\n",
       "      <td>2017-05-03 11:05:13</td>\n",
       "      <td>239.90</td>\n",
       "      <td>19.93</td>\n",
       "    </tr>\n",
       "    <tr>\n",
       "      <th>2</th>\n",
       "      <td>000229ec398224ef6ca0657da4fc703e</td>\n",
       "      <td>1</td>\n",
       "      <td>c777355d18b72b67abbeef9df44fd0fd</td>\n",
       "      <td>5b51032eddd242adc84c38acab88f23d</td>\n",
       "      <td>2018-01-18 14:48:30</td>\n",
       "      <td>199.00</td>\n",
       "      <td>17.87</td>\n",
       "    </tr>\n",
       "    <tr>\n",
       "      <th>3</th>\n",
       "      <td>00024acbcdf0a6daa1e931b038114c75</td>\n",
       "      <td>1</td>\n",
       "      <td>7634da152a4610f1595efa32f14722fc</td>\n",
       "      <td>9d7a1d34a5052409006425275ba1c2b4</td>\n",
       "      <td>2018-08-15 10:10:18</td>\n",
       "      <td>12.99</td>\n",
       "      <td>12.79</td>\n",
       "    </tr>\n",
       "    <tr>\n",
       "      <th>4</th>\n",
       "      <td>00042b26cf59d7ce69dfabb4e55b4fd9</td>\n",
       "      <td>1</td>\n",
       "      <td>ac6c3623068f30de03045865e4e10089</td>\n",
       "      <td>df560393f3a51e74553ab94004ba5c87</td>\n",
       "      <td>2017-02-13 13:57:51</td>\n",
       "      <td>199.90</td>\n",
       "      <td>18.14</td>\n",
       "    </tr>\n",
       "  </tbody>\n",
       "</table>\n",
       "</div>"
      ],
      "text/plain": [
       "                           order_id  order_item_id  \\\n",
       "0  00010242fe8c5a6d1ba2dd792cb16214              1   \n",
       "1  00018f77f2f0320c557190d7a144bdd3              1   \n",
       "2  000229ec398224ef6ca0657da4fc703e              1   \n",
       "3  00024acbcdf0a6daa1e931b038114c75              1   \n",
       "4  00042b26cf59d7ce69dfabb4e55b4fd9              1   \n",
       "\n",
       "                         product_id                         seller_id  \\\n",
       "0  4244733e06e7ecb4970a6e2683c13e61  48436dade18ac8b2bce089ec2a041202   \n",
       "1  e5f2d52b802189ee658865ca93d83a8f  dd7ddc04e1b6c2c614352b383efe2d36   \n",
       "2  c777355d18b72b67abbeef9df44fd0fd  5b51032eddd242adc84c38acab88f23d   \n",
       "3  7634da152a4610f1595efa32f14722fc  9d7a1d34a5052409006425275ba1c2b4   \n",
       "4  ac6c3623068f30de03045865e4e10089  df560393f3a51e74553ab94004ba5c87   \n",
       "\n",
       "   shipping_limit_date   price  freight_value  \n",
       "0  2017-09-19 09:45:35   58.90          13.29  \n",
       "1  2017-05-03 11:05:13  239.90          19.93  \n",
       "2  2018-01-18 14:48:30  199.00          17.87  \n",
       "3  2018-08-15 10:10:18   12.99          12.79  \n",
       "4  2017-02-13 13:57:51  199.90          18.14  "
      ]
     },
     "execution_count": 3,
     "metadata": {},
     "output_type": "execute_result"
    }
   ],
   "source": [
    "order_items_df = pd.read_csv(\"order_items_dataset.csv\")\n",
    "order_items_df.head()"
   ]
  },
  {
   "cell_type": "code",
   "execution_count": 4,
   "id": "b359de4f-f277-4e60-a005-e5d0d34b8439",
   "metadata": {},
   "outputs": [
    {
     "data": {
      "text/html": [
       "<div>\n",
       "<style scoped>\n",
       "    .dataframe tbody tr th:only-of-type {\n",
       "        vertical-align: middle;\n",
       "    }\n",
       "\n",
       "    .dataframe tbody tr th {\n",
       "        vertical-align: top;\n",
       "    }\n",
       "\n",
       "    .dataframe thead th {\n",
       "        text-align: right;\n",
       "    }\n",
       "</style>\n",
       "<table border=\"1\" class=\"dataframe\">\n",
       "  <thead>\n",
       "    <tr style=\"text-align: right;\">\n",
       "      <th></th>\n",
       "      <th>customer_id</th>\n",
       "      <th>customer_unique_id</th>\n",
       "      <th>customer_zip_code_prefix</th>\n",
       "      <th>customer_city</th>\n",
       "      <th>customer_state</th>\n",
       "    </tr>\n",
       "  </thead>\n",
       "  <tbody>\n",
       "    <tr>\n",
       "      <th>0</th>\n",
       "      <td>06b8999e2fba1a1fbc88172c00ba8bc7</td>\n",
       "      <td>861eff4711a542e4b93843c6dd7febb0</td>\n",
       "      <td>14409</td>\n",
       "      <td>franca</td>\n",
       "      <td>SP</td>\n",
       "    </tr>\n",
       "    <tr>\n",
       "      <th>1</th>\n",
       "      <td>18955e83d337fd6b2def6b18a428ac77</td>\n",
       "      <td>290c77bc529b7ac935b93aa66c333dc3</td>\n",
       "      <td>9790</td>\n",
       "      <td>sao bernardo do campo</td>\n",
       "      <td>SP</td>\n",
       "    </tr>\n",
       "    <tr>\n",
       "      <th>2</th>\n",
       "      <td>4e7b3e00288586ebd08712fdd0374a03</td>\n",
       "      <td>060e732b5b29e8181a18229c7b0b2b5e</td>\n",
       "      <td>1151</td>\n",
       "      <td>sao paulo</td>\n",
       "      <td>SP</td>\n",
       "    </tr>\n",
       "    <tr>\n",
       "      <th>3</th>\n",
       "      <td>b2b6027bc5c5109e529d4dc6358b12c3</td>\n",
       "      <td>259dac757896d24d7702b9acbbff3f3c</td>\n",
       "      <td>8775</td>\n",
       "      <td>mogi das cruzes</td>\n",
       "      <td>SP</td>\n",
       "    </tr>\n",
       "    <tr>\n",
       "      <th>4</th>\n",
       "      <td>4f2d8ab171c80ec8364f7c12e35b23ad</td>\n",
       "      <td>345ecd01c38d18a9036ed96c73b8d066</td>\n",
       "      <td>13056</td>\n",
       "      <td>campinas</td>\n",
       "      <td>SP</td>\n",
       "    </tr>\n",
       "  </tbody>\n",
       "</table>\n",
       "</div>"
      ],
      "text/plain": [
       "                        customer_id                customer_unique_id  \\\n",
       "0  06b8999e2fba1a1fbc88172c00ba8bc7  861eff4711a542e4b93843c6dd7febb0   \n",
       "1  18955e83d337fd6b2def6b18a428ac77  290c77bc529b7ac935b93aa66c333dc3   \n",
       "2  4e7b3e00288586ebd08712fdd0374a03  060e732b5b29e8181a18229c7b0b2b5e   \n",
       "3  b2b6027bc5c5109e529d4dc6358b12c3  259dac757896d24d7702b9acbbff3f3c   \n",
       "4  4f2d8ab171c80ec8364f7c12e35b23ad  345ecd01c38d18a9036ed96c73b8d066   \n",
       "\n",
       "   customer_zip_code_prefix          customer_city customer_state  \n",
       "0                     14409                 franca             SP  \n",
       "1                      9790  sao bernardo do campo             SP  \n",
       "2                      1151              sao paulo             SP  \n",
       "3                      8775        mogi das cruzes             SP  \n",
       "4                     13056               campinas             SP  "
      ]
     },
     "execution_count": 4,
     "metadata": {},
     "output_type": "execute_result"
    }
   ],
   "source": [
    "customers_df = pd.read_csv(\"customers_dataset.csv\")\n",
    "customers_df.head()"
   ]
  },
  {
   "cell_type": "code",
   "execution_count": 5,
   "id": "499c97d1-eb07-4fb7-aabb-5a3e57d65135",
   "metadata": {},
   "outputs": [
    {
     "data": {
      "text/html": [
       "<div>\n",
       "<style scoped>\n",
       "    .dataframe tbody tr th:only-of-type {\n",
       "        vertical-align: middle;\n",
       "    }\n",
       "\n",
       "    .dataframe tbody tr th {\n",
       "        vertical-align: top;\n",
       "    }\n",
       "\n",
       "    .dataframe thead th {\n",
       "        text-align: right;\n",
       "    }\n",
       "</style>\n",
       "<table border=\"1\" class=\"dataframe\">\n",
       "  <thead>\n",
       "    <tr style=\"text-align: right;\">\n",
       "      <th></th>\n",
       "      <th>seller_id</th>\n",
       "      <th>seller_zip_code_prefix</th>\n",
       "      <th>seller_city</th>\n",
       "      <th>seller_state</th>\n",
       "    </tr>\n",
       "  </thead>\n",
       "  <tbody>\n",
       "    <tr>\n",
       "      <th>0</th>\n",
       "      <td>3442f8959a84dea7ee197c632cb2df15</td>\n",
       "      <td>13023</td>\n",
       "      <td>campinas</td>\n",
       "      <td>SP</td>\n",
       "    </tr>\n",
       "    <tr>\n",
       "      <th>1</th>\n",
       "      <td>d1b65fc7debc3361ea86b5f14c68d2e2</td>\n",
       "      <td>13844</td>\n",
       "      <td>mogi guacu</td>\n",
       "      <td>SP</td>\n",
       "    </tr>\n",
       "    <tr>\n",
       "      <th>2</th>\n",
       "      <td>ce3ad9de960102d0677a81f5d0bb7b2d</td>\n",
       "      <td>20031</td>\n",
       "      <td>rio de janeiro</td>\n",
       "      <td>RJ</td>\n",
       "    </tr>\n",
       "    <tr>\n",
       "      <th>3</th>\n",
       "      <td>c0f3eea2e14555b6faeea3dd58c1b1c3</td>\n",
       "      <td>4195</td>\n",
       "      <td>sao paulo</td>\n",
       "      <td>SP</td>\n",
       "    </tr>\n",
       "    <tr>\n",
       "      <th>4</th>\n",
       "      <td>51a04a8a6bdcb23deccc82b0b80742cf</td>\n",
       "      <td>12914</td>\n",
       "      <td>braganca paulista</td>\n",
       "      <td>SP</td>\n",
       "    </tr>\n",
       "  </tbody>\n",
       "</table>\n",
       "</div>"
      ],
      "text/plain": [
       "                          seller_id  seller_zip_code_prefix  \\\n",
       "0  3442f8959a84dea7ee197c632cb2df15                   13023   \n",
       "1  d1b65fc7debc3361ea86b5f14c68d2e2                   13844   \n",
       "2  ce3ad9de960102d0677a81f5d0bb7b2d                   20031   \n",
       "3  c0f3eea2e14555b6faeea3dd58c1b1c3                    4195   \n",
       "4  51a04a8a6bdcb23deccc82b0b80742cf                   12914   \n",
       "\n",
       "         seller_city seller_state  \n",
       "0           campinas           SP  \n",
       "1         mogi guacu           SP  \n",
       "2     rio de janeiro           RJ  \n",
       "3          sao paulo           SP  \n",
       "4  braganca paulista           SP  "
      ]
     },
     "execution_count": 5,
     "metadata": {},
     "output_type": "execute_result"
    }
   ],
   "source": [
    "sellers_df = pd.read_csv(\"sellers_dataset.csv\")\n",
    "sellers_df.head()"
   ]
  },
  {
   "cell_type": "code",
   "execution_count": 6,
   "id": "ad4d3fc6-c1a5-4aea-9a31-1c3206e4a7dc",
   "metadata": {},
   "outputs": [
    {
     "data": {
      "text/html": [
       "<div>\n",
       "<style scoped>\n",
       "    .dataframe tbody tr th:only-of-type {\n",
       "        vertical-align: middle;\n",
       "    }\n",
       "\n",
       "    .dataframe tbody tr th {\n",
       "        vertical-align: top;\n",
       "    }\n",
       "\n",
       "    .dataframe thead th {\n",
       "        text-align: right;\n",
       "    }\n",
       "</style>\n",
       "<table border=\"1\" class=\"dataframe\">\n",
       "  <thead>\n",
       "    <tr style=\"text-align: right;\">\n",
       "      <th></th>\n",
       "      <th>product_id</th>\n",
       "      <th>product_category_name</th>\n",
       "      <th>product_name_lenght</th>\n",
       "      <th>product_description_lenght</th>\n",
       "      <th>product_photos_qty</th>\n",
       "      <th>product_weight_g</th>\n",
       "      <th>product_length_cm</th>\n",
       "      <th>product_height_cm</th>\n",
       "      <th>product_width_cm</th>\n",
       "    </tr>\n",
       "  </thead>\n",
       "  <tbody>\n",
       "    <tr>\n",
       "      <th>0</th>\n",
       "      <td>1e9e8ef04dbcff4541ed26657ea517e5</td>\n",
       "      <td>perfumaria</td>\n",
       "      <td>40.0</td>\n",
       "      <td>287.0</td>\n",
       "      <td>1.0</td>\n",
       "      <td>225.0</td>\n",
       "      <td>16.0</td>\n",
       "      <td>10.0</td>\n",
       "      <td>14.0</td>\n",
       "    </tr>\n",
       "    <tr>\n",
       "      <th>1</th>\n",
       "      <td>3aa071139cb16b67ca9e5dea641aaa2f</td>\n",
       "      <td>artes</td>\n",
       "      <td>44.0</td>\n",
       "      <td>276.0</td>\n",
       "      <td>1.0</td>\n",
       "      <td>1000.0</td>\n",
       "      <td>30.0</td>\n",
       "      <td>18.0</td>\n",
       "      <td>20.0</td>\n",
       "    </tr>\n",
       "    <tr>\n",
       "      <th>2</th>\n",
       "      <td>96bd76ec8810374ed1b65e291975717f</td>\n",
       "      <td>esporte_lazer</td>\n",
       "      <td>46.0</td>\n",
       "      <td>250.0</td>\n",
       "      <td>1.0</td>\n",
       "      <td>154.0</td>\n",
       "      <td>18.0</td>\n",
       "      <td>9.0</td>\n",
       "      <td>15.0</td>\n",
       "    </tr>\n",
       "    <tr>\n",
       "      <th>3</th>\n",
       "      <td>cef67bcfe19066a932b7673e239eb23d</td>\n",
       "      <td>bebes</td>\n",
       "      <td>27.0</td>\n",
       "      <td>261.0</td>\n",
       "      <td>1.0</td>\n",
       "      <td>371.0</td>\n",
       "      <td>26.0</td>\n",
       "      <td>4.0</td>\n",
       "      <td>26.0</td>\n",
       "    </tr>\n",
       "    <tr>\n",
       "      <th>4</th>\n",
       "      <td>9dc1a7de274444849c219cff195d0b71</td>\n",
       "      <td>utilidades_domesticas</td>\n",
       "      <td>37.0</td>\n",
       "      <td>402.0</td>\n",
       "      <td>4.0</td>\n",
       "      <td>625.0</td>\n",
       "      <td>20.0</td>\n",
       "      <td>17.0</td>\n",
       "      <td>13.0</td>\n",
       "    </tr>\n",
       "  </tbody>\n",
       "</table>\n",
       "</div>"
      ],
      "text/plain": [
       "                         product_id  product_category_name  \\\n",
       "0  1e9e8ef04dbcff4541ed26657ea517e5             perfumaria   \n",
       "1  3aa071139cb16b67ca9e5dea641aaa2f                  artes   \n",
       "2  96bd76ec8810374ed1b65e291975717f          esporte_lazer   \n",
       "3  cef67bcfe19066a932b7673e239eb23d                  bebes   \n",
       "4  9dc1a7de274444849c219cff195d0b71  utilidades_domesticas   \n",
       "\n",
       "   product_name_lenght  product_description_lenght  product_photos_qty  \\\n",
       "0                 40.0                       287.0                 1.0   \n",
       "1                 44.0                       276.0                 1.0   \n",
       "2                 46.0                       250.0                 1.0   \n",
       "3                 27.0                       261.0                 1.0   \n",
       "4                 37.0                       402.0                 4.0   \n",
       "\n",
       "   product_weight_g  product_length_cm  product_height_cm  product_width_cm  \n",
       "0             225.0               16.0               10.0              14.0  \n",
       "1            1000.0               30.0               18.0              20.0  \n",
       "2             154.0               18.0                9.0              15.0  \n",
       "3             371.0               26.0                4.0              26.0  \n",
       "4             625.0               20.0               17.0              13.0  "
      ]
     },
     "execution_count": 6,
     "metadata": {},
     "output_type": "execute_result"
    }
   ],
   "source": [
    "products_df = pd.read_csv(\"products_dataset.csv\")\n",
    "products_df.head()"
   ]
  },
  {
   "cell_type": "code",
   "execution_count": 7,
   "id": "bf591849-3909-41be-8498-b665c1d64b83",
   "metadata": {},
   "outputs": [
    {
     "data": {
      "text/html": [
       "<div>\n",
       "<style scoped>\n",
       "    .dataframe tbody tr th:only-of-type {\n",
       "        vertical-align: middle;\n",
       "    }\n",
       "\n",
       "    .dataframe tbody tr th {\n",
       "        vertical-align: top;\n",
       "    }\n",
       "\n",
       "    .dataframe thead th {\n",
       "        text-align: right;\n",
       "    }\n",
       "</style>\n",
       "<table border=\"1\" class=\"dataframe\">\n",
       "  <thead>\n",
       "    <tr style=\"text-align: right;\">\n",
       "      <th></th>\n",
       "      <th>product_category_name</th>\n",
       "      <th>product_category_name_english</th>\n",
       "    </tr>\n",
       "  </thead>\n",
       "  <tbody>\n",
       "    <tr>\n",
       "      <th>0</th>\n",
       "      <td>beleza_saude</td>\n",
       "      <td>health_beauty</td>\n",
       "    </tr>\n",
       "    <tr>\n",
       "      <th>1</th>\n",
       "      <td>informatica_acessorios</td>\n",
       "      <td>computers_accessories</td>\n",
       "    </tr>\n",
       "    <tr>\n",
       "      <th>2</th>\n",
       "      <td>automotivo</td>\n",
       "      <td>auto</td>\n",
       "    </tr>\n",
       "    <tr>\n",
       "      <th>3</th>\n",
       "      <td>cama_mesa_banho</td>\n",
       "      <td>bed_bath_table</td>\n",
       "    </tr>\n",
       "    <tr>\n",
       "      <th>4</th>\n",
       "      <td>moveis_decoracao</td>\n",
       "      <td>furniture_decor</td>\n",
       "    </tr>\n",
       "  </tbody>\n",
       "</table>\n",
       "</div>"
      ],
      "text/plain": [
       "    product_category_name product_category_name_english\n",
       "0            beleza_saude                 health_beauty\n",
       "1  informatica_acessorios         computers_accessories\n",
       "2              automotivo                          auto\n",
       "3         cama_mesa_banho                bed_bath_table\n",
       "4        moveis_decoracao               furniture_decor"
      ]
     },
     "execution_count": 7,
     "metadata": {},
     "output_type": "execute_result"
    }
   ],
   "source": [
    "product_category_english_df = pd.read_csv(\"product_category_name_translation.csv\")\n",
    "product_category_english_df.head()"
   ]
  },
  {
   "cell_type": "markdown",
   "id": "a873b5f2-4c48-4067-b365-16ae69b0cba5",
   "metadata": {},
   "source": [
    "### Assesing Data"
   ]
  },
  {
   "cell_type": "markdown",
   "id": "3128af80-12bf-4f3e-ac85-b58b0051c92c",
   "metadata": {},
   "source": [
    "#### Menilai tabel customers_df"
   ]
  },
  {
   "cell_type": "code",
   "execution_count": 8,
   "id": "317cde97-9ba9-4238-8569-e82a951c0613",
   "metadata": {},
   "outputs": [
    {
     "name": "stdout",
     "output_type": "stream",
     "text": [
      "<class 'pandas.core.frame.DataFrame'>\n",
      "RangeIndex: 99441 entries, 0 to 99440\n",
      "Data columns (total 5 columns):\n",
      " #   Column                    Non-Null Count  Dtype \n",
      "---  ------                    --------------  ----- \n",
      " 0   customer_id               99441 non-null  object\n",
      " 1   customer_unique_id        99441 non-null  object\n",
      " 2   customer_zip_code_prefix  99441 non-null  int64 \n",
      " 3   customer_city             99441 non-null  object\n",
      " 4   customer_state            99441 non-null  object\n",
      "dtypes: int64(1), object(4)\n",
      "memory usage: 3.8+ MB\n"
     ]
    }
   ],
   "source": [
    "customers_df.info()"
   ]
  },
  {
   "cell_type": "code",
   "execution_count": 9,
   "id": "7676be3b-ed12-491c-8dbb-a1c79b86285f",
   "metadata": {},
   "outputs": [
    {
     "data": {
      "text/plain": [
       "customer_id                 0\n",
       "customer_unique_id          0\n",
       "customer_zip_code_prefix    0\n",
       "customer_city               0\n",
       "customer_state              0\n",
       "dtype: int64"
      ]
     },
     "execution_count": 9,
     "metadata": {},
     "output_type": "execute_result"
    }
   ],
   "source": [
    "customers_df.isna().sum()"
   ]
  },
  {
   "cell_type": "code",
   "execution_count": 10,
   "id": "7cd76162-1ce2-49a4-a5c9-9efd02721ba5",
   "metadata": {},
   "outputs": [
    {
     "name": "stdout",
     "output_type": "stream",
     "text": [
      "Jumlah duplikasi :  0\n"
     ]
    }
   ],
   "source": [
    "print(\"Jumlah duplikasi : \", customers_df.duplicated().sum())"
   ]
  },
  {
   "cell_type": "code",
   "execution_count": 11,
   "id": "09d47e31-bd40-4940-96bb-57c6a79d2e6d",
   "metadata": {},
   "outputs": [
    {
     "data": {
      "text/html": [
       "<div>\n",
       "<style scoped>\n",
       "    .dataframe tbody tr th:only-of-type {\n",
       "        vertical-align: middle;\n",
       "    }\n",
       "\n",
       "    .dataframe tbody tr th {\n",
       "        vertical-align: top;\n",
       "    }\n",
       "\n",
       "    .dataframe thead th {\n",
       "        text-align: right;\n",
       "    }\n",
       "</style>\n",
       "<table border=\"1\" class=\"dataframe\">\n",
       "  <thead>\n",
       "    <tr style=\"text-align: right;\">\n",
       "      <th></th>\n",
       "      <th>customer_zip_code_prefix</th>\n",
       "    </tr>\n",
       "  </thead>\n",
       "  <tbody>\n",
       "    <tr>\n",
       "      <th>count</th>\n",
       "      <td>99441.000000</td>\n",
       "    </tr>\n",
       "    <tr>\n",
       "      <th>mean</th>\n",
       "      <td>35137.474583</td>\n",
       "    </tr>\n",
       "    <tr>\n",
       "      <th>std</th>\n",
       "      <td>29797.938996</td>\n",
       "    </tr>\n",
       "    <tr>\n",
       "      <th>min</th>\n",
       "      <td>1003.000000</td>\n",
       "    </tr>\n",
       "    <tr>\n",
       "      <th>25%</th>\n",
       "      <td>11347.000000</td>\n",
       "    </tr>\n",
       "    <tr>\n",
       "      <th>50%</th>\n",
       "      <td>24416.000000</td>\n",
       "    </tr>\n",
       "    <tr>\n",
       "      <th>75%</th>\n",
       "      <td>58900.000000</td>\n",
       "    </tr>\n",
       "    <tr>\n",
       "      <th>max</th>\n",
       "      <td>99990.000000</td>\n",
       "    </tr>\n",
       "  </tbody>\n",
       "</table>\n",
       "</div>"
      ],
      "text/plain": [
       "       customer_zip_code_prefix\n",
       "count              99441.000000\n",
       "mean               35137.474583\n",
       "std                29797.938996\n",
       "min                 1003.000000\n",
       "25%                11347.000000\n",
       "50%                24416.000000\n",
       "75%                58900.000000\n",
       "max                99990.000000"
      ]
     },
     "execution_count": 11,
     "metadata": {},
     "output_type": "execute_result"
    }
   ],
   "source": [
    "customers_df.describe()"
   ]
  },
  {
   "cell_type": "markdown",
   "id": "81c75344-c5ad-4634-b383-57bb4d165cb2",
   "metadata": {},
   "source": [
    "#### Menilai tabel orders_df"
   ]
  },
  {
   "cell_type": "code",
   "execution_count": 12,
   "id": "1625a781-3e29-4f25-a029-d2c69637f1a3",
   "metadata": {},
   "outputs": [
    {
     "name": "stdout",
     "output_type": "stream",
     "text": [
      "<class 'pandas.core.frame.DataFrame'>\n",
      "RangeIndex: 99441 entries, 0 to 99440\n",
      "Data columns (total 8 columns):\n",
      " #   Column                         Non-Null Count  Dtype \n",
      "---  ------                         --------------  ----- \n",
      " 0   order_id                       99441 non-null  object\n",
      " 1   customer_id                    99441 non-null  object\n",
      " 2   order_status                   99441 non-null  object\n",
      " 3   order_purchase_timestamp       99441 non-null  object\n",
      " 4   order_approved_at              99281 non-null  object\n",
      " 5   order_delivered_carrier_date   97658 non-null  object\n",
      " 6   order_delivered_customer_date  96476 non-null  object\n",
      " 7   order_estimated_delivery_date  99441 non-null  object\n",
      "dtypes: object(8)\n",
      "memory usage: 6.1+ MB\n"
     ]
    }
   ],
   "source": [
    "orders_df.info()"
   ]
  },
  {
   "cell_type": "code",
   "execution_count": 13,
   "id": "30c60a83-b7c8-4069-afad-53f48ab40a9b",
   "metadata": {},
   "outputs": [
    {
     "data": {
      "text/plain": [
       "order_id                         99441\n",
       "customer_id                      99441\n",
       "order_status                         8\n",
       "order_purchase_timestamp         98875\n",
       "order_approved_at                90733\n",
       "order_delivered_carrier_date     81018\n",
       "order_delivered_customer_date    95664\n",
       "order_estimated_delivery_date      459\n",
       "dtype: int64"
      ]
     },
     "execution_count": 13,
     "metadata": {},
     "output_type": "execute_result"
    }
   ],
   "source": [
    "orders_df.nunique()"
   ]
  },
  {
   "cell_type": "code",
   "execution_count": 14,
   "id": "9db54e90-2a6b-475e-966c-78ca88399223",
   "metadata": {},
   "outputs": [
    {
     "name": "stdout",
     "output_type": "stream",
     "text": [
      "Jumlah duplikasi :  0\n"
     ]
    },
    {
     "data": {
      "text/html": [
       "<div>\n",
       "<style scoped>\n",
       "    .dataframe tbody tr th:only-of-type {\n",
       "        vertical-align: middle;\n",
       "    }\n",
       "\n",
       "    .dataframe tbody tr th {\n",
       "        vertical-align: top;\n",
       "    }\n",
       "\n",
       "    .dataframe thead th {\n",
       "        text-align: right;\n",
       "    }\n",
       "</style>\n",
       "<table border=\"1\" class=\"dataframe\">\n",
       "  <thead>\n",
       "    <tr style=\"text-align: right;\">\n",
       "      <th></th>\n",
       "      <th>order_id</th>\n",
       "      <th>customer_id</th>\n",
       "      <th>order_status</th>\n",
       "      <th>order_purchase_timestamp</th>\n",
       "      <th>order_approved_at</th>\n",
       "      <th>order_delivered_carrier_date</th>\n",
       "      <th>order_delivered_customer_date</th>\n",
       "      <th>order_estimated_delivery_date</th>\n",
       "    </tr>\n",
       "  </thead>\n",
       "  <tbody>\n",
       "    <tr>\n",
       "      <th>count</th>\n",
       "      <td>99441</td>\n",
       "      <td>99441</td>\n",
       "      <td>99441</td>\n",
       "      <td>99441</td>\n",
       "      <td>99281</td>\n",
       "      <td>97658</td>\n",
       "      <td>96476</td>\n",
       "      <td>99441</td>\n",
       "    </tr>\n",
       "    <tr>\n",
       "      <th>unique</th>\n",
       "      <td>99441</td>\n",
       "      <td>99441</td>\n",
       "      <td>8</td>\n",
       "      <td>98875</td>\n",
       "      <td>90733</td>\n",
       "      <td>81018</td>\n",
       "      <td>95664</td>\n",
       "      <td>459</td>\n",
       "    </tr>\n",
       "    <tr>\n",
       "      <th>top</th>\n",
       "      <td>e481f51cbdc54678b7cc49136f2d6af7</td>\n",
       "      <td>9ef432eb6251297304e76186b10a928d</td>\n",
       "      <td>delivered</td>\n",
       "      <td>2018-04-11 10:48:14</td>\n",
       "      <td>2018-02-27 04:31:10</td>\n",
       "      <td>2018-05-09 15:48:00</td>\n",
       "      <td>2018-05-08 23:38:46</td>\n",
       "      <td>2017-12-20 00:00:00</td>\n",
       "    </tr>\n",
       "    <tr>\n",
       "      <th>freq</th>\n",
       "      <td>1</td>\n",
       "      <td>1</td>\n",
       "      <td>96478</td>\n",
       "      <td>3</td>\n",
       "      <td>9</td>\n",
       "      <td>47</td>\n",
       "      <td>3</td>\n",
       "      <td>522</td>\n",
       "    </tr>\n",
       "  </tbody>\n",
       "</table>\n",
       "</div>"
      ],
      "text/plain": [
       "                                order_id                       customer_id  \\\n",
       "count                              99441                             99441   \n",
       "unique                             99441                             99441   \n",
       "top     e481f51cbdc54678b7cc49136f2d6af7  9ef432eb6251297304e76186b10a928d   \n",
       "freq                                   1                                 1   \n",
       "\n",
       "       order_status order_purchase_timestamp    order_approved_at  \\\n",
       "count         99441                    99441                99281   \n",
       "unique            8                    98875                90733   \n",
       "top       delivered      2018-04-11 10:48:14  2018-02-27 04:31:10   \n",
       "freq          96478                        3                    9   \n",
       "\n",
       "       order_delivered_carrier_date order_delivered_customer_date  \\\n",
       "count                         97658                         96476   \n",
       "unique                        81018                         95664   \n",
       "top             2018-05-09 15:48:00           2018-05-08 23:38:46   \n",
       "freq                             47                             3   \n",
       "\n",
       "       order_estimated_delivery_date  \n",
       "count                          99441  \n",
       "unique                           459  \n",
       "top              2017-12-20 00:00:00  \n",
       "freq                             522  "
      ]
     },
     "execution_count": 14,
     "metadata": {},
     "output_type": "execute_result"
    }
   ],
   "source": [
    "print(\"Jumlah duplikasi : \", orders_df.duplicated().sum())\n",
    "orders_df.describe()"
   ]
  },
  {
   "cell_type": "code",
   "execution_count": 15,
   "id": "82bc6751-1d52-4f5e-a3e1-ff264c695140",
   "metadata": {},
   "outputs": [
    {
     "data": {
      "text/plain": [
       "0"
      ]
     },
     "execution_count": 15,
     "metadata": {},
     "output_type": "execute_result"
    }
   ],
   "source": [
    "orders_df.duplicated(\"order_id\").sum()"
   ]
  },
  {
   "cell_type": "code",
   "execution_count": 16,
   "id": "8d413036-41c6-4634-be88-7e29f5b7a7d7",
   "metadata": {},
   "outputs": [
    {
     "data": {
      "text/plain": [
       "order_id                            0\n",
       "customer_id                         0\n",
       "order_status                        0\n",
       "order_purchase_timestamp            0\n",
       "order_approved_at                 160\n",
       "order_delivered_carrier_date     1783\n",
       "order_delivered_customer_date    2965\n",
       "order_estimated_delivery_date       0\n",
       "dtype: int64"
      ]
     },
     "execution_count": 16,
     "metadata": {},
     "output_type": "execute_result"
    }
   ],
   "source": [
    "orders_df.isna().sum()"
   ]
  },
  {
   "cell_type": "markdown",
   "id": "679fafb9-3b3b-4dea-973c-456c5ffcc272",
   "metadata": {},
   "source": [
    "Kita akan menggunakan kolom order_purchase_timestamp karena tidak mempunyai missing values"
   ]
  },
  {
   "cell_type": "markdown",
   "id": "910be47b-148a-4a35-a289-b77ece50b167",
   "metadata": {},
   "source": [
    "#### Menilai tabel order_items_df"
   ]
  },
  {
   "cell_type": "code",
   "execution_count": 17,
   "id": "2e27b740-183b-43b0-b719-65661a4b9b67",
   "metadata": {},
   "outputs": [
    {
     "name": "stdout",
     "output_type": "stream",
     "text": [
      "<class 'pandas.core.frame.DataFrame'>\n",
      "RangeIndex: 112650 entries, 0 to 112649\n",
      "Data columns (total 7 columns):\n",
      " #   Column               Non-Null Count   Dtype  \n",
      "---  ------               --------------   -----  \n",
      " 0   order_id             112650 non-null  object \n",
      " 1   order_item_id        112650 non-null  int64  \n",
      " 2   product_id           112650 non-null  object \n",
      " 3   seller_id            112650 non-null  object \n",
      " 4   shipping_limit_date  112650 non-null  object \n",
      " 5   price                112650 non-null  float64\n",
      " 6   freight_value        112650 non-null  float64\n",
      "dtypes: float64(2), int64(1), object(4)\n",
      "memory usage: 6.0+ MB\n"
     ]
    }
   ],
   "source": [
    "order_items_df.info()"
   ]
  },
  {
   "cell_type": "code",
   "execution_count": 18,
   "id": "4a3600bd-002e-41df-b484-b0c645e07c07",
   "metadata": {},
   "outputs": [
    {
     "data": {
      "text/plain": [
       "order_id               0\n",
       "order_item_id          0\n",
       "product_id             0\n",
       "seller_id              0\n",
       "shipping_limit_date    0\n",
       "price                  0\n",
       "freight_value          0\n",
       "dtype: int64"
      ]
     },
     "execution_count": 18,
     "metadata": {},
     "output_type": "execute_result"
    }
   ],
   "source": [
    "order_items_df.isna().sum()"
   ]
  },
  {
   "cell_type": "code",
   "execution_count": 19,
   "id": "90aed45f-f1a3-4a7b-8410-abb19b04ad5f",
   "metadata": {},
   "outputs": [
    {
     "data": {
      "text/plain": [
       "order_id               98666\n",
       "order_item_id             21\n",
       "product_id             32951\n",
       "seller_id               3095\n",
       "shipping_limit_date    93318\n",
       "price                   5968\n",
       "freight_value           6999\n",
       "dtype: int64"
      ]
     },
     "execution_count": 19,
     "metadata": {},
     "output_type": "execute_result"
    }
   ],
   "source": [
    "order_items_df.nunique()"
   ]
  },
  {
   "cell_type": "code",
   "execution_count": 20,
   "id": "15e9f9a8-6dc8-445f-ac28-8be26f0ccb44",
   "metadata": {},
   "outputs": [
    {
     "name": "stdout",
     "output_type": "stream",
     "text": [
      "Jumlah duplikasi :  0\n"
     ]
    },
    {
     "data": {
      "text/html": [
       "<div>\n",
       "<style scoped>\n",
       "    .dataframe tbody tr th:only-of-type {\n",
       "        vertical-align: middle;\n",
       "    }\n",
       "\n",
       "    .dataframe tbody tr th {\n",
       "        vertical-align: top;\n",
       "    }\n",
       "\n",
       "    .dataframe thead th {\n",
       "        text-align: right;\n",
       "    }\n",
       "</style>\n",
       "<table border=\"1\" class=\"dataframe\">\n",
       "  <thead>\n",
       "    <tr style=\"text-align: right;\">\n",
       "      <th></th>\n",
       "      <th>order_item_id</th>\n",
       "      <th>price</th>\n",
       "      <th>freight_value</th>\n",
       "    </tr>\n",
       "  </thead>\n",
       "  <tbody>\n",
       "    <tr>\n",
       "      <th>count</th>\n",
       "      <td>112650.000000</td>\n",
       "      <td>112650.000000</td>\n",
       "      <td>112650.000000</td>\n",
       "    </tr>\n",
       "    <tr>\n",
       "      <th>mean</th>\n",
       "      <td>1.197834</td>\n",
       "      <td>120.653739</td>\n",
       "      <td>19.990320</td>\n",
       "    </tr>\n",
       "    <tr>\n",
       "      <th>std</th>\n",
       "      <td>0.705124</td>\n",
       "      <td>183.633928</td>\n",
       "      <td>15.806405</td>\n",
       "    </tr>\n",
       "    <tr>\n",
       "      <th>min</th>\n",
       "      <td>1.000000</td>\n",
       "      <td>0.850000</td>\n",
       "      <td>0.000000</td>\n",
       "    </tr>\n",
       "    <tr>\n",
       "      <th>25%</th>\n",
       "      <td>1.000000</td>\n",
       "      <td>39.900000</td>\n",
       "      <td>13.080000</td>\n",
       "    </tr>\n",
       "    <tr>\n",
       "      <th>50%</th>\n",
       "      <td>1.000000</td>\n",
       "      <td>74.990000</td>\n",
       "      <td>16.260000</td>\n",
       "    </tr>\n",
       "    <tr>\n",
       "      <th>75%</th>\n",
       "      <td>1.000000</td>\n",
       "      <td>134.900000</td>\n",
       "      <td>21.150000</td>\n",
       "    </tr>\n",
       "    <tr>\n",
       "      <th>max</th>\n",
       "      <td>21.000000</td>\n",
       "      <td>6735.000000</td>\n",
       "      <td>409.680000</td>\n",
       "    </tr>\n",
       "  </tbody>\n",
       "</table>\n",
       "</div>"
      ],
      "text/plain": [
       "       order_item_id          price  freight_value\n",
       "count  112650.000000  112650.000000  112650.000000\n",
       "mean        1.197834     120.653739      19.990320\n",
       "std         0.705124     183.633928      15.806405\n",
       "min         1.000000       0.850000       0.000000\n",
       "25%         1.000000      39.900000      13.080000\n",
       "50%         1.000000      74.990000      16.260000\n",
       "75%         1.000000     134.900000      21.150000\n",
       "max        21.000000    6735.000000     409.680000"
      ]
     },
     "execution_count": 20,
     "metadata": {},
     "output_type": "execute_result"
    }
   ],
   "source": [
    "print(\"Jumlah duplikasi : \", order_items_df.duplicated().sum())\n",
    "order_items_df.describe()"
   ]
  },
  {
   "cell_type": "markdown",
   "id": "9921a1f6-030e-48bb-ad58-4a11b6dc8c7a",
   "metadata": {},
   "source": [
    "#### Menilai tabel sellers_df"
   ]
  },
  {
   "cell_type": "code",
   "execution_count": 21,
   "id": "6ffe1a38-0ce5-42b9-b440-5f7da7645428",
   "metadata": {},
   "outputs": [
    {
     "name": "stdout",
     "output_type": "stream",
     "text": [
      "<class 'pandas.core.frame.DataFrame'>\n",
      "RangeIndex: 3095 entries, 0 to 3094\n",
      "Data columns (total 4 columns):\n",
      " #   Column                  Non-Null Count  Dtype \n",
      "---  ------                  --------------  ----- \n",
      " 0   seller_id               3095 non-null   object\n",
      " 1   seller_zip_code_prefix  3095 non-null   int64 \n",
      " 2   seller_city             3095 non-null   object\n",
      " 3   seller_state            3095 non-null   object\n",
      "dtypes: int64(1), object(3)\n",
      "memory usage: 96.8+ KB\n"
     ]
    }
   ],
   "source": [
    "sellers_df.info()"
   ]
  },
  {
   "cell_type": "code",
   "execution_count": 22,
   "id": "fed9ac88-3478-42b1-9c55-06d5ea43a58a",
   "metadata": {},
   "outputs": [
    {
     "data": {
      "text/plain": [
       "seller_id                 0\n",
       "seller_zip_code_prefix    0\n",
       "seller_city               0\n",
       "seller_state              0\n",
       "dtype: int64"
      ]
     },
     "execution_count": 22,
     "metadata": {},
     "output_type": "execute_result"
    }
   ],
   "source": [
    "sellers_df.isna().sum()"
   ]
  },
  {
   "cell_type": "code",
   "execution_count": 23,
   "id": "3ea72b2d-fc9f-4164-a415-4c05faa695d3",
   "metadata": {},
   "outputs": [
    {
     "name": "stdout",
     "output_type": "stream",
     "text": [
      "Jumlah duplikasi:  0\n"
     ]
    },
    {
     "data": {
      "text/html": [
       "<div>\n",
       "<style scoped>\n",
       "    .dataframe tbody tr th:only-of-type {\n",
       "        vertical-align: middle;\n",
       "    }\n",
       "\n",
       "    .dataframe tbody tr th {\n",
       "        vertical-align: top;\n",
       "    }\n",
       "\n",
       "    .dataframe thead th {\n",
       "        text-align: right;\n",
       "    }\n",
       "</style>\n",
       "<table border=\"1\" class=\"dataframe\">\n",
       "  <thead>\n",
       "    <tr style=\"text-align: right;\">\n",
       "      <th></th>\n",
       "      <th>seller_zip_code_prefix</th>\n",
       "    </tr>\n",
       "  </thead>\n",
       "  <tbody>\n",
       "    <tr>\n",
       "      <th>count</th>\n",
       "      <td>3095.000000</td>\n",
       "    </tr>\n",
       "    <tr>\n",
       "      <th>mean</th>\n",
       "      <td>32291.059451</td>\n",
       "    </tr>\n",
       "    <tr>\n",
       "      <th>std</th>\n",
       "      <td>32713.453830</td>\n",
       "    </tr>\n",
       "    <tr>\n",
       "      <th>min</th>\n",
       "      <td>1001.000000</td>\n",
       "    </tr>\n",
       "    <tr>\n",
       "      <th>25%</th>\n",
       "      <td>7093.500000</td>\n",
       "    </tr>\n",
       "    <tr>\n",
       "      <th>50%</th>\n",
       "      <td>14940.000000</td>\n",
       "    </tr>\n",
       "    <tr>\n",
       "      <th>75%</th>\n",
       "      <td>64552.500000</td>\n",
       "    </tr>\n",
       "    <tr>\n",
       "      <th>max</th>\n",
       "      <td>99730.000000</td>\n",
       "    </tr>\n",
       "  </tbody>\n",
       "</table>\n",
       "</div>"
      ],
      "text/plain": [
       "       seller_zip_code_prefix\n",
       "count             3095.000000\n",
       "mean             32291.059451\n",
       "std              32713.453830\n",
       "min               1001.000000\n",
       "25%               7093.500000\n",
       "50%              14940.000000\n",
       "75%              64552.500000\n",
       "max              99730.000000"
      ]
     },
     "execution_count": 23,
     "metadata": {},
     "output_type": "execute_result"
    }
   ],
   "source": [
    "print(\"Jumlah duplikasi: \", sellers_df.duplicated().sum())\n",
    "sellers_df.describe()"
   ]
  },
  {
   "cell_type": "code",
   "execution_count": 24,
   "id": "75efc88d-d70f-4578-aa9f-74bf4041e4f9",
   "metadata": {},
   "outputs": [
    {
     "data": {
      "text/plain": [
       "seller_id                 3095\n",
       "seller_zip_code_prefix    2246\n",
       "seller_city                611\n",
       "seller_state                23\n",
       "dtype: int64"
      ]
     },
     "execution_count": 24,
     "metadata": {},
     "output_type": "execute_result"
    }
   ],
   "source": [
    "sellers_df.nunique()"
   ]
  },
  {
   "cell_type": "markdown",
   "id": "4d959f74-41ae-46d3-b07d-b93693818e82",
   "metadata": {},
   "source": [
    "#### Menilai tabel products_df"
   ]
  },
  {
   "cell_type": "code",
   "execution_count": 25,
   "id": "0a6b7895-1950-4c3b-8228-1ce0ee978e94",
   "metadata": {},
   "outputs": [
    {
     "name": "stdout",
     "output_type": "stream",
     "text": [
      "<class 'pandas.core.frame.DataFrame'>\n",
      "RangeIndex: 32951 entries, 0 to 32950\n",
      "Data columns (total 9 columns):\n",
      " #   Column                      Non-Null Count  Dtype  \n",
      "---  ------                      --------------  -----  \n",
      " 0   product_id                  32951 non-null  object \n",
      " 1   product_category_name       32341 non-null  object \n",
      " 2   product_name_lenght         32341 non-null  float64\n",
      " 3   product_description_lenght  32341 non-null  float64\n",
      " 4   product_photos_qty          32341 non-null  float64\n",
      " 5   product_weight_g            32949 non-null  float64\n",
      " 6   product_length_cm           32949 non-null  float64\n",
      " 7   product_height_cm           32949 non-null  float64\n",
      " 8   product_width_cm            32949 non-null  float64\n",
      "dtypes: float64(7), object(2)\n",
      "memory usage: 2.3+ MB\n"
     ]
    }
   ],
   "source": [
    "products_df.info()"
   ]
  },
  {
   "cell_type": "code",
   "execution_count": 26,
   "id": "6d436ea6-3c7b-4786-83bd-9763a39162d4",
   "metadata": {},
   "outputs": [
    {
     "name": "stdout",
     "output_type": "stream",
     "text": [
      "Jumlah duplikasi:  0\n"
     ]
    },
    {
     "data": {
      "text/html": [
       "<div>\n",
       "<style scoped>\n",
       "    .dataframe tbody tr th:only-of-type {\n",
       "        vertical-align: middle;\n",
       "    }\n",
       "\n",
       "    .dataframe tbody tr th {\n",
       "        vertical-align: top;\n",
       "    }\n",
       "\n",
       "    .dataframe thead th {\n",
       "        text-align: right;\n",
       "    }\n",
       "</style>\n",
       "<table border=\"1\" class=\"dataframe\">\n",
       "  <thead>\n",
       "    <tr style=\"text-align: right;\">\n",
       "      <th></th>\n",
       "      <th>product_name_lenght</th>\n",
       "      <th>product_description_lenght</th>\n",
       "      <th>product_photos_qty</th>\n",
       "      <th>product_weight_g</th>\n",
       "      <th>product_length_cm</th>\n",
       "      <th>product_height_cm</th>\n",
       "      <th>product_width_cm</th>\n",
       "    </tr>\n",
       "  </thead>\n",
       "  <tbody>\n",
       "    <tr>\n",
       "      <th>count</th>\n",
       "      <td>32341.000000</td>\n",
       "      <td>32341.000000</td>\n",
       "      <td>32341.000000</td>\n",
       "      <td>32949.000000</td>\n",
       "      <td>32949.000000</td>\n",
       "      <td>32949.000000</td>\n",
       "      <td>32949.000000</td>\n",
       "    </tr>\n",
       "    <tr>\n",
       "      <th>mean</th>\n",
       "      <td>48.476949</td>\n",
       "      <td>771.495285</td>\n",
       "      <td>2.188986</td>\n",
       "      <td>2276.472488</td>\n",
       "      <td>30.815078</td>\n",
       "      <td>16.937661</td>\n",
       "      <td>23.196728</td>\n",
       "    </tr>\n",
       "    <tr>\n",
       "      <th>std</th>\n",
       "      <td>10.245741</td>\n",
       "      <td>635.115225</td>\n",
       "      <td>1.736766</td>\n",
       "      <td>4282.038731</td>\n",
       "      <td>16.914458</td>\n",
       "      <td>13.637554</td>\n",
       "      <td>12.079047</td>\n",
       "    </tr>\n",
       "    <tr>\n",
       "      <th>min</th>\n",
       "      <td>5.000000</td>\n",
       "      <td>4.000000</td>\n",
       "      <td>1.000000</td>\n",
       "      <td>0.000000</td>\n",
       "      <td>7.000000</td>\n",
       "      <td>2.000000</td>\n",
       "      <td>6.000000</td>\n",
       "    </tr>\n",
       "    <tr>\n",
       "      <th>25%</th>\n",
       "      <td>42.000000</td>\n",
       "      <td>339.000000</td>\n",
       "      <td>1.000000</td>\n",
       "      <td>300.000000</td>\n",
       "      <td>18.000000</td>\n",
       "      <td>8.000000</td>\n",
       "      <td>15.000000</td>\n",
       "    </tr>\n",
       "    <tr>\n",
       "      <th>50%</th>\n",
       "      <td>51.000000</td>\n",
       "      <td>595.000000</td>\n",
       "      <td>1.000000</td>\n",
       "      <td>700.000000</td>\n",
       "      <td>25.000000</td>\n",
       "      <td>13.000000</td>\n",
       "      <td>20.000000</td>\n",
       "    </tr>\n",
       "    <tr>\n",
       "      <th>75%</th>\n",
       "      <td>57.000000</td>\n",
       "      <td>972.000000</td>\n",
       "      <td>3.000000</td>\n",
       "      <td>1900.000000</td>\n",
       "      <td>38.000000</td>\n",
       "      <td>21.000000</td>\n",
       "      <td>30.000000</td>\n",
       "    </tr>\n",
       "    <tr>\n",
       "      <th>max</th>\n",
       "      <td>76.000000</td>\n",
       "      <td>3992.000000</td>\n",
       "      <td>20.000000</td>\n",
       "      <td>40425.000000</td>\n",
       "      <td>105.000000</td>\n",
       "      <td>105.000000</td>\n",
       "      <td>118.000000</td>\n",
       "    </tr>\n",
       "  </tbody>\n",
       "</table>\n",
       "</div>"
      ],
      "text/plain": [
       "       product_name_lenght  product_description_lenght  product_photos_qty  \\\n",
       "count         32341.000000                32341.000000        32341.000000   \n",
       "mean             48.476949                  771.495285            2.188986   \n",
       "std              10.245741                  635.115225            1.736766   \n",
       "min               5.000000                    4.000000            1.000000   \n",
       "25%              42.000000                  339.000000            1.000000   \n",
       "50%              51.000000                  595.000000            1.000000   \n",
       "75%              57.000000                  972.000000            3.000000   \n",
       "max              76.000000                 3992.000000           20.000000   \n",
       "\n",
       "       product_weight_g  product_length_cm  product_height_cm  \\\n",
       "count      32949.000000       32949.000000       32949.000000   \n",
       "mean        2276.472488          30.815078          16.937661   \n",
       "std         4282.038731          16.914458          13.637554   \n",
       "min            0.000000           7.000000           2.000000   \n",
       "25%          300.000000          18.000000           8.000000   \n",
       "50%          700.000000          25.000000          13.000000   \n",
       "75%         1900.000000          38.000000          21.000000   \n",
       "max        40425.000000         105.000000         105.000000   \n",
       "\n",
       "       product_width_cm  \n",
       "count      32949.000000  \n",
       "mean          23.196728  \n",
       "std           12.079047  \n",
       "min            6.000000  \n",
       "25%           15.000000  \n",
       "50%           20.000000  \n",
       "75%           30.000000  \n",
       "max          118.000000  "
      ]
     },
     "execution_count": 26,
     "metadata": {},
     "output_type": "execute_result"
    }
   ],
   "source": [
    "print(\"Jumlah duplikasi: \",products_df.duplicated().sum())\n",
    "products_df.describe()"
   ]
  },
  {
   "cell_type": "code",
   "execution_count": 27,
   "id": "5930c7ba-74d4-4725-a5ee-f917775118d2",
   "metadata": {},
   "outputs": [
    {
     "data": {
      "text/plain": [
       "product_id                    32951\n",
       "product_category_name            73\n",
       "product_name_lenght              66\n",
       "product_description_lenght     2960\n",
       "product_photos_qty               19\n",
       "product_weight_g               2204\n",
       "product_length_cm                99\n",
       "product_height_cm               102\n",
       "product_width_cm                 95\n",
       "dtype: int64"
      ]
     },
     "execution_count": 27,
     "metadata": {},
     "output_type": "execute_result"
    }
   ],
   "source": [
    "products_df.nunique()"
   ]
  },
  {
   "cell_type": "code",
   "execution_count": 28,
   "id": "0db99b9a-d356-4e00-b03b-4304c9da99f6",
   "metadata": {},
   "outputs": [
    {
     "data": {
      "text/plain": [
       "product_id                      0\n",
       "product_category_name         610\n",
       "product_name_lenght           610\n",
       "product_description_lenght    610\n",
       "product_photos_qty            610\n",
       "product_weight_g                2\n",
       "product_length_cm               2\n",
       "product_height_cm               2\n",
       "product_width_cm                2\n",
       "dtype: int64"
      ]
     },
     "execution_count": 28,
     "metadata": {},
     "output_type": "execute_result"
    }
   ],
   "source": [
    "products_df.isna().sum()"
   ]
  },
  {
   "cell_type": "markdown",
   "id": "dc7cf2bf-aca7-496c-97f4-43b34586095c",
   "metadata": {},
   "source": [
    "Terdapat baris yang kosong pada tabel products_df"
   ]
  },
  {
   "cell_type": "markdown",
   "id": "36e76e4c-e50e-4bfc-8be3-3556be87017e",
   "metadata": {},
   "source": [
    "#### Menilai tabel product_category_english_df"
   ]
  },
  {
   "cell_type": "code",
   "execution_count": 29,
   "id": "75cc1bb4-4c40-4342-9b85-b8c61c8ae119",
   "metadata": {},
   "outputs": [
    {
     "name": "stdout",
     "output_type": "stream",
     "text": [
      "<class 'pandas.core.frame.DataFrame'>\n",
      "RangeIndex: 71 entries, 0 to 70\n",
      "Data columns (total 2 columns):\n",
      " #   Column                         Non-Null Count  Dtype \n",
      "---  ------                         --------------  ----- \n",
      " 0   product_category_name          71 non-null     object\n",
      " 1   product_category_name_english  71 non-null     object\n",
      "dtypes: object(2)\n",
      "memory usage: 1.2+ KB\n"
     ]
    }
   ],
   "source": [
    "product_category_english_df.info()"
   ]
  },
  {
   "cell_type": "code",
   "execution_count": 30,
   "id": "7089652a-0f9a-496f-9102-88b5ce26ca98",
   "metadata": {},
   "outputs": [
    {
     "data": {
      "text/plain": [
       "product_category_name            71\n",
       "product_category_name_english    71\n",
       "dtype: int64"
      ]
     },
     "execution_count": 30,
     "metadata": {},
     "output_type": "execute_result"
    }
   ],
   "source": [
    "product_category_english_df.nunique()"
   ]
  },
  {
   "cell_type": "code",
   "execution_count": 31,
   "id": "301e680f-dc9f-4b84-a37b-3b1aa4031599",
   "metadata": {},
   "outputs": [
    {
     "data": {
      "text/plain": [
       "product_category_name            0\n",
       "product_category_name_english    0\n",
       "dtype: int64"
      ]
     },
     "execution_count": 31,
     "metadata": {},
     "output_type": "execute_result"
    }
   ],
   "source": [
    "product_category_english_df.isna().sum()"
   ]
  },
  {
   "cell_type": "code",
   "execution_count": 32,
   "id": "2fe20aa6-c219-4211-a2fb-d0fa972ba675",
   "metadata": {},
   "outputs": [
    {
     "name": "stdout",
     "output_type": "stream",
     "text": [
      "Jumlah duplikasi :  0\n"
     ]
    },
    {
     "data": {
      "text/html": [
       "<div>\n",
       "<style scoped>\n",
       "    .dataframe tbody tr th:only-of-type {\n",
       "        vertical-align: middle;\n",
       "    }\n",
       "\n",
       "    .dataframe tbody tr th {\n",
       "        vertical-align: top;\n",
       "    }\n",
       "\n",
       "    .dataframe thead th {\n",
       "        text-align: right;\n",
       "    }\n",
       "</style>\n",
       "<table border=\"1\" class=\"dataframe\">\n",
       "  <thead>\n",
       "    <tr style=\"text-align: right;\">\n",
       "      <th></th>\n",
       "      <th>product_category_name</th>\n",
       "      <th>product_category_name_english</th>\n",
       "    </tr>\n",
       "  </thead>\n",
       "  <tbody>\n",
       "    <tr>\n",
       "      <th>count</th>\n",
       "      <td>71</td>\n",
       "      <td>71</td>\n",
       "    </tr>\n",
       "    <tr>\n",
       "      <th>unique</th>\n",
       "      <td>71</td>\n",
       "      <td>71</td>\n",
       "    </tr>\n",
       "    <tr>\n",
       "      <th>top</th>\n",
       "      <td>beleza_saude</td>\n",
       "      <td>health_beauty</td>\n",
       "    </tr>\n",
       "    <tr>\n",
       "      <th>freq</th>\n",
       "      <td>1</td>\n",
       "      <td>1</td>\n",
       "    </tr>\n",
       "  </tbody>\n",
       "</table>\n",
       "</div>"
      ],
      "text/plain": [
       "       product_category_name product_category_name_english\n",
       "count                     71                            71\n",
       "unique                    71                            71\n",
       "top             beleza_saude                 health_beauty\n",
       "freq                       1                             1"
      ]
     },
     "execution_count": 32,
     "metadata": {},
     "output_type": "execute_result"
    }
   ],
   "source": [
    "print(\"Jumlah duplikasi : \", product_category_english_df.duplicated().sum())\n",
    "product_category_english_df.describe()"
   ]
  },
  {
   "cell_type": "markdown",
   "id": "a2fce029-3bd8-4b01-b358-0c37f9590c7e",
   "metadata": {},
   "source": [
    "### Cleaning Data"
   ]
  },
  {
   "cell_type": "markdown",
   "id": "56a446c4-3b57-4f54-a271-fd2ddf1c804b",
   "metadata": {},
   "source": [
    "#### Membersihkan tabel orders_df"
   ]
  },
  {
   "cell_type": "code",
   "execution_count": 33,
   "id": "6da0809d-c4e5-4a16-8a92-6684358c352e",
   "metadata": {},
   "outputs": [
    {
     "name": "stdout",
     "output_type": "stream",
     "text": [
      "<class 'pandas.core.frame.DataFrame'>\n",
      "RangeIndex: 99441 entries, 0 to 99440\n",
      "Data columns (total 8 columns):\n",
      " #   Column                         Non-Null Count  Dtype \n",
      "---  ------                         --------------  ----- \n",
      " 0   order_id                       99441 non-null  object\n",
      " 1   customer_id                    99441 non-null  object\n",
      " 2   order_status                   99441 non-null  object\n",
      " 3   order_purchase_timestamp       99441 non-null  object\n",
      " 4   order_approved_at              99281 non-null  object\n",
      " 5   order_delivered_carrier_date   97658 non-null  object\n",
      " 6   order_delivered_customer_date  96476 non-null  object\n",
      " 7   order_estimated_delivery_date  99441 non-null  object\n",
      "dtypes: object(8)\n",
      "memory usage: 6.1+ MB\n"
     ]
    }
   ],
   "source": [
    "orders_df.info()"
   ]
  },
  {
   "cell_type": "markdown",
   "id": "ab88102e-a641-4d27-a9c8-6fc69b5faabb",
   "metadata": {},
   "source": [
    "##### Mengganti tipe data"
   ]
  },
  {
   "cell_type": "code",
   "execution_count": 34,
   "id": "0d91fe4f-232d-475b-bf04-7ef10715f00f",
   "metadata": {},
   "outputs": [],
   "source": [
    "datetime_columns = [\"order_purchase_timestamp\", \"order_approved_at\",\n",
    "                    \"order_delivered_carrier_date\",\n",
    "                    \"order_delivered_customer_date\",\n",
    "                    \"order_estimated_delivery_date\"]\n",
    "for column in datetime_columns:\n",
    "    orders_df[column] = pd.to_datetime(orders_df[column])"
   ]
  },
  {
   "cell_type": "code",
   "execution_count": 35,
   "id": "52a5b674-e363-4d66-b34e-653a5ff70855",
   "metadata": {},
   "outputs": [
    {
     "name": "stdout",
     "output_type": "stream",
     "text": [
      "<class 'pandas.core.frame.DataFrame'>\n",
      "RangeIndex: 99441 entries, 0 to 99440\n",
      "Data columns (total 8 columns):\n",
      " #   Column                         Non-Null Count  Dtype         \n",
      "---  ------                         --------------  -----         \n",
      " 0   order_id                       99441 non-null  object        \n",
      " 1   customer_id                    99441 non-null  object        \n",
      " 2   order_status                   99441 non-null  object        \n",
      " 3   order_purchase_timestamp       99441 non-null  datetime64[ns]\n",
      " 4   order_approved_at              99281 non-null  datetime64[ns]\n",
      " 5   order_delivered_carrier_date   97658 non-null  datetime64[ns]\n",
      " 6   order_delivered_customer_date  96476 non-null  datetime64[ns]\n",
      " 7   order_estimated_delivery_date  99441 non-null  datetime64[ns]\n",
      "dtypes: datetime64[ns](5), object(3)\n",
      "memory usage: 6.1+ MB\n"
     ]
    }
   ],
   "source": [
    "orders_df.info()"
   ]
  },
  {
   "cell_type": "markdown",
   "id": "db9753f3-effd-4fe4-92e9-257939d01d55",
   "metadata": {},
   "source": [
    "#### Membersihkan tabel products_df dan product_category_english"
   ]
  },
  {
   "cell_type": "markdown",
   "id": "709b0446-bd7e-455d-9950-0b3964955830",
   "metadata": {},
   "source": [
    "##### Missing values"
   ]
  },
  {
   "cell_type": "code",
   "execution_count": 36,
   "id": "61fc258e-e423-4db7-8ee1-00cf4a14b4d8",
   "metadata": {},
   "outputs": [
    {
     "data": {
      "text/plain": [
       "product_id                      0\n",
       "product_category_name         610\n",
       "product_name_lenght           610\n",
       "product_description_lenght    610\n",
       "product_photos_qty            610\n",
       "product_weight_g                2\n",
       "product_length_cm               2\n",
       "product_height_cm               2\n",
       "product_width_cm                2\n",
       "dtype: int64"
      ]
     },
     "execution_count": 36,
     "metadata": {},
     "output_type": "execute_result"
    }
   ],
   "source": [
    "products_df.isna().sum()"
   ]
  },
  {
   "cell_type": "code",
   "execution_count": 37,
   "id": "560b4b6c-bb02-4b9d-b843-b1a2503cc804",
   "metadata": {},
   "outputs": [
    {
     "data": {
      "text/plain": [
       "product_category_name\n",
       "cama_mesa_banho                  3029\n",
       "esporte_lazer                    2867\n",
       "moveis_decoracao                 2657\n",
       "beleza_saude                     2444\n",
       "utilidades_domesticas            2335\n",
       "                                 ... \n",
       "fashion_roupa_infanto_juvenil       5\n",
       "casa_conforto_2                     5\n",
       "pc_gamer                            3\n",
       "seguros_e_servicos                  2\n",
       "cds_dvds_musicais                   1\n",
       "Name: count, Length: 73, dtype: int64"
      ]
     },
     "execution_count": 37,
     "metadata": {},
     "output_type": "execute_result"
    }
   ],
   "source": [
    "products_df.product_category_name.value_counts()"
   ]
  },
  {
   "cell_type": "code",
   "execution_count": 38,
   "id": "1930bc25-92b9-4e6b-bfab-4a8280f8bc83",
   "metadata": {},
   "outputs": [
    {
     "data": {
      "text/plain": [
       "product_category_name_english\n",
       "health_beauty                1\n",
       "food                         1\n",
       "fashion_sport                1\n",
       "fashion_underwear_beach      1\n",
       "construction_tools_safety    1\n",
       "                            ..\n",
       "luggage_accessories          1\n",
       "cool_stuff                   1\n",
       "fashion_shoes                1\n",
       "audio                        1\n",
       "security_and_services        1\n",
       "Name: count, Length: 71, dtype: int64"
      ]
     },
     "execution_count": 38,
     "metadata": {},
     "output_type": "execute_result"
    }
   ],
   "source": [
    "product_category_english_df.product_category_name_english.value_counts()"
   ]
  },
  {
   "cell_type": "markdown",
   "id": "44396ecd-52f6-46ec-b1bc-9cc59fe44527",
   "metadata": {},
   "source": [
    "Jumlah nilai unik dari product_category_name (dlm bahasa Portugal) = 73.\n",
    "Jumlah nilai unik dari product_category_name_english (dlm bahasa Inggris) = 71.\n",
    "Berarti ada 2 product dalam bhs Portugal yang tidak ada padanannya dalam bahasa Inggris."
   ]
  },
  {
   "cell_type": "markdown",
   "id": "804b19dc-6c1d-4b03-b8e8-3cf3d9e917bc",
   "metadata": {},
   "source": [
    "##### Menggabungkan data products_df dan product_category_english_df"
   ]
  },
  {
   "cell_type": "code",
   "execution_count": 39,
   "id": "dbfd1b71-727e-4572-8a00-db466cd22e51",
   "metadata": {},
   "outputs": [
    {
     "data": {
      "text/html": [
       "<div>\n",
       "<style scoped>\n",
       "    .dataframe tbody tr th:only-of-type {\n",
       "        vertical-align: middle;\n",
       "    }\n",
       "\n",
       "    .dataframe tbody tr th {\n",
       "        vertical-align: top;\n",
       "    }\n",
       "\n",
       "    .dataframe thead th {\n",
       "        text-align: right;\n",
       "    }\n",
       "</style>\n",
       "<table border=\"1\" class=\"dataframe\">\n",
       "  <thead>\n",
       "    <tr style=\"text-align: right;\">\n",
       "      <th></th>\n",
       "      <th>product_id</th>\n",
       "      <th>product_category_name</th>\n",
       "      <th>product_name_lenght</th>\n",
       "      <th>product_description_lenght</th>\n",
       "      <th>product_photos_qty</th>\n",
       "      <th>product_weight_g</th>\n",
       "      <th>product_length_cm</th>\n",
       "      <th>product_height_cm</th>\n",
       "      <th>product_width_cm</th>\n",
       "      <th>product_category_name_english</th>\n",
       "    </tr>\n",
       "  </thead>\n",
       "  <tbody>\n",
       "    <tr>\n",
       "      <th>0</th>\n",
       "      <td>1e9e8ef04dbcff4541ed26657ea517e5</td>\n",
       "      <td>perfumaria</td>\n",
       "      <td>40.0</td>\n",
       "      <td>287.0</td>\n",
       "      <td>1.0</td>\n",
       "      <td>225.0</td>\n",
       "      <td>16.0</td>\n",
       "      <td>10.0</td>\n",
       "      <td>14.0</td>\n",
       "      <td>perfumery</td>\n",
       "    </tr>\n",
       "    <tr>\n",
       "      <th>1</th>\n",
       "      <td>3aa071139cb16b67ca9e5dea641aaa2f</td>\n",
       "      <td>artes</td>\n",
       "      <td>44.0</td>\n",
       "      <td>276.0</td>\n",
       "      <td>1.0</td>\n",
       "      <td>1000.0</td>\n",
       "      <td>30.0</td>\n",
       "      <td>18.0</td>\n",
       "      <td>20.0</td>\n",
       "      <td>art</td>\n",
       "    </tr>\n",
       "    <tr>\n",
       "      <th>2</th>\n",
       "      <td>96bd76ec8810374ed1b65e291975717f</td>\n",
       "      <td>esporte_lazer</td>\n",
       "      <td>46.0</td>\n",
       "      <td>250.0</td>\n",
       "      <td>1.0</td>\n",
       "      <td>154.0</td>\n",
       "      <td>18.0</td>\n",
       "      <td>9.0</td>\n",
       "      <td>15.0</td>\n",
       "      <td>sports_leisure</td>\n",
       "    </tr>\n",
       "    <tr>\n",
       "      <th>3</th>\n",
       "      <td>cef67bcfe19066a932b7673e239eb23d</td>\n",
       "      <td>bebes</td>\n",
       "      <td>27.0</td>\n",
       "      <td>261.0</td>\n",
       "      <td>1.0</td>\n",
       "      <td>371.0</td>\n",
       "      <td>26.0</td>\n",
       "      <td>4.0</td>\n",
       "      <td>26.0</td>\n",
       "      <td>baby</td>\n",
       "    </tr>\n",
       "    <tr>\n",
       "      <th>4</th>\n",
       "      <td>9dc1a7de274444849c219cff195d0b71</td>\n",
       "      <td>utilidades_domesticas</td>\n",
       "      <td>37.0</td>\n",
       "      <td>402.0</td>\n",
       "      <td>4.0</td>\n",
       "      <td>625.0</td>\n",
       "      <td>20.0</td>\n",
       "      <td>17.0</td>\n",
       "      <td>13.0</td>\n",
       "      <td>housewares</td>\n",
       "    </tr>\n",
       "  </tbody>\n",
       "</table>\n",
       "</div>"
      ],
      "text/plain": [
       "                         product_id  product_category_name  \\\n",
       "0  1e9e8ef04dbcff4541ed26657ea517e5             perfumaria   \n",
       "1  3aa071139cb16b67ca9e5dea641aaa2f                  artes   \n",
       "2  96bd76ec8810374ed1b65e291975717f          esporte_lazer   \n",
       "3  cef67bcfe19066a932b7673e239eb23d                  bebes   \n",
       "4  9dc1a7de274444849c219cff195d0b71  utilidades_domesticas   \n",
       "\n",
       "   product_name_lenght  product_description_lenght  product_photos_qty  \\\n",
       "0                 40.0                       287.0                 1.0   \n",
       "1                 44.0                       276.0                 1.0   \n",
       "2                 46.0                       250.0                 1.0   \n",
       "3                 27.0                       261.0                 1.0   \n",
       "4                 37.0                       402.0                 4.0   \n",
       "\n",
       "   product_weight_g  product_length_cm  product_height_cm  product_width_cm  \\\n",
       "0             225.0               16.0               10.0              14.0   \n",
       "1            1000.0               30.0               18.0              20.0   \n",
       "2             154.0               18.0                9.0              15.0   \n",
       "3             371.0               26.0                4.0              26.0   \n",
       "4             625.0               20.0               17.0              13.0   \n",
       "\n",
       "  product_category_name_english  \n",
       "0                     perfumery  \n",
       "1                           art  \n",
       "2                sports_leisure  \n",
       "3                          baby  \n",
       "4                    housewares  "
      ]
     },
     "execution_count": 39,
     "metadata": {},
     "output_type": "execute_result"
    }
   ],
   "source": [
    "all_products = pd.merge(\n",
    "    left=products_df,\n",
    "    right=product_category_english_df,\n",
    "    how=\"left\",\n",
    "    left_on=\"product_category_name\",\n",
    "    right_on=\"product_category_name\"\n",
    ")\n",
    "all_products.head()"
   ]
  },
  {
   "cell_type": "code",
   "execution_count": 40,
   "id": "9fa09bce-b955-4e65-be22-be0691d19c9e",
   "metadata": {},
   "outputs": [
    {
     "data": {
      "text/plain": [
       "array(['pc_gamer', 'portateis_cozinha_e_preparadores_de_alimentos'],\n",
       "      dtype=object)"
      ]
     },
     "execution_count": 40,
     "metadata": {},
     "output_type": "execute_result"
    }
   ],
   "source": [
    "all_products.product_category_name.loc[all_products.product_category_name_english.isna()\n",
    "& all_products.product_category_name.notnull()].unique()\n"
   ]
  },
  {
   "cell_type": "code",
   "execution_count": 41,
   "id": "75991df0-7567-4165-be11-7fc0e33b8239",
   "metadata": {},
   "outputs": [],
   "source": [
    "# Mengisi missing value pd kolom product_category_name_english sesuai dengan kata\n",
    "# padanannya dalam kolom product_category_name\n",
    "# Mengisi baris yg berisi NaN dengan nama \"other_products\"\n",
    "\n",
    "for i in list (all_products.loc[all_products.product_category_name_english.isna()].index) :\n",
    "    if all_products['product_category_name'].iloc[i] == 'pc_gamer' : \n",
    "        all_products['product_category_name_english'].iloc[i] = 'pc_gaming'\n",
    "    elif all_products['product_category_name'].iloc[i] == 'portateis_cozinha_e_preparadores_de_alimentos' :\n",
    "        all_products['product_category_name_english'].iloc[i] = 'portable_kitchen_and_food_prepare'\n",
    "    else :\n",
    "        all_products['product_category_name_english'].iloc[i] = 'other_products'\n",
    "    "
   ]
  },
  {
   "cell_type": "code",
   "execution_count": 42,
   "id": "c542565f-28b5-48d3-9a45-cfc5b7705df6",
   "metadata": {},
   "outputs": [
    {
     "data": {
      "text/plain": [
       "0        False\n",
       "1        False\n",
       "2        False\n",
       "3        False\n",
       "4        False\n",
       "         ...  \n",
       "32946    False\n",
       "32947    False\n",
       "32948    False\n",
       "32949    False\n",
       "32950    False\n",
       "Name: product_category_name, Length: 32951, dtype: bool"
      ]
     },
     "execution_count": 42,
     "metadata": {},
     "output_type": "execute_result"
    }
   ],
   "source": [
    "all_products.product_category_name.isna()"
   ]
  },
  {
   "cell_type": "code",
   "execution_count": 43,
   "id": "0304a9e7-0226-46e2-995b-c453a7369b64",
   "metadata": {},
   "outputs": [],
   "source": [
    "all_products.product_category_name.fillna(value=\"other_products\", inplace=True)"
   ]
  },
  {
   "cell_type": "code",
   "execution_count": 44,
   "id": "b365b962-3e1d-4a32-a744-668ad2dc1304",
   "metadata": {},
   "outputs": [
    {
     "data": {
      "text/plain": [
       "product_id                         0\n",
       "product_category_name              0\n",
       "product_name_lenght              610\n",
       "product_description_lenght       610\n",
       "product_photos_qty               610\n",
       "product_weight_g                   2\n",
       "product_length_cm                  2\n",
       "product_height_cm                  2\n",
       "product_width_cm                   2\n",
       "product_category_name_english      0\n",
       "dtype: int64"
      ]
     },
     "execution_count": 44,
     "metadata": {},
     "output_type": "execute_result"
    }
   ],
   "source": [
    "all_products.isna().sum()"
   ]
  },
  {
   "cell_type": "markdown",
   "id": "1cf4a601-3c8a-42bf-b168-5373b8bf6877",
   "metadata": {},
   "source": [
    "Sudah tidak ada missing values pada kolom product_category_name dan product_category_name_english"
   ]
  },
  {
   "cell_type": "markdown",
   "id": "fbbf22d2-7a65-45f6-9875-99615550e970",
   "metadata": {},
   "source": [
    "## Exploratory Data Analysis (EDA)"
   ]
  },
  {
   "cell_type": "markdown",
   "id": "0e4aa496-beb8-4cec-926c-5abcf3c99bc4",
   "metadata": {},
   "source": [
    "Setelah proses cleaning data, skr kita mempunyai 5 tabel, yaitu :\n",
    "- customers_df\n",
    "- sellers_df\n",
    "- all_products\n",
    "- orders_df\n",
    "- order_items_df"
   ]
  },
  {
   "cell_type": "markdown",
   "id": "b7d93ce5-ae1d-4a43-8edc-6dd95f55b759",
   "metadata": {},
   "source": [
    "### Explore customers_df"
   ]
  },
  {
   "cell_type": "code",
   "execution_count": 45,
   "id": "1ddb873b-17b3-41cf-920d-600afd53cc79",
   "metadata": {},
   "outputs": [
    {
     "data": {
      "text/html": [
       "<div>\n",
       "<style scoped>\n",
       "    .dataframe tbody tr th:only-of-type {\n",
       "        vertical-align: middle;\n",
       "    }\n",
       "\n",
       "    .dataframe tbody tr th {\n",
       "        vertical-align: top;\n",
       "    }\n",
       "\n",
       "    .dataframe thead th {\n",
       "        text-align: right;\n",
       "    }\n",
       "</style>\n",
       "<table border=\"1\" class=\"dataframe\">\n",
       "  <thead>\n",
       "    <tr style=\"text-align: right;\">\n",
       "      <th></th>\n",
       "      <th>customer_id</th>\n",
       "      <th>customer_unique_id</th>\n",
       "      <th>customer_zip_code_prefix</th>\n",
       "      <th>customer_city</th>\n",
       "      <th>customer_state</th>\n",
       "    </tr>\n",
       "  </thead>\n",
       "  <tbody>\n",
       "    <tr>\n",
       "      <th>98842</th>\n",
       "      <td>22d71d5bfb32603ec8ebdf2bf6bde858</td>\n",
       "      <td>d6cc0da84bab73e02c4a3afaffa8abe6</td>\n",
       "      <td>38280</td>\n",
       "      <td>iturama</td>\n",
       "      <td>MG</td>\n",
       "    </tr>\n",
       "    <tr>\n",
       "      <th>3211</th>\n",
       "      <td>82a781c07728515614b37ed49101b063</td>\n",
       "      <td>2968cb453924e6c2381a1f4320c50e94</td>\n",
       "      <td>2223</td>\n",
       "      <td>sao paulo</td>\n",
       "      <td>SP</td>\n",
       "    </tr>\n",
       "    <tr>\n",
       "      <th>53377</th>\n",
       "      <td>320eefc764d8d3c3b9c88173c7e46943</td>\n",
       "      <td>9563467c58d0288dddd8ed8ba3a7e785</td>\n",
       "      <td>31615</td>\n",
       "      <td>belo horizonte</td>\n",
       "      <td>MG</td>\n",
       "    </tr>\n",
       "    <tr>\n",
       "      <th>47031</th>\n",
       "      <td>278d8ca725342a1f850e1ebbe341b052</td>\n",
       "      <td>e9dde8681b9a6edddc49eb0fabad01f0</td>\n",
       "      <td>4186</td>\n",
       "      <td>sao paulo</td>\n",
       "      <td>SP</td>\n",
       "    </tr>\n",
       "    <tr>\n",
       "      <th>98250</th>\n",
       "      <td>3ff05485c0ca23db85b36f0496d71d5b</td>\n",
       "      <td>31ecad36683b9b0ba61de1140f4857bf</td>\n",
       "      <td>5713</td>\n",
       "      <td>sao paulo</td>\n",
       "      <td>SP</td>\n",
       "    </tr>\n",
       "  </tbody>\n",
       "</table>\n",
       "</div>"
      ],
      "text/plain": [
       "                            customer_id                customer_unique_id  \\\n",
       "98842  22d71d5bfb32603ec8ebdf2bf6bde858  d6cc0da84bab73e02c4a3afaffa8abe6   \n",
       "3211   82a781c07728515614b37ed49101b063  2968cb453924e6c2381a1f4320c50e94   \n",
       "53377  320eefc764d8d3c3b9c88173c7e46943  9563467c58d0288dddd8ed8ba3a7e785   \n",
       "47031  278d8ca725342a1f850e1ebbe341b052  e9dde8681b9a6edddc49eb0fabad01f0   \n",
       "98250  3ff05485c0ca23db85b36f0496d71d5b  31ecad36683b9b0ba61de1140f4857bf   \n",
       "\n",
       "       customer_zip_code_prefix   customer_city customer_state  \n",
       "98842                     38280         iturama             MG  \n",
       "3211                       2223       sao paulo             SP  \n",
       "53377                     31615  belo horizonte             MG  \n",
       "47031                      4186       sao paulo             SP  \n",
       "98250                      5713       sao paulo             SP  "
      ]
     },
     "execution_count": 45,
     "metadata": {},
     "output_type": "execute_result"
    }
   ],
   "source": [
    "customers_df.sample(5)"
   ]
  },
  {
   "cell_type": "code",
   "execution_count": 46,
   "id": "bf485841-1102-4880-9fbb-8706cce9d678",
   "metadata": {},
   "outputs": [
    {
     "data": {
      "text/plain": [
       "False"
      ]
     },
     "execution_count": 46,
     "metadata": {},
     "output_type": "execute_result"
    }
   ],
   "source": [
    "customers_df.customer_unique_id.is_unique"
   ]
  },
  {
   "cell_type": "markdown",
   "id": "9bf3e53e-388e-4e4f-a888-fab7edb817a8",
   "metadata": {},
   "source": [
    "Menghapus kolom yang tidak diperlukan, yaitu : customer_zip_code_prefix"
   ]
  },
  {
   "cell_type": "code",
   "execution_count": 47,
   "id": "ecaad7e7-c995-4a47-99fc-ef042805959f",
   "metadata": {},
   "outputs": [],
   "source": [
    "customers_df.drop(columns=[\"customer_zip_code_prefix\"], inplace=True)"
   ]
  },
  {
   "cell_type": "code",
   "execution_count": 48,
   "id": "93818f6c-ab2a-4a83-a0bd-d8d0ac9ee7e8",
   "metadata": {},
   "outputs": [
    {
     "name": "stdout",
     "output_type": "stream",
     "text": [
      "<class 'pandas.core.frame.DataFrame'>\n",
      "RangeIndex: 99441 entries, 0 to 99440\n",
      "Data columns (total 4 columns):\n",
      " #   Column              Non-Null Count  Dtype \n",
      "---  ------              --------------  ----- \n",
      " 0   customer_id         99441 non-null  object\n",
      " 1   customer_unique_id  99441 non-null  object\n",
      " 2   customer_city       99441 non-null  object\n",
      " 3   customer_state      99441 non-null  object\n",
      "dtypes: object(4)\n",
      "memory usage: 3.0+ MB\n"
     ]
    }
   ],
   "source": [
    "customers_df.info()"
   ]
  },
  {
   "cell_type": "code",
   "execution_count": 49,
   "id": "434885e6-2284-4e4a-9def-390e94e231c5",
   "metadata": {},
   "outputs": [
    {
     "data": {
      "text/html": [
       "<div>\n",
       "<style scoped>\n",
       "    .dataframe tbody tr th:only-of-type {\n",
       "        vertical-align: middle;\n",
       "    }\n",
       "\n",
       "    .dataframe tbody tr th {\n",
       "        vertical-align: top;\n",
       "    }\n",
       "\n",
       "    .dataframe thead th {\n",
       "        text-align: right;\n",
       "    }\n",
       "</style>\n",
       "<table border=\"1\" class=\"dataframe\">\n",
       "  <thead>\n",
       "    <tr style=\"text-align: right;\">\n",
       "      <th></th>\n",
       "      <th>customer_city</th>\n",
       "      <th>customer_unique_id</th>\n",
       "    </tr>\n",
       "  </thead>\n",
       "  <tbody>\n",
       "    <tr>\n",
       "      <th>0</th>\n",
       "      <td>sao paulo</td>\n",
       "      <td>14984</td>\n",
       "    </tr>\n",
       "    <tr>\n",
       "      <th>1</th>\n",
       "      <td>rio de janeiro</td>\n",
       "      <td>6620</td>\n",
       "    </tr>\n",
       "    <tr>\n",
       "      <th>2</th>\n",
       "      <td>belo horizonte</td>\n",
       "      <td>2672</td>\n",
       "    </tr>\n",
       "    <tr>\n",
       "      <th>3</th>\n",
       "      <td>brasilia</td>\n",
       "      <td>2069</td>\n",
       "    </tr>\n",
       "    <tr>\n",
       "      <th>4</th>\n",
       "      <td>curitiba</td>\n",
       "      <td>1465</td>\n",
       "    </tr>\n",
       "    <tr>\n",
       "      <th>5</th>\n",
       "      <td>campinas</td>\n",
       "      <td>1398</td>\n",
       "    </tr>\n",
       "    <tr>\n",
       "      <th>6</th>\n",
       "      <td>porto alegre</td>\n",
       "      <td>1326</td>\n",
       "    </tr>\n",
       "    <tr>\n",
       "      <th>7</th>\n",
       "      <td>salvador</td>\n",
       "      <td>1209</td>\n",
       "    </tr>\n",
       "    <tr>\n",
       "      <th>8</th>\n",
       "      <td>guarulhos</td>\n",
       "      <td>1153</td>\n",
       "    </tr>\n",
       "    <tr>\n",
       "      <th>9</th>\n",
       "      <td>sao bernardo do campo</td>\n",
       "      <td>908</td>\n",
       "    </tr>\n",
       "  </tbody>\n",
       "</table>\n",
       "</div>"
      ],
      "text/plain": [
       "           customer_city  customer_unique_id\n",
       "0              sao paulo               14984\n",
       "1         rio de janeiro                6620\n",
       "2         belo horizonte                2672\n",
       "3               brasilia                2069\n",
       "4               curitiba                1465\n",
       "5               campinas                1398\n",
       "6           porto alegre                1326\n",
       "7               salvador                1209\n",
       "8              guarulhos                1153\n",
       "9  sao bernardo do campo                 908"
      ]
     },
     "execution_count": 49,
     "metadata": {},
     "output_type": "execute_result"
    }
   ],
   "source": [
    "customers_by_city = customers_df.groupby(by=\"customer_city\").customer_unique_id.nunique().sort_values(ascending=False).reset_index()\n",
    "customers_by_city.head(10)\n"
   ]
  },
  {
   "cell_type": "code",
   "execution_count": 50,
   "id": "1f1b614f-ebad-4534-8980-3624548a0871",
   "metadata": {},
   "outputs": [
    {
     "data": {
      "text/html": [
       "<div>\n",
       "<style scoped>\n",
       "    .dataframe tbody tr th:only-of-type {\n",
       "        vertical-align: middle;\n",
       "    }\n",
       "\n",
       "    .dataframe tbody tr th {\n",
       "        vertical-align: top;\n",
       "    }\n",
       "\n",
       "    .dataframe thead th {\n",
       "        text-align: right;\n",
       "    }\n",
       "</style>\n",
       "<table border=\"1\" class=\"dataframe\">\n",
       "  <thead>\n",
       "    <tr style=\"text-align: right;\">\n",
       "      <th></th>\n",
       "      <th>customer_state</th>\n",
       "      <th>customer_unique_id</th>\n",
       "    </tr>\n",
       "  </thead>\n",
       "  <tbody>\n",
       "    <tr>\n",
       "      <th>0</th>\n",
       "      <td>SP</td>\n",
       "      <td>40302</td>\n",
       "    </tr>\n",
       "    <tr>\n",
       "      <th>1</th>\n",
       "      <td>RJ</td>\n",
       "      <td>12384</td>\n",
       "    </tr>\n",
       "    <tr>\n",
       "      <th>2</th>\n",
       "      <td>MG</td>\n",
       "      <td>11259</td>\n",
       "    </tr>\n",
       "    <tr>\n",
       "      <th>3</th>\n",
       "      <td>RS</td>\n",
       "      <td>5277</td>\n",
       "    </tr>\n",
       "    <tr>\n",
       "      <th>4</th>\n",
       "      <td>PR</td>\n",
       "      <td>4882</td>\n",
       "    </tr>\n",
       "    <tr>\n",
       "      <th>5</th>\n",
       "      <td>SC</td>\n",
       "      <td>3534</td>\n",
       "    </tr>\n",
       "    <tr>\n",
       "      <th>6</th>\n",
       "      <td>BA</td>\n",
       "      <td>3277</td>\n",
       "    </tr>\n",
       "    <tr>\n",
       "      <th>7</th>\n",
       "      <td>DF</td>\n",
       "      <td>2075</td>\n",
       "    </tr>\n",
       "    <tr>\n",
       "      <th>8</th>\n",
       "      <td>ES</td>\n",
       "      <td>1964</td>\n",
       "    </tr>\n",
       "    <tr>\n",
       "      <th>9</th>\n",
       "      <td>GO</td>\n",
       "      <td>1952</td>\n",
       "    </tr>\n",
       "  </tbody>\n",
       "</table>\n",
       "</div>"
      ],
      "text/plain": [
       "  customer_state  customer_unique_id\n",
       "0             SP               40302\n",
       "1             RJ               12384\n",
       "2             MG               11259\n",
       "3             RS                5277\n",
       "4             PR                4882\n",
       "5             SC                3534\n",
       "6             BA                3277\n",
       "7             DF                2075\n",
       "8             ES                1964\n",
       "9             GO                1952"
      ]
     },
     "execution_count": 50,
     "metadata": {},
     "output_type": "execute_result"
    }
   ],
   "source": [
    "customers_by_state = customers_df.groupby(by=\"customer_state\").customer_unique_id.nunique().sort_values(ascending=False).reset_index()\n",
    "customers_by_state.head(10)\n"
   ]
  },
  {
   "cell_type": "markdown",
   "id": "3aac3e43-d654-4224-856b-1226c6ad0ef9",
   "metadata": {},
   "source": [
    "### Explore sellers_df"
   ]
  },
  {
   "cell_type": "code",
   "execution_count": 51,
   "id": "4de5895d-b38b-4134-947c-0a690f7436c7",
   "metadata": {},
   "outputs": [
    {
     "data": {
      "text/html": [
       "<div>\n",
       "<style scoped>\n",
       "    .dataframe tbody tr th:only-of-type {\n",
       "        vertical-align: middle;\n",
       "    }\n",
       "\n",
       "    .dataframe tbody tr th {\n",
       "        vertical-align: top;\n",
       "    }\n",
       "\n",
       "    .dataframe thead th {\n",
       "        text-align: right;\n",
       "    }\n",
       "</style>\n",
       "<table border=\"1\" class=\"dataframe\">\n",
       "  <thead>\n",
       "    <tr style=\"text-align: right;\">\n",
       "      <th></th>\n",
       "      <th>seller_id</th>\n",
       "      <th>seller_zip_code_prefix</th>\n",
       "      <th>seller_city</th>\n",
       "      <th>seller_state</th>\n",
       "    </tr>\n",
       "  </thead>\n",
       "  <tbody>\n",
       "    <tr>\n",
       "      <th>2797</th>\n",
       "      <td>f307937c1bb287c3efc2a514b94b0d1d</td>\n",
       "      <td>38183</td>\n",
       "      <td>araxa</td>\n",
       "      <td>MG</td>\n",
       "    </tr>\n",
       "    <tr>\n",
       "      <th>556</th>\n",
       "      <td>8a207b6080964f3c1fc9d35bd6096ba4</td>\n",
       "      <td>15155</td>\n",
       "      <td>jaci</td>\n",
       "      <td>SP</td>\n",
       "    </tr>\n",
       "    <tr>\n",
       "      <th>1578</th>\n",
       "      <td>bb5d956dece964a06c12bceb66b923ae</td>\n",
       "      <td>20930</td>\n",
       "      <td>rio de janeiro</td>\n",
       "      <td>RJ</td>\n",
       "    </tr>\n",
       "    <tr>\n",
       "      <th>575</th>\n",
       "      <td>b5d034ac251546e25afe9067f05c1539</td>\n",
       "      <td>6852</td>\n",
       "      <td>itapecerica da serra</td>\n",
       "      <td>SP</td>\n",
       "    </tr>\n",
       "    <tr>\n",
       "      <th>1141</th>\n",
       "      <td>b88e7c57cb2d8b973b7dd4a2bfa14b36</td>\n",
       "      <td>81350</td>\n",
       "      <td>curitiba</td>\n",
       "      <td>PR</td>\n",
       "    </tr>\n",
       "  </tbody>\n",
       "</table>\n",
       "</div>"
      ],
      "text/plain": [
       "                             seller_id  seller_zip_code_prefix  \\\n",
       "2797  f307937c1bb287c3efc2a514b94b0d1d                   38183   \n",
       "556   8a207b6080964f3c1fc9d35bd6096ba4                   15155   \n",
       "1578  bb5d956dece964a06c12bceb66b923ae                   20930   \n",
       "575   b5d034ac251546e25afe9067f05c1539                    6852   \n",
       "1141  b88e7c57cb2d8b973b7dd4a2bfa14b36                   81350   \n",
       "\n",
       "               seller_city seller_state  \n",
       "2797                 araxa           MG  \n",
       "556                   jaci           SP  \n",
       "1578        rio de janeiro           RJ  \n",
       "575   itapecerica da serra           SP  \n",
       "1141              curitiba           PR  "
      ]
     },
     "execution_count": 51,
     "metadata": {},
     "output_type": "execute_result"
    }
   ],
   "source": [
    "sellers_df.sample(5)"
   ]
  },
  {
   "cell_type": "markdown",
   "id": "caa1ff85-3442-4936-9889-6cb91ee473df",
   "metadata": {},
   "source": [
    "Menghapus kolom yang tidak diperlukan, yaitu : seller_zip_code_prefix"
   ]
  },
  {
   "cell_type": "code",
   "execution_count": 52,
   "id": "213ed5f7-720d-41b0-a5ab-362a5e33254e",
   "metadata": {},
   "outputs": [],
   "source": [
    "sellers_df.drop(columns=[\"seller_zip_code_prefix\"], inplace=True)\n"
   ]
  },
  {
   "cell_type": "code",
   "execution_count": 53,
   "id": "0de3ec5f-2250-417c-af6e-6cb04f561d03",
   "metadata": {},
   "outputs": [
    {
     "data": {
      "text/html": [
       "<div>\n",
       "<style scoped>\n",
       "    .dataframe tbody tr th:only-of-type {\n",
       "        vertical-align: middle;\n",
       "    }\n",
       "\n",
       "    .dataframe tbody tr th {\n",
       "        vertical-align: top;\n",
       "    }\n",
       "\n",
       "    .dataframe thead th {\n",
       "        text-align: right;\n",
       "    }\n",
       "</style>\n",
       "<table border=\"1\" class=\"dataframe\">\n",
       "  <thead>\n",
       "    <tr style=\"text-align: right;\">\n",
       "      <th></th>\n",
       "      <th>seller_id</th>\n",
       "      <th>seller_city</th>\n",
       "      <th>seller_state</th>\n",
       "    </tr>\n",
       "  </thead>\n",
       "  <tbody>\n",
       "    <tr>\n",
       "      <th>0</th>\n",
       "      <td>3442f8959a84dea7ee197c632cb2df15</td>\n",
       "      <td>campinas</td>\n",
       "      <td>SP</td>\n",
       "    </tr>\n",
       "    <tr>\n",
       "      <th>1</th>\n",
       "      <td>d1b65fc7debc3361ea86b5f14c68d2e2</td>\n",
       "      <td>mogi guacu</td>\n",
       "      <td>SP</td>\n",
       "    </tr>\n",
       "    <tr>\n",
       "      <th>2</th>\n",
       "      <td>ce3ad9de960102d0677a81f5d0bb7b2d</td>\n",
       "      <td>rio de janeiro</td>\n",
       "      <td>RJ</td>\n",
       "    </tr>\n",
       "    <tr>\n",
       "      <th>3</th>\n",
       "      <td>c0f3eea2e14555b6faeea3dd58c1b1c3</td>\n",
       "      <td>sao paulo</td>\n",
       "      <td>SP</td>\n",
       "    </tr>\n",
       "    <tr>\n",
       "      <th>4</th>\n",
       "      <td>51a04a8a6bdcb23deccc82b0b80742cf</td>\n",
       "      <td>braganca paulista</td>\n",
       "      <td>SP</td>\n",
       "    </tr>\n",
       "  </tbody>\n",
       "</table>\n",
       "</div>"
      ],
      "text/plain": [
       "                          seller_id        seller_city seller_state\n",
       "0  3442f8959a84dea7ee197c632cb2df15           campinas           SP\n",
       "1  d1b65fc7debc3361ea86b5f14c68d2e2         mogi guacu           SP\n",
       "2  ce3ad9de960102d0677a81f5d0bb7b2d     rio de janeiro           RJ\n",
       "3  c0f3eea2e14555b6faeea3dd58c1b1c3          sao paulo           SP\n",
       "4  51a04a8a6bdcb23deccc82b0b80742cf  braganca paulista           SP"
      ]
     },
     "execution_count": 53,
     "metadata": {},
     "output_type": "execute_result"
    }
   ],
   "source": [
    "sellers_df.head()"
   ]
  },
  {
   "cell_type": "code",
   "execution_count": 54,
   "id": "4ebf5e40-583f-4a5b-aaa4-1bbccddaa5cc",
   "metadata": {},
   "outputs": [
    {
     "data": {
      "text/plain": [
       "True"
      ]
     },
     "execution_count": 54,
     "metadata": {},
     "output_type": "execute_result"
    }
   ],
   "source": [
    "sellers_df.seller_id.is_unique"
   ]
  },
  {
   "cell_type": "code",
   "execution_count": 55,
   "id": "84d614b7-0610-491b-9de5-9a79c3e5b18a",
   "metadata": {},
   "outputs": [
    {
     "data": {
      "text/html": [
       "<div>\n",
       "<style scoped>\n",
       "    .dataframe tbody tr th:only-of-type {\n",
       "        vertical-align: middle;\n",
       "    }\n",
       "\n",
       "    .dataframe tbody tr th {\n",
       "        vertical-align: top;\n",
       "    }\n",
       "\n",
       "    .dataframe thead th {\n",
       "        text-align: right;\n",
       "    }\n",
       "</style>\n",
       "<table border=\"1\" class=\"dataframe\">\n",
       "  <thead>\n",
       "    <tr style=\"text-align: right;\">\n",
       "      <th></th>\n",
       "      <th>seller_city</th>\n",
       "      <th>seller_id</th>\n",
       "    </tr>\n",
       "  </thead>\n",
       "  <tbody>\n",
       "    <tr>\n",
       "      <th>0</th>\n",
       "      <td>sao paulo</td>\n",
       "      <td>694</td>\n",
       "    </tr>\n",
       "    <tr>\n",
       "      <th>1</th>\n",
       "      <td>curitiba</td>\n",
       "      <td>127</td>\n",
       "    </tr>\n",
       "    <tr>\n",
       "      <th>2</th>\n",
       "      <td>rio de janeiro</td>\n",
       "      <td>96</td>\n",
       "    </tr>\n",
       "    <tr>\n",
       "      <th>3</th>\n",
       "      <td>belo horizonte</td>\n",
       "      <td>68</td>\n",
       "    </tr>\n",
       "    <tr>\n",
       "      <th>4</th>\n",
       "      <td>ribeirao preto</td>\n",
       "      <td>52</td>\n",
       "    </tr>\n",
       "    <tr>\n",
       "      <th>5</th>\n",
       "      <td>guarulhos</td>\n",
       "      <td>50</td>\n",
       "    </tr>\n",
       "    <tr>\n",
       "      <th>6</th>\n",
       "      <td>ibitinga</td>\n",
       "      <td>49</td>\n",
       "    </tr>\n",
       "    <tr>\n",
       "      <th>7</th>\n",
       "      <td>santo andre</td>\n",
       "      <td>45</td>\n",
       "    </tr>\n",
       "    <tr>\n",
       "      <th>8</th>\n",
       "      <td>campinas</td>\n",
       "      <td>41</td>\n",
       "    </tr>\n",
       "    <tr>\n",
       "      <th>9</th>\n",
       "      <td>maringa</td>\n",
       "      <td>40</td>\n",
       "    </tr>\n",
       "  </tbody>\n",
       "</table>\n",
       "</div>"
      ],
      "text/plain": [
       "      seller_city  seller_id\n",
       "0       sao paulo        694\n",
       "1        curitiba        127\n",
       "2  rio de janeiro         96\n",
       "3  belo horizonte         68\n",
       "4  ribeirao preto         52\n",
       "5       guarulhos         50\n",
       "6        ibitinga         49\n",
       "7     santo andre         45\n",
       "8        campinas         41\n",
       "9         maringa         40"
      ]
     },
     "execution_count": 55,
     "metadata": {},
     "output_type": "execute_result"
    }
   ],
   "source": [
    "seller_by_city = sellers_df.groupby(by=\"seller_city\").seller_id.nunique().sort_values(ascending=False).reset_index()\n",
    "seller_by_city.head(10)\n"
   ]
  },
  {
   "cell_type": "code",
   "execution_count": 56,
   "id": "04a8c9e4-3a8d-4d4f-98f3-b286bcc29e32",
   "metadata": {},
   "outputs": [
    {
     "data": {
      "text/html": [
       "<div>\n",
       "<style scoped>\n",
       "    .dataframe tbody tr th:only-of-type {\n",
       "        vertical-align: middle;\n",
       "    }\n",
       "\n",
       "    .dataframe tbody tr th {\n",
       "        vertical-align: top;\n",
       "    }\n",
       "\n",
       "    .dataframe thead th {\n",
       "        text-align: right;\n",
       "    }\n",
       "</style>\n",
       "<table border=\"1\" class=\"dataframe\">\n",
       "  <thead>\n",
       "    <tr style=\"text-align: right;\">\n",
       "      <th></th>\n",
       "      <th>seller_state</th>\n",
       "      <th>seller_id</th>\n",
       "    </tr>\n",
       "  </thead>\n",
       "  <tbody>\n",
       "    <tr>\n",
       "      <th>0</th>\n",
       "      <td>SP</td>\n",
       "      <td>1849</td>\n",
       "    </tr>\n",
       "    <tr>\n",
       "      <th>1</th>\n",
       "      <td>PR</td>\n",
       "      <td>349</td>\n",
       "    </tr>\n",
       "    <tr>\n",
       "      <th>2</th>\n",
       "      <td>MG</td>\n",
       "      <td>244</td>\n",
       "    </tr>\n",
       "    <tr>\n",
       "      <th>3</th>\n",
       "      <td>SC</td>\n",
       "      <td>190</td>\n",
       "    </tr>\n",
       "    <tr>\n",
       "      <th>4</th>\n",
       "      <td>RJ</td>\n",
       "      <td>171</td>\n",
       "    </tr>\n",
       "    <tr>\n",
       "      <th>5</th>\n",
       "      <td>RS</td>\n",
       "      <td>129</td>\n",
       "    </tr>\n",
       "    <tr>\n",
       "      <th>6</th>\n",
       "      <td>GO</td>\n",
       "      <td>40</td>\n",
       "    </tr>\n",
       "    <tr>\n",
       "      <th>7</th>\n",
       "      <td>DF</td>\n",
       "      <td>30</td>\n",
       "    </tr>\n",
       "    <tr>\n",
       "      <th>8</th>\n",
       "      <td>ES</td>\n",
       "      <td>23</td>\n",
       "    </tr>\n",
       "    <tr>\n",
       "      <th>9</th>\n",
       "      <td>BA</td>\n",
       "      <td>19</td>\n",
       "    </tr>\n",
       "  </tbody>\n",
       "</table>\n",
       "</div>"
      ],
      "text/plain": [
       "  seller_state  seller_id\n",
       "0           SP       1849\n",
       "1           PR        349\n",
       "2           MG        244\n",
       "3           SC        190\n",
       "4           RJ        171\n",
       "5           RS        129\n",
       "6           GO         40\n",
       "7           DF         30\n",
       "8           ES         23\n",
       "9           BA         19"
      ]
     },
     "execution_count": 56,
     "metadata": {},
     "output_type": "execute_result"
    }
   ],
   "source": [
    "seller_by_state = sellers_df.groupby(by=\"seller_state\").seller_id.nunique().sort_values(ascending=False).reset_index()\n",
    "seller_by_state.head(10)\n"
   ]
  },
  {
   "cell_type": "markdown",
   "id": "d572f872-3b9e-4c4b-98aa-c27421237d4b",
   "metadata": {},
   "source": [
    "### Explore all_products"
   ]
  },
  {
   "cell_type": "code",
   "execution_count": 57,
   "id": "b7e5ad49-4786-45da-bbda-76942d279126",
   "metadata": {},
   "outputs": [
    {
     "data": {
      "text/html": [
       "<div>\n",
       "<style scoped>\n",
       "    .dataframe tbody tr th:only-of-type {\n",
       "        vertical-align: middle;\n",
       "    }\n",
       "\n",
       "    .dataframe tbody tr th {\n",
       "        vertical-align: top;\n",
       "    }\n",
       "\n",
       "    .dataframe thead th {\n",
       "        text-align: right;\n",
       "    }\n",
       "</style>\n",
       "<table border=\"1\" class=\"dataframe\">\n",
       "  <thead>\n",
       "    <tr style=\"text-align: right;\">\n",
       "      <th></th>\n",
       "      <th>product_id</th>\n",
       "      <th>product_category_name</th>\n",
       "      <th>product_name_lenght</th>\n",
       "      <th>product_description_lenght</th>\n",
       "      <th>product_photos_qty</th>\n",
       "      <th>product_weight_g</th>\n",
       "      <th>product_length_cm</th>\n",
       "      <th>product_height_cm</th>\n",
       "      <th>product_width_cm</th>\n",
       "      <th>product_category_name_english</th>\n",
       "    </tr>\n",
       "  </thead>\n",
       "  <tbody>\n",
       "    <tr>\n",
       "      <th>21003</th>\n",
       "      <td>8ca3654e07bd7120dd72ccbcba187753</td>\n",
       "      <td>esporte_lazer</td>\n",
       "      <td>9.0</td>\n",
       "      <td>252.0</td>\n",
       "      <td>1.0</td>\n",
       "      <td>200.0</td>\n",
       "      <td>28.0</td>\n",
       "      <td>5.0</td>\n",
       "      <td>14.0</td>\n",
       "      <td>sports_leisure</td>\n",
       "    </tr>\n",
       "    <tr>\n",
       "      <th>6066</th>\n",
       "      <td>9804060d742be8facca9ff94f9aa436e</td>\n",
       "      <td>automotivo</td>\n",
       "      <td>57.0</td>\n",
       "      <td>1291.0</td>\n",
       "      <td>4.0</td>\n",
       "      <td>617.0</td>\n",
       "      <td>22.0</td>\n",
       "      <td>17.0</td>\n",
       "      <td>15.0</td>\n",
       "      <td>auto</td>\n",
       "    </tr>\n",
       "    <tr>\n",
       "      <th>21373</th>\n",
       "      <td>eba9bf6c14ca3ce171d097e358b12973</td>\n",
       "      <td>bebes</td>\n",
       "      <td>38.0</td>\n",
       "      <td>1516.0</td>\n",
       "      <td>1.0</td>\n",
       "      <td>700.0</td>\n",
       "      <td>50.0</td>\n",
       "      <td>30.0</td>\n",
       "      <td>40.0</td>\n",
       "      <td>baby</td>\n",
       "    </tr>\n",
       "    <tr>\n",
       "      <th>13254</th>\n",
       "      <td>220936209904d02af36d9aabe5343c8a</td>\n",
       "      <td>esporte_lazer</td>\n",
       "      <td>54.0</td>\n",
       "      <td>350.0</td>\n",
       "      <td>1.0</td>\n",
       "      <td>550.0</td>\n",
       "      <td>21.0</td>\n",
       "      <td>21.0</td>\n",
       "      <td>19.0</td>\n",
       "      <td>sports_leisure</td>\n",
       "    </tr>\n",
       "    <tr>\n",
       "      <th>23123</th>\n",
       "      <td>340f33bdf4103eba89df5d5153beff7e</td>\n",
       "      <td>moveis_decoracao</td>\n",
       "      <td>60.0</td>\n",
       "      <td>1482.0</td>\n",
       "      <td>1.0</td>\n",
       "      <td>900.0</td>\n",
       "      <td>63.0</td>\n",
       "      <td>5.0</td>\n",
       "      <td>15.0</td>\n",
       "      <td>furniture_decor</td>\n",
       "    </tr>\n",
       "  </tbody>\n",
       "</table>\n",
       "</div>"
      ],
      "text/plain": [
       "                             product_id product_category_name  \\\n",
       "21003  8ca3654e07bd7120dd72ccbcba187753         esporte_lazer   \n",
       "6066   9804060d742be8facca9ff94f9aa436e            automotivo   \n",
       "21373  eba9bf6c14ca3ce171d097e358b12973                 bebes   \n",
       "13254  220936209904d02af36d9aabe5343c8a         esporte_lazer   \n",
       "23123  340f33bdf4103eba89df5d5153beff7e      moveis_decoracao   \n",
       "\n",
       "       product_name_lenght  product_description_lenght  product_photos_qty  \\\n",
       "21003                  9.0                       252.0                 1.0   \n",
       "6066                  57.0                      1291.0                 4.0   \n",
       "21373                 38.0                      1516.0                 1.0   \n",
       "13254                 54.0                       350.0                 1.0   \n",
       "23123                 60.0                      1482.0                 1.0   \n",
       "\n",
       "       product_weight_g  product_length_cm  product_height_cm  \\\n",
       "21003             200.0               28.0                5.0   \n",
       "6066              617.0               22.0               17.0   \n",
       "21373             700.0               50.0               30.0   \n",
       "13254             550.0               21.0               21.0   \n",
       "23123             900.0               63.0                5.0   \n",
       "\n",
       "       product_width_cm product_category_name_english  \n",
       "21003              14.0                sports_leisure  \n",
       "6066               15.0                          auto  \n",
       "21373              40.0                          baby  \n",
       "13254              19.0                sports_leisure  \n",
       "23123              15.0               furniture_decor  "
      ]
     },
     "execution_count": 57,
     "metadata": {},
     "output_type": "execute_result"
    }
   ],
   "source": [
    "all_products.sample(5)"
   ]
  },
  {
   "cell_type": "markdown",
   "id": "dafc7d47-7003-40ed-8cc3-c5fa46dab917",
   "metadata": {},
   "source": [
    "Menghapus kolom yang tidak diperlukan, yaitu : \n",
    "1. product_category_name\n",
    "2. product_name_lenght\n",
    "3. product_description_lenght\n",
    "4. product_photos_qty\n",
    "5. product_weight_g\n",
    "6. product_lenght_cm\n",
    "7. product_height_cm\n",
    "8. product_width_cm"
   ]
  },
  {
   "cell_type": "code",
   "execution_count": 58,
   "id": "9598b634-ff84-4826-b4dd-5a77c623ef97",
   "metadata": {},
   "outputs": [],
   "source": [
    "all_products.drop(all_products.iloc[:,2:9], axis=1, inplace=True)"
   ]
  },
  {
   "cell_type": "code",
   "execution_count": 59,
   "id": "bb59fb29-fd53-4b8e-af0a-e12627ca7395",
   "metadata": {},
   "outputs": [
    {
     "data": {
      "text/plain": [
       "product_id                       0\n",
       "product_category_name            0\n",
       "product_category_name_english    0\n",
       "dtype: int64"
      ]
     },
     "execution_count": 59,
     "metadata": {},
     "output_type": "execute_result"
    }
   ],
   "source": [
    "all_products.isna().sum()"
   ]
  },
  {
   "cell_type": "code",
   "execution_count": 60,
   "id": "71d5558a-9ea4-438b-af14-e6114b785175",
   "metadata": {},
   "outputs": [
    {
     "name": "stdout",
     "output_type": "stream",
     "text": [
      "<class 'pandas.core.frame.DataFrame'>\n",
      "RangeIndex: 32951 entries, 0 to 32950\n",
      "Data columns (total 3 columns):\n",
      " #   Column                         Non-Null Count  Dtype \n",
      "---  ------                         --------------  ----- \n",
      " 0   product_id                     32951 non-null  object\n",
      " 1   product_category_name          32951 non-null  object\n",
      " 2   product_category_name_english  32951 non-null  object\n",
      "dtypes: object(3)\n",
      "memory usage: 772.4+ KB\n"
     ]
    }
   ],
   "source": [
    "all_products.info()"
   ]
  },
  {
   "cell_type": "markdown",
   "id": "eb553b25-64ff-4d36-8ea8-3f2b12f73412",
   "metadata": {},
   "source": [
    "### Explore orders_df"
   ]
  },
  {
   "cell_type": "code",
   "execution_count": 61,
   "id": "b20ce186-6c8c-498c-96a9-98b17b440149",
   "metadata": {},
   "outputs": [
    {
     "data": {
      "text/html": [
       "<div>\n",
       "<style scoped>\n",
       "    .dataframe tbody tr th:only-of-type {\n",
       "        vertical-align: middle;\n",
       "    }\n",
       "\n",
       "    .dataframe tbody tr th {\n",
       "        vertical-align: top;\n",
       "    }\n",
       "\n",
       "    .dataframe thead th {\n",
       "        text-align: right;\n",
       "    }\n",
       "</style>\n",
       "<table border=\"1\" class=\"dataframe\">\n",
       "  <thead>\n",
       "    <tr style=\"text-align: right;\">\n",
       "      <th></th>\n",
       "      <th>order_id</th>\n",
       "      <th>customer_id</th>\n",
       "      <th>order_status</th>\n",
       "      <th>order_purchase_timestamp</th>\n",
       "      <th>order_approved_at</th>\n",
       "      <th>order_delivered_carrier_date</th>\n",
       "      <th>order_delivered_customer_date</th>\n",
       "      <th>order_estimated_delivery_date</th>\n",
       "    </tr>\n",
       "  </thead>\n",
       "  <tbody>\n",
       "    <tr>\n",
       "      <th>33476</th>\n",
       "      <td>1ac9d38dde347ffac03bdb653003682b</td>\n",
       "      <td>667cece2c46332f911cf581ff412cdf5</td>\n",
       "      <td>delivered</td>\n",
       "      <td>2017-11-13 16:27:21</td>\n",
       "      <td>2017-11-14 04:16:11</td>\n",
       "      <td>2017-11-16 13:51:56</td>\n",
       "      <td>2017-11-24 01:43:47</td>\n",
       "      <td>2017-12-06</td>\n",
       "    </tr>\n",
       "    <tr>\n",
       "      <th>10847</th>\n",
       "      <td>cbb8c3748ad61bcd4011720d8a58a3a0</td>\n",
       "      <td>a43feec22398d94452ebb06dba1ff80d</td>\n",
       "      <td>shipped</td>\n",
       "      <td>2018-08-17 13:11:13</td>\n",
       "      <td>2018-08-17 14:30:40</td>\n",
       "      <td>2018-08-20 13:41:00</td>\n",
       "      <td>NaT</td>\n",
       "      <td>2018-08-29</td>\n",
       "    </tr>\n",
       "    <tr>\n",
       "      <th>88704</th>\n",
       "      <td>e72511587872c5769d43aeda089b28ca</td>\n",
       "      <td>d5e32f4d48eefeadfbcb1b8e068369fe</td>\n",
       "      <td>delivered</td>\n",
       "      <td>2017-11-27 11:26:16</td>\n",
       "      <td>2017-11-29 11:37:15</td>\n",
       "      <td>2017-11-30 21:51:22</td>\n",
       "      <td>2017-12-14 21:21:33</td>\n",
       "      <td>2017-12-28</td>\n",
       "    </tr>\n",
       "    <tr>\n",
       "      <th>56135</th>\n",
       "      <td>7b3950b933fe73d96ce4359a1caf38ea</td>\n",
       "      <td>b5a6dbf7832c882c72222308a2ae44d9</td>\n",
       "      <td>delivered</td>\n",
       "      <td>2018-05-27 22:13:33</td>\n",
       "      <td>2018-05-28 08:30:21</td>\n",
       "      <td>2018-05-29 10:57:00</td>\n",
       "      <td>2018-06-04 23:32:29</td>\n",
       "      <td>2018-07-18</td>\n",
       "    </tr>\n",
       "    <tr>\n",
       "      <th>70414</th>\n",
       "      <td>a327b5ecc65060cc462211724d715367</td>\n",
       "      <td>f63b5a41ad60764ade63d0cae2f8b5b2</td>\n",
       "      <td>unavailable</td>\n",
       "      <td>2017-12-08 22:41:10</td>\n",
       "      <td>2017-12-08 22:52:43</td>\n",
       "      <td>NaT</td>\n",
       "      <td>NaT</td>\n",
       "      <td>2017-12-27</td>\n",
       "    </tr>\n",
       "  </tbody>\n",
       "</table>\n",
       "</div>"
      ],
      "text/plain": [
       "                               order_id                       customer_id  \\\n",
       "33476  1ac9d38dde347ffac03bdb653003682b  667cece2c46332f911cf581ff412cdf5   \n",
       "10847  cbb8c3748ad61bcd4011720d8a58a3a0  a43feec22398d94452ebb06dba1ff80d   \n",
       "88704  e72511587872c5769d43aeda089b28ca  d5e32f4d48eefeadfbcb1b8e068369fe   \n",
       "56135  7b3950b933fe73d96ce4359a1caf38ea  b5a6dbf7832c882c72222308a2ae44d9   \n",
       "70414  a327b5ecc65060cc462211724d715367  f63b5a41ad60764ade63d0cae2f8b5b2   \n",
       "\n",
       "      order_status order_purchase_timestamp   order_approved_at  \\\n",
       "33476    delivered      2017-11-13 16:27:21 2017-11-14 04:16:11   \n",
       "10847      shipped      2018-08-17 13:11:13 2018-08-17 14:30:40   \n",
       "88704    delivered      2017-11-27 11:26:16 2017-11-29 11:37:15   \n",
       "56135    delivered      2018-05-27 22:13:33 2018-05-28 08:30:21   \n",
       "70414  unavailable      2017-12-08 22:41:10 2017-12-08 22:52:43   \n",
       "\n",
       "      order_delivered_carrier_date order_delivered_customer_date  \\\n",
       "33476          2017-11-16 13:51:56           2017-11-24 01:43:47   \n",
       "10847          2018-08-20 13:41:00                           NaT   \n",
       "88704          2017-11-30 21:51:22           2017-12-14 21:21:33   \n",
       "56135          2018-05-29 10:57:00           2018-06-04 23:32:29   \n",
       "70414                          NaT                           NaT   \n",
       "\n",
       "      order_estimated_delivery_date  \n",
       "33476                    2017-12-06  \n",
       "10847                    2018-08-29  \n",
       "88704                    2017-12-28  \n",
       "56135                    2018-07-18  \n",
       "70414                    2017-12-27  "
      ]
     },
     "execution_count": 61,
     "metadata": {},
     "output_type": "execute_result"
    }
   ],
   "source": [
    "orders_df.sample(5)"
   ]
  },
  {
   "cell_type": "markdown",
   "id": "7a2c2e25-8d05-4dda-ac91-a67accd13a25",
   "metadata": {},
   "source": [
    "Menghapus kolom yang tidak diperlukan, yaitu :\n",
    "1. order_delivered_carrier_date\n",
    "2. order_delivered_customer_date\n",
    "3. order_estimated_delivery_date"
   ]
  },
  {
   "cell_type": "code",
   "execution_count": 62,
   "id": "3747ae03-3b73-40b5-9e92-4b46499590e3",
   "metadata": {},
   "outputs": [],
   "source": [
    "orders_df.drop(orders_df.iloc[:,5:7], axis=1, inplace=True)"
   ]
  },
  {
   "cell_type": "code",
   "execution_count": 63,
   "id": "a6a4464a-c2c8-4bd6-9937-f50936c2b95c",
   "metadata": {},
   "outputs": [
    {
     "data": {
      "text/plain": [
       "order_id                           0\n",
       "customer_id                        0\n",
       "order_status                       0\n",
       "order_purchase_timestamp           0\n",
       "order_approved_at                160\n",
       "order_estimated_delivery_date      0\n",
       "dtype: int64"
      ]
     },
     "execution_count": 63,
     "metadata": {},
     "output_type": "execute_result"
    }
   ],
   "source": [
    "orders_df.isna().sum()"
   ]
  },
  {
   "cell_type": "code",
   "execution_count": 64,
   "id": "54d1fd1e-176c-4ec4-8ffe-facfa64ec075",
   "metadata": {},
   "outputs": [
    {
     "name": "stdout",
     "output_type": "stream",
     "text": [
      "<class 'pandas.core.frame.DataFrame'>\n",
      "RangeIndex: 99441 entries, 0 to 99440\n",
      "Data columns (total 6 columns):\n",
      " #   Column                         Non-Null Count  Dtype         \n",
      "---  ------                         --------------  -----         \n",
      " 0   order_id                       99441 non-null  object        \n",
      " 1   customer_id                    99441 non-null  object        \n",
      " 2   order_status                   99441 non-null  object        \n",
      " 3   order_purchase_timestamp       99441 non-null  datetime64[ns]\n",
      " 4   order_approved_at              99281 non-null  datetime64[ns]\n",
      " 5   order_estimated_delivery_date  99441 non-null  datetime64[ns]\n",
      "dtypes: datetime64[ns](3), object(3)\n",
      "memory usage: 4.6+ MB\n"
     ]
    }
   ],
   "source": [
    "orders_df.info()"
   ]
  },
  {
   "cell_type": "markdown",
   "id": "e59efe3d-e8b9-46ea-a6d5-975906866ec3",
   "metadata": {},
   "source": [
    "### Explore order_items_df"
   ]
  },
  {
   "cell_type": "code",
   "execution_count": 65,
   "id": "dc7aa4a3-2e35-465f-972a-43c6246fa58b",
   "metadata": {},
   "outputs": [
    {
     "data": {
      "text/html": [
       "<div>\n",
       "<style scoped>\n",
       "    .dataframe tbody tr th:only-of-type {\n",
       "        vertical-align: middle;\n",
       "    }\n",
       "\n",
       "    .dataframe tbody tr th {\n",
       "        vertical-align: top;\n",
       "    }\n",
       "\n",
       "    .dataframe thead th {\n",
       "        text-align: right;\n",
       "    }\n",
       "</style>\n",
       "<table border=\"1\" class=\"dataframe\">\n",
       "  <thead>\n",
       "    <tr style=\"text-align: right;\">\n",
       "      <th></th>\n",
       "      <th>order_id</th>\n",
       "      <th>order_item_id</th>\n",
       "      <th>product_id</th>\n",
       "      <th>seller_id</th>\n",
       "      <th>shipping_limit_date</th>\n",
       "      <th>price</th>\n",
       "      <th>freight_value</th>\n",
       "    </tr>\n",
       "  </thead>\n",
       "  <tbody>\n",
       "    <tr>\n",
       "      <th>104537</th>\n",
       "      <td>ed77ae1d4803934a1131cadffb78b41b</td>\n",
       "      <td>4</td>\n",
       "      <td>fc1449f3ffc59fd2eb9640505aea0581</td>\n",
       "      <td>25c5c91f63607446a97b143d2d535d31</td>\n",
       "      <td>2017-10-13 14:14:16</td>\n",
       "      <td>149.88</td>\n",
       "      <td>18.30</td>\n",
       "    </tr>\n",
       "    <tr>\n",
       "      <th>104853</th>\n",
       "      <td>ee305cf301da8441d91ae8a06d8a9ecc</td>\n",
       "      <td>1</td>\n",
       "      <td>c90cf9075d7e8a5f4eca8b39763bf2e5</td>\n",
       "      <td>6a8b085f816a1f75f92dbac6eb545f8f</td>\n",
       "      <td>2018-05-09 04:13:02</td>\n",
       "      <td>61.50</td>\n",
       "      <td>37.12</td>\n",
       "    </tr>\n",
       "    <tr>\n",
       "      <th>74393</th>\n",
       "      <td>a97ed6ffd3a1daacc526d95fe844c8a5</td>\n",
       "      <td>1</td>\n",
       "      <td>ab1f9387c0627dd24000bfbc54fdeee0</td>\n",
       "      <td>8b321bb669392f5163d04c59e235e066</td>\n",
       "      <td>2018-05-18 11:58:37</td>\n",
       "      <td>12.25</td>\n",
       "      <td>7.39</td>\n",
       "    </tr>\n",
       "    <tr>\n",
       "      <th>44971</th>\n",
       "      <td>664411dc25ffd21164cc72805f249313</td>\n",
       "      <td>1</td>\n",
       "      <td>55a257b8a93fa8ce0b4774de48718126</td>\n",
       "      <td>4aba391bc3b88717ce08eb11e44937b2</td>\n",
       "      <td>2017-10-10 01:01:59</td>\n",
       "      <td>669.00</td>\n",
       "      <td>16.93</td>\n",
       "    </tr>\n",
       "    <tr>\n",
       "      <th>60559</th>\n",
       "      <td>8a060d4d621f570de2264a68ad8b901c</td>\n",
       "      <td>1</td>\n",
       "      <td>82e4ad16521ca131d95e198d507db370</td>\n",
       "      <td>128639473a139ac0f3e5f5ade55873a5</td>\n",
       "      <td>2017-12-13 15:30:17</td>\n",
       "      <td>18.90</td>\n",
       "      <td>16.79</td>\n",
       "    </tr>\n",
       "  </tbody>\n",
       "</table>\n",
       "</div>"
      ],
      "text/plain": [
       "                                order_id  order_item_id  \\\n",
       "104537  ed77ae1d4803934a1131cadffb78b41b              4   \n",
       "104853  ee305cf301da8441d91ae8a06d8a9ecc              1   \n",
       "74393   a97ed6ffd3a1daacc526d95fe844c8a5              1   \n",
       "44971   664411dc25ffd21164cc72805f249313              1   \n",
       "60559   8a060d4d621f570de2264a68ad8b901c              1   \n",
       "\n",
       "                              product_id                         seller_id  \\\n",
       "104537  fc1449f3ffc59fd2eb9640505aea0581  25c5c91f63607446a97b143d2d535d31   \n",
       "104853  c90cf9075d7e8a5f4eca8b39763bf2e5  6a8b085f816a1f75f92dbac6eb545f8f   \n",
       "74393   ab1f9387c0627dd24000bfbc54fdeee0  8b321bb669392f5163d04c59e235e066   \n",
       "44971   55a257b8a93fa8ce0b4774de48718126  4aba391bc3b88717ce08eb11e44937b2   \n",
       "60559   82e4ad16521ca131d95e198d507db370  128639473a139ac0f3e5f5ade55873a5   \n",
       "\n",
       "        shipping_limit_date   price  freight_value  \n",
       "104537  2017-10-13 14:14:16  149.88          18.30  \n",
       "104853  2018-05-09 04:13:02   61.50          37.12  \n",
       "74393   2018-05-18 11:58:37   12.25           7.39  \n",
       "44971   2017-10-10 01:01:59  669.00          16.93  \n",
       "60559   2017-12-13 15:30:17   18.90          16.79  "
      ]
     },
     "execution_count": 65,
     "metadata": {},
     "output_type": "execute_result"
    }
   ],
   "source": [
    "order_items_df.sample(5)"
   ]
  },
  {
   "cell_type": "markdown",
   "id": "2f2a1f5b-1820-45a0-8fa3-96cf359725a0",
   "metadata": {},
   "source": [
    "##### Menghapus kolom shipping_limit_date"
   ]
  },
  {
   "cell_type": "code",
   "execution_count": 66,
   "id": "754260f3-b1ca-453b-82dc-d1f099ca86d6",
   "metadata": {},
   "outputs": [],
   "source": [
    "order_items_df.drop(columns=[\"shipping_limit_date\"],inplace=True)"
   ]
  },
  {
   "cell_type": "code",
   "execution_count": 67,
   "id": "3dfb0a1f-fd4c-4283-9de1-084908ee17e1",
   "metadata": {},
   "outputs": [
    {
     "name": "stdout",
     "output_type": "stream",
     "text": [
      "<class 'pandas.core.frame.DataFrame'>\n",
      "RangeIndex: 112650 entries, 0 to 112649\n",
      "Data columns (total 6 columns):\n",
      " #   Column         Non-Null Count   Dtype  \n",
      "---  ------         --------------   -----  \n",
      " 0   order_id       112650 non-null  object \n",
      " 1   order_item_id  112650 non-null  int64  \n",
      " 2   product_id     112650 non-null  object \n",
      " 3   seller_id      112650 non-null  object \n",
      " 4   price          112650 non-null  float64\n",
      " 5   freight_value  112650 non-null  float64\n",
      "dtypes: float64(2), int64(1), object(3)\n",
      "memory usage: 5.2+ MB\n"
     ]
    }
   ],
   "source": [
    "order_items_df.info()"
   ]
  },
  {
   "cell_type": "markdown",
   "id": "ab0361e2-36f0-43eb-9150-d17f65cb0071",
   "metadata": {},
   "source": [
    "### Menggabungkan tabel"
   ]
  },
  {
   "cell_type": "markdown",
   "id": "cccfd1df-37db-4b2c-9a84-d474e3a8eb3a",
   "metadata": {},
   "source": [
    "#### Tabel order_items_df dan all_products"
   ]
  },
  {
   "cell_type": "code",
   "execution_count": 68,
   "id": "f634a8d9-d5ed-4bd7-a3a0-8c6a13831d4c",
   "metadata": {},
   "outputs": [],
   "source": [
    "order_items_products = pd.merge(\n",
    "    left=order_items_df,\n",
    "    right=all_products,\n",
    "    how=\"left\", #Agar terpilih product yang di order\n",
    "    left_on=\"product_id\",\n",
    "    right_on=\"product_id\"\n",
    ")"
   ]
  },
  {
   "cell_type": "code",
   "execution_count": 69,
   "id": "0c11e0b7-8e66-4cea-8a98-478015e1a3ba",
   "metadata": {},
   "outputs": [
    {
     "name": "stdout",
     "output_type": "stream",
     "text": [
      "<class 'pandas.core.frame.DataFrame'>\n",
      "RangeIndex: 112650 entries, 0 to 112649\n",
      "Data columns (total 8 columns):\n",
      " #   Column                         Non-Null Count   Dtype  \n",
      "---  ------                         --------------   -----  \n",
      " 0   order_id                       112650 non-null  object \n",
      " 1   order_item_id                  112650 non-null  int64  \n",
      " 2   product_id                     112650 non-null  object \n",
      " 3   seller_id                      112650 non-null  object \n",
      " 4   price                          112650 non-null  float64\n",
      " 5   freight_value                  112650 non-null  float64\n",
      " 6   product_category_name          112650 non-null  object \n",
      " 7   product_category_name_english  112650 non-null  object \n",
      "dtypes: float64(2), int64(1), object(5)\n",
      "memory usage: 6.9+ MB\n"
     ]
    }
   ],
   "source": [
    "order_items_products.info()"
   ]
  },
  {
   "cell_type": "code",
   "execution_count": 70,
   "id": "1be4676c-30f7-4a3d-b173-e738c6cfe4ef",
   "metadata": {},
   "outputs": [
    {
     "data": {
      "text/plain": [
       "order_id                         0\n",
       "order_item_id                    0\n",
       "product_id                       0\n",
       "seller_id                        0\n",
       "price                            0\n",
       "freight_value                    0\n",
       "product_category_name            0\n",
       "product_category_name_english    0\n",
       "dtype: int64"
      ]
     },
     "execution_count": 70,
     "metadata": {},
     "output_type": "execute_result"
    }
   ],
   "source": [
    "order_items_products.isna().sum()"
   ]
  },
  {
   "cell_type": "code",
   "execution_count": 71,
   "id": "d5ce2558-fc2a-458c-8ea3-acdebd636d5f",
   "metadata": {},
   "outputs": [
    {
     "data": {
      "text/plain": [
       "0"
      ]
     },
     "execution_count": 71,
     "metadata": {},
     "output_type": "execute_result"
    }
   ],
   "source": [
    "order_items_products.duplicated().sum()"
   ]
  },
  {
   "cell_type": "markdown",
   "id": "d1718044-1a6f-43b9-8b99-4a7cbe57d9fc",
   "metadata": {},
   "source": [
    "#### Tabel order_items_product dengan sellers_df"
   ]
  },
  {
   "cell_type": "code",
   "execution_count": 72,
   "id": "6929a862-9ac6-40c9-89b7-94f4980402fc",
   "metadata": {},
   "outputs": [],
   "source": [
    "items_products_sellers = pd.merge(\n",
    "    left=order_items_products,\n",
    "    right=sellers_df,\n",
    "    how=\"left\", #Agar terpilih seller yang menjual produk\n",
    "    left_on=\"seller_id\",\n",
    "    right_on=\"seller_id\"\n",
    ")"
   ]
  },
  {
   "cell_type": "code",
   "execution_count": 73,
   "id": "cb419b8f-f81c-4025-aac5-b4cb610712f2",
   "metadata": {},
   "outputs": [
    {
     "name": "stdout",
     "output_type": "stream",
     "text": [
      "<class 'pandas.core.frame.DataFrame'>\n",
      "RangeIndex: 112650 entries, 0 to 112649\n",
      "Data columns (total 10 columns):\n",
      " #   Column                         Non-Null Count   Dtype  \n",
      "---  ------                         --------------   -----  \n",
      " 0   order_id                       112650 non-null  object \n",
      " 1   order_item_id                  112650 non-null  int64  \n",
      " 2   product_id                     112650 non-null  object \n",
      " 3   seller_id                      112650 non-null  object \n",
      " 4   price                          112650 non-null  float64\n",
      " 5   freight_value                  112650 non-null  float64\n",
      " 6   product_category_name          112650 non-null  object \n",
      " 7   product_category_name_english  112650 non-null  object \n",
      " 8   seller_city                    112650 non-null  object \n",
      " 9   seller_state                   112650 non-null  object \n",
      "dtypes: float64(2), int64(1), object(7)\n",
      "memory usage: 8.6+ MB\n"
     ]
    }
   ],
   "source": [
    "items_products_sellers.info()"
   ]
  },
  {
   "cell_type": "code",
   "execution_count": 74,
   "id": "176d9aec-0b3c-4a54-b8bf-bc82f94445be",
   "metadata": {},
   "outputs": [
    {
     "data": {
      "text/plain": [
       "order_id                         0\n",
       "order_item_id                    0\n",
       "product_id                       0\n",
       "seller_id                        0\n",
       "price                            0\n",
       "freight_value                    0\n",
       "product_category_name            0\n",
       "product_category_name_english    0\n",
       "seller_city                      0\n",
       "seller_state                     0\n",
       "dtype: int64"
      ]
     },
     "execution_count": 74,
     "metadata": {},
     "output_type": "execute_result"
    }
   ],
   "source": [
    "items_products_sellers.isna().sum()"
   ]
  },
  {
   "cell_type": "code",
   "execution_count": 75,
   "id": "70887ec8-410a-4794-a2b4-d08907805753",
   "metadata": {},
   "outputs": [
    {
     "data": {
      "text/plain": [
       "0"
      ]
     },
     "execution_count": 75,
     "metadata": {},
     "output_type": "execute_result"
    }
   ],
   "source": [
    "items_products_sellers.duplicated().sum()"
   ]
  },
  {
   "cell_type": "markdown",
   "id": "2db39336-9e5e-4e0a-96f1-194c6729d20b",
   "metadata": {},
   "source": [
    "#### Tabel orders_df dengan customers_df"
   ]
  },
  {
   "cell_type": "code",
   "execution_count": 76,
   "id": "c466bbb6-b8a6-48b4-8249-68f82990a65b",
   "metadata": {},
   "outputs": [],
   "source": [
    "orders_customers = pd.merge(\n",
    "    left=orders_df,\n",
    "    right=customers_df,\n",
    "    how=\"left\", #Agar terpilih customer yang membeli produk\n",
    "    left_on=\"customer_id\",\n",
    "    right_on=\"customer_id\"\n",
    ")"
   ]
  },
  {
   "cell_type": "code",
   "execution_count": 77,
   "id": "56ed0ac2-bdd2-4cdd-bea9-f69ae11046d6",
   "metadata": {},
   "outputs": [
    {
     "name": "stdout",
     "output_type": "stream",
     "text": [
      "<class 'pandas.core.frame.DataFrame'>\n",
      "RangeIndex: 99441 entries, 0 to 99440\n",
      "Data columns (total 9 columns):\n",
      " #   Column                         Non-Null Count  Dtype         \n",
      "---  ------                         --------------  -----         \n",
      " 0   order_id                       99441 non-null  object        \n",
      " 1   customer_id                    99441 non-null  object        \n",
      " 2   order_status                   99441 non-null  object        \n",
      " 3   order_purchase_timestamp       99441 non-null  datetime64[ns]\n",
      " 4   order_approved_at              99281 non-null  datetime64[ns]\n",
      " 5   order_estimated_delivery_date  99441 non-null  datetime64[ns]\n",
      " 6   customer_unique_id             99441 non-null  object        \n",
      " 7   customer_city                  99441 non-null  object        \n",
      " 8   customer_state                 99441 non-null  object        \n",
      "dtypes: datetime64[ns](3), object(6)\n",
      "memory usage: 6.8+ MB\n"
     ]
    }
   ],
   "source": [
    "orders_customers.info()"
   ]
  },
  {
   "cell_type": "markdown",
   "id": "792d25b8-3f2f-45ec-81d9-2e57fd5561b4",
   "metadata": {},
   "source": [
    "Menghapus kolom order_approved_at dan order_estimated_delivery_date"
   ]
  },
  {
   "cell_type": "code",
   "execution_count": 78,
   "id": "bb99c476-fda0-4928-93b7-44febb6c0383",
   "metadata": {},
   "outputs": [],
   "source": [
    "orders_customers.drop(columns=[\"order_approved_at\",\"order_estimated_delivery_date\"], axis=1, inplace=True)"
   ]
  },
  {
   "cell_type": "code",
   "execution_count": 79,
   "id": "9c8f8f9c-ef2b-4a30-a1b9-97771486e6be",
   "metadata": {},
   "outputs": [
    {
     "name": "stdout",
     "output_type": "stream",
     "text": [
      "<class 'pandas.core.frame.DataFrame'>\n",
      "RangeIndex: 99441 entries, 0 to 99440\n",
      "Data columns (total 7 columns):\n",
      " #   Column                    Non-Null Count  Dtype         \n",
      "---  ------                    --------------  -----         \n",
      " 0   order_id                  99441 non-null  object        \n",
      " 1   customer_id               99441 non-null  object        \n",
      " 2   order_status              99441 non-null  object        \n",
      " 3   order_purchase_timestamp  99441 non-null  datetime64[ns]\n",
      " 4   customer_unique_id        99441 non-null  object        \n",
      " 5   customer_city             99441 non-null  object        \n",
      " 6   customer_state            99441 non-null  object        \n",
      "dtypes: datetime64[ns](1), object(6)\n",
      "memory usage: 5.3+ MB\n"
     ]
    }
   ],
   "source": [
    "orders_customers.info()"
   ]
  },
  {
   "cell_type": "code",
   "execution_count": 80,
   "id": "129551e0-cf9f-4dd3-baf6-96a3c78c2835",
   "metadata": {},
   "outputs": [
    {
     "data": {
      "text/plain": [
       "order_id                    0\n",
       "customer_id                 0\n",
       "order_status                0\n",
       "order_purchase_timestamp    0\n",
       "customer_unique_id          0\n",
       "customer_city               0\n",
       "customer_state              0\n",
       "dtype: int64"
      ]
     },
     "execution_count": 80,
     "metadata": {},
     "output_type": "execute_result"
    }
   ],
   "source": [
    "orders_customers.isna().sum()"
   ]
  },
  {
   "cell_type": "code",
   "execution_count": 81,
   "id": "5fc7d4ea-0df3-4e14-8240-b4d0256d2b6a",
   "metadata": {},
   "outputs": [
    {
     "data": {
      "text/plain": [
       "0"
      ]
     },
     "execution_count": 81,
     "metadata": {},
     "output_type": "execute_result"
    }
   ],
   "source": [
    "orders_customers.duplicated().sum()"
   ]
  },
  {
   "cell_type": "markdown",
   "id": "ab65b6cf-abce-464d-baaa-0325d46d0ca8",
   "metadata": {},
   "source": [
    "#### Menggabungkan semua tabel (orders_customers dan items_products_sellers)"
   ]
  },
  {
   "cell_type": "code",
   "execution_count": 82,
   "id": "13f61674-91a8-4d18-826d-b0c4a26a7439",
   "metadata": {},
   "outputs": [],
   "source": [
    "all_data = pd.merge(\n",
    "    left=orders_customers,\n",
    "    right=items_products_sellers,\n",
    "    how=\"left\", #Agar terpilih item, product dan seller sesuai order_id\n",
    "    left_on=\"order_id\",\n",
    "    right_on=\"order_id\"\n",
    ")"
   ]
  },
  {
   "cell_type": "code",
   "execution_count": 83,
   "id": "ae27cc95-5230-4500-bba2-7994f92b0af8",
   "metadata": {},
   "outputs": [
    {
     "name": "stdout",
     "output_type": "stream",
     "text": [
      "<class 'pandas.core.frame.DataFrame'>\n",
      "RangeIndex: 113425 entries, 0 to 113424\n",
      "Data columns (total 16 columns):\n",
      " #   Column                         Non-Null Count   Dtype         \n",
      "---  ------                         --------------   -----         \n",
      " 0   order_id                       113425 non-null  object        \n",
      " 1   customer_id                    113425 non-null  object        \n",
      " 2   order_status                   113425 non-null  object        \n",
      " 3   order_purchase_timestamp       113425 non-null  datetime64[ns]\n",
      " 4   customer_unique_id             113425 non-null  object        \n",
      " 5   customer_city                  113425 non-null  object        \n",
      " 6   customer_state                 113425 non-null  object        \n",
      " 7   order_item_id                  112650 non-null  float64       \n",
      " 8   product_id                     112650 non-null  object        \n",
      " 9   seller_id                      112650 non-null  object        \n",
      " 10  price                          112650 non-null  float64       \n",
      " 11  freight_value                  112650 non-null  float64       \n",
      " 12  product_category_name          112650 non-null  object        \n",
      " 13  product_category_name_english  112650 non-null  object        \n",
      " 14  seller_city                    112650 non-null  object        \n",
      " 15  seller_state                   112650 non-null  object        \n",
      "dtypes: datetime64[ns](1), float64(3), object(12)\n",
      "memory usage: 13.8+ MB\n"
     ]
    }
   ],
   "source": [
    "all_data.info()"
   ]
  },
  {
   "cell_type": "code",
   "execution_count": 84,
   "id": "d9282737-dcfc-449c-8797-67ccde611d58",
   "metadata": {},
   "outputs": [
    {
     "data": {
      "text/plain": [
       "0"
      ]
     },
     "execution_count": 84,
     "metadata": {},
     "output_type": "execute_result"
    }
   ],
   "source": [
    "all_data.duplicated().sum()"
   ]
  },
  {
   "cell_type": "code",
   "execution_count": 85,
   "id": "d0f73c84-d612-44bc-a99b-16557a874e09",
   "metadata": {},
   "outputs": [
    {
     "data": {
      "text/plain": [
       "order_id                           0\n",
       "customer_id                        0\n",
       "order_status                       0\n",
       "order_purchase_timestamp           0\n",
       "customer_unique_id                 0\n",
       "customer_city                      0\n",
       "customer_state                     0\n",
       "order_item_id                    775\n",
       "product_id                       775\n",
       "seller_id                        775\n",
       "price                            775\n",
       "freight_value                    775\n",
       "product_category_name            775\n",
       "product_category_name_english    775\n",
       "seller_city                      775\n",
       "seller_state                     775\n",
       "dtype: int64"
      ]
     },
     "execution_count": 85,
     "metadata": {},
     "output_type": "execute_result"
    }
   ],
   "source": [
    "all_data.isna().sum()"
   ]
  },
  {
   "cell_type": "markdown",
   "id": "0f81a912-3098-4951-879c-87e2c8912d7d",
   "metadata": {},
   "source": [
    "Terdapat 775 order_item_id yang tidak mempunyai order_id, dan akan kita hapus"
   ]
  },
  {
   "cell_type": "code",
   "execution_count": 86,
   "id": "3bef5f4b-d31d-4fca-ab3b-055015f80281",
   "metadata": {},
   "outputs": [
    {
     "data": {
      "text/html": [
       "<div>\n",
       "<style scoped>\n",
       "    .dataframe tbody tr th:only-of-type {\n",
       "        vertical-align: middle;\n",
       "    }\n",
       "\n",
       "    .dataframe tbody tr th {\n",
       "        vertical-align: top;\n",
       "    }\n",
       "\n",
       "    .dataframe thead th {\n",
       "        text-align: right;\n",
       "    }\n",
       "</style>\n",
       "<table border=\"1\" class=\"dataframe\">\n",
       "  <thead>\n",
       "    <tr style=\"text-align: right;\">\n",
       "      <th></th>\n",
       "      <th>order_id</th>\n",
       "      <th>customer_id</th>\n",
       "      <th>order_status</th>\n",
       "      <th>order_purchase_timestamp</th>\n",
       "      <th>customer_unique_id</th>\n",
       "      <th>customer_city</th>\n",
       "      <th>customer_state</th>\n",
       "      <th>order_item_id</th>\n",
       "      <th>product_id</th>\n",
       "      <th>seller_id</th>\n",
       "      <th>price</th>\n",
       "      <th>freight_value</th>\n",
       "      <th>product_category_name</th>\n",
       "      <th>product_category_name_english</th>\n",
       "      <th>seller_city</th>\n",
       "      <th>seller_state</th>\n",
       "    </tr>\n",
       "  </thead>\n",
       "  <tbody>\n",
       "    <tr>\n",
       "      <th>0</th>\n",
       "      <td>e481f51cbdc54678b7cc49136f2d6af7</td>\n",
       "      <td>9ef432eb6251297304e76186b10a928d</td>\n",
       "      <td>delivered</td>\n",
       "      <td>2017-10-02 10:56:33</td>\n",
       "      <td>7c396fd4830fd04220f754e42b4e5bff</td>\n",
       "      <td>sao paulo</td>\n",
       "      <td>SP</td>\n",
       "      <td>1.0</td>\n",
       "      <td>87285b34884572647811a353c7ac498a</td>\n",
       "      <td>3504c0cb71d7fa48d967e0e4c94d59d9</td>\n",
       "      <td>29.99</td>\n",
       "      <td>8.72</td>\n",
       "      <td>utilidades_domesticas</td>\n",
       "      <td>housewares</td>\n",
       "      <td>maua</td>\n",
       "      <td>SP</td>\n",
       "    </tr>\n",
       "    <tr>\n",
       "      <th>1</th>\n",
       "      <td>53cdb2fc8bc7dce0b6741e2150273451</td>\n",
       "      <td>b0830fb4747a6c6d20dea0b8c802d7ef</td>\n",
       "      <td>delivered</td>\n",
       "      <td>2018-07-24 20:41:37</td>\n",
       "      <td>af07308b275d755c9edb36a90c618231</td>\n",
       "      <td>barreiras</td>\n",
       "      <td>BA</td>\n",
       "      <td>1.0</td>\n",
       "      <td>595fac2a385ac33a80bd5114aec74eb8</td>\n",
       "      <td>289cdb325fb7e7f891c38608bf9e0962</td>\n",
       "      <td>118.70</td>\n",
       "      <td>22.76</td>\n",
       "      <td>perfumaria</td>\n",
       "      <td>perfumery</td>\n",
       "      <td>belo horizonte</td>\n",
       "      <td>SP</td>\n",
       "    </tr>\n",
       "    <tr>\n",
       "      <th>2</th>\n",
       "      <td>47770eb9100c2d0c44946d9cf07ec65d</td>\n",
       "      <td>41ce2a54c0b03bf3443c3d931a367089</td>\n",
       "      <td>delivered</td>\n",
       "      <td>2018-08-08 08:38:49</td>\n",
       "      <td>3a653a41f6f9fc3d2a113cf8398680e8</td>\n",
       "      <td>vianopolis</td>\n",
       "      <td>GO</td>\n",
       "      <td>1.0</td>\n",
       "      <td>aa4383b373c6aca5d8797843e5594415</td>\n",
       "      <td>4869f7a5dfa277a7dca6462dcf3b52b2</td>\n",
       "      <td>159.90</td>\n",
       "      <td>19.22</td>\n",
       "      <td>automotivo</td>\n",
       "      <td>auto</td>\n",
       "      <td>guariba</td>\n",
       "      <td>SP</td>\n",
       "    </tr>\n",
       "    <tr>\n",
       "      <th>3</th>\n",
       "      <td>949d5b44dbf5de918fe9c16f97b45f8a</td>\n",
       "      <td>f88197465ea7920adcdbec7375364d82</td>\n",
       "      <td>delivered</td>\n",
       "      <td>2017-11-18 19:28:06</td>\n",
       "      <td>7c142cf63193a1473d2e66489a9ae977</td>\n",
       "      <td>sao goncalo do amarante</td>\n",
       "      <td>RN</td>\n",
       "      <td>1.0</td>\n",
       "      <td>d0b61bfb1de832b15ba9d266ca96e5b0</td>\n",
       "      <td>66922902710d126a0e7d26b0e3805106</td>\n",
       "      <td>45.00</td>\n",
       "      <td>27.20</td>\n",
       "      <td>pet_shop</td>\n",
       "      <td>pet_shop</td>\n",
       "      <td>belo horizonte</td>\n",
       "      <td>MG</td>\n",
       "    </tr>\n",
       "    <tr>\n",
       "      <th>4</th>\n",
       "      <td>ad21c59c0840e6cb83a9ceb5573f8159</td>\n",
       "      <td>8ab97904e6daea8866dbdbc4fb7aad2c</td>\n",
       "      <td>delivered</td>\n",
       "      <td>2018-02-13 21:18:39</td>\n",
       "      <td>72632f0f9dd73dfee390c9b22eb56dd6</td>\n",
       "      <td>santo andre</td>\n",
       "      <td>SP</td>\n",
       "      <td>1.0</td>\n",
       "      <td>65266b2da20d04dbe00c5c2d3bb7859e</td>\n",
       "      <td>2c9e548be18521d1c43cde1c582c6de8</td>\n",
       "      <td>19.90</td>\n",
       "      <td>8.72</td>\n",
       "      <td>papelaria</td>\n",
       "      <td>stationery</td>\n",
       "      <td>mogi das cruzes</td>\n",
       "      <td>SP</td>\n",
       "    </tr>\n",
       "    <tr>\n",
       "      <th>...</th>\n",
       "      <td>...</td>\n",
       "      <td>...</td>\n",
       "      <td>...</td>\n",
       "      <td>...</td>\n",
       "      <td>...</td>\n",
       "      <td>...</td>\n",
       "      <td>...</td>\n",
       "      <td>...</td>\n",
       "      <td>...</td>\n",
       "      <td>...</td>\n",
       "      <td>...</td>\n",
       "      <td>...</td>\n",
       "      <td>...</td>\n",
       "      <td>...</td>\n",
       "      <td>...</td>\n",
       "      <td>...</td>\n",
       "    </tr>\n",
       "    <tr>\n",
       "      <th>113420</th>\n",
       "      <td>63943bddc261676b46f01ca7ac2f7bd8</td>\n",
       "      <td>1fca14ff2861355f6e5f14306ff977a7</td>\n",
       "      <td>delivered</td>\n",
       "      <td>2018-02-06 12:58:58</td>\n",
       "      <td>da62f9e57a76d978d02ab5362c509660</td>\n",
       "      <td>praia grande</td>\n",
       "      <td>SP</td>\n",
       "      <td>1.0</td>\n",
       "      <td>f1d4ce8c6dd66c47bbaa8c6781c2a923</td>\n",
       "      <td>1f9ab4708f3056ede07124aad39a2554</td>\n",
       "      <td>174.90</td>\n",
       "      <td>20.10</td>\n",
       "      <td>bebes</td>\n",
       "      <td>baby</td>\n",
       "      <td>tupa</td>\n",
       "      <td>SP</td>\n",
       "    </tr>\n",
       "    <tr>\n",
       "      <th>113421</th>\n",
       "      <td>83c1379a015df1e13d02aae0204711ab</td>\n",
       "      <td>1aa71eb042121263aafbe80c1b562c9c</td>\n",
       "      <td>delivered</td>\n",
       "      <td>2017-08-27 14:46:43</td>\n",
       "      <td>737520a9aad80b3fbbdad19b66b37b30</td>\n",
       "      <td>nova vicosa</td>\n",
       "      <td>BA</td>\n",
       "      <td>1.0</td>\n",
       "      <td>b80910977a37536adeddd63663f916ad</td>\n",
       "      <td>d50d79cb34e38265a8649c383dcffd48</td>\n",
       "      <td>205.99</td>\n",
       "      <td>65.02</td>\n",
       "      <td>eletrodomesticos_2</td>\n",
       "      <td>home_appliances_2</td>\n",
       "      <td>sao paulo</td>\n",
       "      <td>SP</td>\n",
       "    </tr>\n",
       "    <tr>\n",
       "      <th>113422</th>\n",
       "      <td>11c177c8e97725db2631073c19f07b62</td>\n",
       "      <td>b331b74b18dc79bcdf6532d51e1637c1</td>\n",
       "      <td>delivered</td>\n",
       "      <td>2018-01-08 21:28:27</td>\n",
       "      <td>5097a5312c8b157bb7be58ae360ef43c</td>\n",
       "      <td>japuiba</td>\n",
       "      <td>RJ</td>\n",
       "      <td>1.0</td>\n",
       "      <td>d1c427060a0f73f6b889a5c7c61f2ac4</td>\n",
       "      <td>a1043bafd471dff536d0c462352beb48</td>\n",
       "      <td>179.99</td>\n",
       "      <td>40.59</td>\n",
       "      <td>informatica_acessorios</td>\n",
       "      <td>computers_accessories</td>\n",
       "      <td>ilicinea</td>\n",
       "      <td>MG</td>\n",
       "    </tr>\n",
       "    <tr>\n",
       "      <th>113423</th>\n",
       "      <td>11c177c8e97725db2631073c19f07b62</td>\n",
       "      <td>b331b74b18dc79bcdf6532d51e1637c1</td>\n",
       "      <td>delivered</td>\n",
       "      <td>2018-01-08 21:28:27</td>\n",
       "      <td>5097a5312c8b157bb7be58ae360ef43c</td>\n",
       "      <td>japuiba</td>\n",
       "      <td>RJ</td>\n",
       "      <td>2.0</td>\n",
       "      <td>d1c427060a0f73f6b889a5c7c61f2ac4</td>\n",
       "      <td>a1043bafd471dff536d0c462352beb48</td>\n",
       "      <td>179.99</td>\n",
       "      <td>40.59</td>\n",
       "      <td>informatica_acessorios</td>\n",
       "      <td>computers_accessories</td>\n",
       "      <td>ilicinea</td>\n",
       "      <td>MG</td>\n",
       "    </tr>\n",
       "    <tr>\n",
       "      <th>113424</th>\n",
       "      <td>66dea50a8b16d9b4dee7af250b4be1a5</td>\n",
       "      <td>edb027a75a1449115f6b43211ae02a24</td>\n",
       "      <td>delivered</td>\n",
       "      <td>2018-03-08 20:57:30</td>\n",
       "      <td>60350aa974b26ff12caad89e55993bd6</td>\n",
       "      <td>lapa</td>\n",
       "      <td>PR</td>\n",
       "      <td>1.0</td>\n",
       "      <td>006619bbed68b000c8ba3f8725d5409e</td>\n",
       "      <td>ececbfcff9804a2d6b40f589df8eef2b</td>\n",
       "      <td>68.50</td>\n",
       "      <td>18.36</td>\n",
       "      <td>beleza_saude</td>\n",
       "      <td>health_beauty</td>\n",
       "      <td>franca</td>\n",
       "      <td>SP</td>\n",
       "    </tr>\n",
       "  </tbody>\n",
       "</table>\n",
       "<p>112650 rows × 16 columns</p>\n",
       "</div>"
      ],
      "text/plain": [
       "                                order_id                       customer_id  \\\n",
       "0       e481f51cbdc54678b7cc49136f2d6af7  9ef432eb6251297304e76186b10a928d   \n",
       "1       53cdb2fc8bc7dce0b6741e2150273451  b0830fb4747a6c6d20dea0b8c802d7ef   \n",
       "2       47770eb9100c2d0c44946d9cf07ec65d  41ce2a54c0b03bf3443c3d931a367089   \n",
       "3       949d5b44dbf5de918fe9c16f97b45f8a  f88197465ea7920adcdbec7375364d82   \n",
       "4       ad21c59c0840e6cb83a9ceb5573f8159  8ab97904e6daea8866dbdbc4fb7aad2c   \n",
       "...                                  ...                               ...   \n",
       "113420  63943bddc261676b46f01ca7ac2f7bd8  1fca14ff2861355f6e5f14306ff977a7   \n",
       "113421  83c1379a015df1e13d02aae0204711ab  1aa71eb042121263aafbe80c1b562c9c   \n",
       "113422  11c177c8e97725db2631073c19f07b62  b331b74b18dc79bcdf6532d51e1637c1   \n",
       "113423  11c177c8e97725db2631073c19f07b62  b331b74b18dc79bcdf6532d51e1637c1   \n",
       "113424  66dea50a8b16d9b4dee7af250b4be1a5  edb027a75a1449115f6b43211ae02a24   \n",
       "\n",
       "       order_status order_purchase_timestamp  \\\n",
       "0         delivered      2017-10-02 10:56:33   \n",
       "1         delivered      2018-07-24 20:41:37   \n",
       "2         delivered      2018-08-08 08:38:49   \n",
       "3         delivered      2017-11-18 19:28:06   \n",
       "4         delivered      2018-02-13 21:18:39   \n",
       "...             ...                      ...   \n",
       "113420    delivered      2018-02-06 12:58:58   \n",
       "113421    delivered      2017-08-27 14:46:43   \n",
       "113422    delivered      2018-01-08 21:28:27   \n",
       "113423    delivered      2018-01-08 21:28:27   \n",
       "113424    delivered      2018-03-08 20:57:30   \n",
       "\n",
       "                      customer_unique_id            customer_city  \\\n",
       "0       7c396fd4830fd04220f754e42b4e5bff                sao paulo   \n",
       "1       af07308b275d755c9edb36a90c618231                barreiras   \n",
       "2       3a653a41f6f9fc3d2a113cf8398680e8               vianopolis   \n",
       "3       7c142cf63193a1473d2e66489a9ae977  sao goncalo do amarante   \n",
       "4       72632f0f9dd73dfee390c9b22eb56dd6              santo andre   \n",
       "...                                  ...                      ...   \n",
       "113420  da62f9e57a76d978d02ab5362c509660             praia grande   \n",
       "113421  737520a9aad80b3fbbdad19b66b37b30              nova vicosa   \n",
       "113422  5097a5312c8b157bb7be58ae360ef43c                  japuiba   \n",
       "113423  5097a5312c8b157bb7be58ae360ef43c                  japuiba   \n",
       "113424  60350aa974b26ff12caad89e55993bd6                     lapa   \n",
       "\n",
       "       customer_state  order_item_id                        product_id  \\\n",
       "0                  SP            1.0  87285b34884572647811a353c7ac498a   \n",
       "1                  BA            1.0  595fac2a385ac33a80bd5114aec74eb8   \n",
       "2                  GO            1.0  aa4383b373c6aca5d8797843e5594415   \n",
       "3                  RN            1.0  d0b61bfb1de832b15ba9d266ca96e5b0   \n",
       "4                  SP            1.0  65266b2da20d04dbe00c5c2d3bb7859e   \n",
       "...               ...            ...                               ...   \n",
       "113420             SP            1.0  f1d4ce8c6dd66c47bbaa8c6781c2a923   \n",
       "113421             BA            1.0  b80910977a37536adeddd63663f916ad   \n",
       "113422             RJ            1.0  d1c427060a0f73f6b889a5c7c61f2ac4   \n",
       "113423             RJ            2.0  d1c427060a0f73f6b889a5c7c61f2ac4   \n",
       "113424             PR            1.0  006619bbed68b000c8ba3f8725d5409e   \n",
       "\n",
       "                               seller_id   price  freight_value  \\\n",
       "0       3504c0cb71d7fa48d967e0e4c94d59d9   29.99           8.72   \n",
       "1       289cdb325fb7e7f891c38608bf9e0962  118.70          22.76   \n",
       "2       4869f7a5dfa277a7dca6462dcf3b52b2  159.90          19.22   \n",
       "3       66922902710d126a0e7d26b0e3805106   45.00          27.20   \n",
       "4       2c9e548be18521d1c43cde1c582c6de8   19.90           8.72   \n",
       "...                                  ...     ...            ...   \n",
       "113420  1f9ab4708f3056ede07124aad39a2554  174.90          20.10   \n",
       "113421  d50d79cb34e38265a8649c383dcffd48  205.99          65.02   \n",
       "113422  a1043bafd471dff536d0c462352beb48  179.99          40.59   \n",
       "113423  a1043bafd471dff536d0c462352beb48  179.99          40.59   \n",
       "113424  ececbfcff9804a2d6b40f589df8eef2b   68.50          18.36   \n",
       "\n",
       "         product_category_name product_category_name_english      seller_city  \\\n",
       "0        utilidades_domesticas                    housewares             maua   \n",
       "1                   perfumaria                     perfumery   belo horizonte   \n",
       "2                   automotivo                          auto          guariba   \n",
       "3                     pet_shop                      pet_shop   belo horizonte   \n",
       "4                    papelaria                    stationery  mogi das cruzes   \n",
       "...                        ...                           ...              ...   \n",
       "113420                   bebes                          baby             tupa   \n",
       "113421      eletrodomesticos_2             home_appliances_2        sao paulo   \n",
       "113422  informatica_acessorios         computers_accessories         ilicinea   \n",
       "113423  informatica_acessorios         computers_accessories         ilicinea   \n",
       "113424            beleza_saude                 health_beauty           franca   \n",
       "\n",
       "       seller_state  \n",
       "0                SP  \n",
       "1                SP  \n",
       "2                SP  \n",
       "3                MG  \n",
       "4                SP  \n",
       "...             ...  \n",
       "113420           SP  \n",
       "113421           SP  \n",
       "113422           MG  \n",
       "113423           MG  \n",
       "113424           SP  \n",
       "\n",
       "[112650 rows x 16 columns]"
      ]
     },
     "execution_count": 86,
     "metadata": {},
     "output_type": "execute_result"
    }
   ],
   "source": [
    "all_data.dropna()"
   ]
  },
  {
   "cell_type": "markdown",
   "id": "a01332c6-ce28-4eec-b13b-86263c229a60",
   "metadata": {},
   "source": [
    "Data sudah bersih, terdiri dari 112.650 baris dan 16 kolom"
   ]
  },
  {
   "cell_type": "markdown",
   "id": "a39cf6ba-090d-4e49-a531-a3ebea74690b",
   "metadata": {},
   "source": [
    "## Visualization & Explanatory Analysis"
   ]
  },
  {
   "cell_type": "markdown",
   "id": "c0bb2b5a-2026-4a7b-9f79-5b531a903b0e",
   "metadata": {},
   "source": [
    "### Pertanyaan 1"
   ]
  },
  {
   "cell_type": "markdown",
   "id": "e4a78c8f-13ae-4361-a63e-227d4359612f",
   "metadata": {},
   "source": [
    "#### Produk dalam kategori apa yang memiliki jumlah pesanan paling banyak dan paling sedikit?"
   ]
  },
  {
   "cell_type": "code",
   "execution_count": 87,
   "id": "412a40dc-34d9-498c-8ce9-dbaf7928b105",
   "metadata": {},
   "outputs": [
    {
     "data": {
      "text/html": [
       "<div>\n",
       "<style scoped>\n",
       "    .dataframe tbody tr th:only-of-type {\n",
       "        vertical-align: middle;\n",
       "    }\n",
       "\n",
       "    .dataframe tbody tr th {\n",
       "        vertical-align: top;\n",
       "    }\n",
       "\n",
       "    .dataframe thead th {\n",
       "        text-align: right;\n",
       "    }\n",
       "</style>\n",
       "<table border=\"1\" class=\"dataframe\">\n",
       "  <thead>\n",
       "    <tr style=\"text-align: right;\">\n",
       "      <th></th>\n",
       "      <th>product_category_name_english</th>\n",
       "      <th>order_id</th>\n",
       "      <th>price</th>\n",
       "    </tr>\n",
       "  </thead>\n",
       "  <tbody>\n",
       "    <tr>\n",
       "      <th>0</th>\n",
       "      <td>agro_industry_and_commerce</td>\n",
       "      <td>182</td>\n",
       "      <td>72530.47</td>\n",
       "    </tr>\n",
       "    <tr>\n",
       "      <th>1</th>\n",
       "      <td>air_conditioning</td>\n",
       "      <td>253</td>\n",
       "      <td>55024.96</td>\n",
       "    </tr>\n",
       "    <tr>\n",
       "      <th>2</th>\n",
       "      <td>art</td>\n",
       "      <td>202</td>\n",
       "      <td>24202.64</td>\n",
       "    </tr>\n",
       "    <tr>\n",
       "      <th>3</th>\n",
       "      <td>arts_and_craftmanship</td>\n",
       "      <td>23</td>\n",
       "      <td>1814.01</td>\n",
       "    </tr>\n",
       "    <tr>\n",
       "      <th>4</th>\n",
       "      <td>audio</td>\n",
       "      <td>350</td>\n",
       "      <td>50688.50</td>\n",
       "    </tr>\n",
       "    <tr>\n",
       "      <th>...</th>\n",
       "      <td>...</td>\n",
       "      <td>...</td>\n",
       "      <td>...</td>\n",
       "    </tr>\n",
       "    <tr>\n",
       "      <th>69</th>\n",
       "      <td>stationery</td>\n",
       "      <td>2311</td>\n",
       "      <td>230943.23</td>\n",
       "    </tr>\n",
       "    <tr>\n",
       "      <th>70</th>\n",
       "      <td>tablets_printing_image</td>\n",
       "      <td>79</td>\n",
       "      <td>7528.41</td>\n",
       "    </tr>\n",
       "    <tr>\n",
       "      <th>71</th>\n",
       "      <td>telephony</td>\n",
       "      <td>4199</td>\n",
       "      <td>323667.53</td>\n",
       "    </tr>\n",
       "    <tr>\n",
       "      <th>72</th>\n",
       "      <td>toys</td>\n",
       "      <td>3886</td>\n",
       "      <td>483946.60</td>\n",
       "    </tr>\n",
       "    <tr>\n",
       "      <th>73</th>\n",
       "      <td>watches_gifts</td>\n",
       "      <td>5624</td>\n",
       "      <td>1205005.68</td>\n",
       "    </tr>\n",
       "  </tbody>\n",
       "</table>\n",
       "<p>74 rows × 3 columns</p>\n",
       "</div>"
      ],
      "text/plain": [
       "   product_category_name_english  order_id       price\n",
       "0     agro_industry_and_commerce       182    72530.47\n",
       "1               air_conditioning       253    55024.96\n",
       "2                            art       202    24202.64\n",
       "3          arts_and_craftmanship        23     1814.01\n",
       "4                          audio       350    50688.50\n",
       "..                           ...       ...         ...\n",
       "69                    stationery      2311   230943.23\n",
       "70        tablets_printing_image        79     7528.41\n",
       "71                     telephony      4199   323667.53\n",
       "72                          toys      3886   483946.60\n",
       "73                 watches_gifts      5624  1205005.68\n",
       "\n",
       "[74 rows x 3 columns]"
      ]
     },
     "execution_count": 87,
     "metadata": {},
     "output_type": "execute_result"
    }
   ],
   "source": [
    "sum_order_items_df = all_data.groupby(by=\"product_category_name_english\").agg({\n",
    "    \"order_id\":\"nunique\",\n",
    "    \"price\":\"sum\"\n",
    "}).reset_index()\n",
    "sum_order_items_df"
   ]
  },
  {
   "cell_type": "code",
   "execution_count": 88,
   "id": "a625a63c-fd4d-49f8-bf39-548eeecfa03c",
   "metadata": {},
   "outputs": [
    {
     "data": {
      "image/png": "[encoded data removed]",
      "text/plain": [
       "<Figure size 2000x500 with 2 Axes>"
      ]
     },
     "metadata": {},
     "output_type": "display_data"
    }
   ],
   "source": [
    "fig, ax = plt.subplots(nrows=1, ncols=2, figsize=(20,5))\n",
    "\n",
    "colors = [\"#72BCD4\", \"#D3D3D3\", \"#D3D3D3\", \"#D3D3D3\", \"#D3D3D3\"]\n",
    "\n",
    "sns.barplot(x=\"order_id\", y=\"product_category_name_english\", data=sum_order_items_df.sort_values(by=\"order_id\", ascending=False).head(5), palette=colors, ax=ax[0])\n",
    "ax[0].set_ylabel(None)\n",
    "ax[0].set_xlabel(None)\n",
    "ax[0].set_title(\"Best Performing Product\", loc=\"center\", fontsize=10)\n",
    "ax[0].tick_params(axis='y', labelsize=8)\n",
    "ax[0].tick_params(axis='x', labelsize=8)\n",
    "\n",
    "sns.barplot(x=\"order_id\", y=\"product_category_name_english\", data=sum_order_items_df.sort_values(by=\"order_id\", ascending=True).head(5), palette=colors, ax=ax[1])\n",
    "ax[1].set_ylabel(None)\n",
    "ax[1].set_xlabel(None)\n",
    "ax[1].invert_xaxis()\n",
    "ax[1].yaxis.set_label_position(\"right\")\n",
    "ax[1].yaxis.tick_right()\n",
    "ax[1].set_title(\"Worst Performing Product\", loc=\"center\", fontsize=10)\n",
    "ax[1].tick_params(axis='y', labelsize=8)\n",
    "ax[1].tick_params(axis='x', labelsize=8)\n",
    "\n",
    "plt.suptitle(\"Best and Worst Performing Product by Number of Sales\", fontsize=15)\n",
    "plt.show()\n"
   ]
  },
  {
   "cell_type": "markdown",
   "id": "12b787af-b052-413b-b313-4311939f3581",
   "metadata": {},
   "source": [
    "Produk heatlh and beauty memiliki jumlah total order tertinggi sementera produk security and services memiliki jumlah total order paling sedikit."
   ]
  },
  {
   "cell_type": "markdown",
   "id": "7224836d-9c47-4fd2-868c-ae87fadbf937",
   "metadata": {},
   "source": [
    "### Pertanyaan 2 (Demografi Pelanggan)"
   ]
  },
  {
   "cell_type": "markdown",
   "id": "955a8a8e-1ff4-4444-b2db-c8f4a569cdd4",
   "metadata": {},
   "source": [
    "#### Tunjukkan 10 kota dengan pembeli terbanyak!"
   ]
  },
  {
   "cell_type": "code",
   "execution_count": 89,
   "id": "3ff07961-01f1-49a7-b738-69a199243923",
   "metadata": {},
   "outputs": [
    {
     "data": {
      "text/html": [
       "<div>\n",
       "<style scoped>\n",
       "    .dataframe tbody tr th:only-of-type {\n",
       "        vertical-align: middle;\n",
       "    }\n",
       "\n",
       "    .dataframe tbody tr th {\n",
       "        vertical-align: top;\n",
       "    }\n",
       "\n",
       "    .dataframe thead th {\n",
       "        text-align: right;\n",
       "    }\n",
       "</style>\n",
       "<table border=\"1\" class=\"dataframe\">\n",
       "  <thead>\n",
       "    <tr style=\"text-align: right;\">\n",
       "      <th></th>\n",
       "      <th>customer_city</th>\n",
       "      <th>customer_count</th>\n",
       "    </tr>\n",
       "  </thead>\n",
       "  <tbody>\n",
       "    <tr>\n",
       "      <th>0</th>\n",
       "      <td>sao paulo</td>\n",
       "      <td>14984</td>\n",
       "    </tr>\n",
       "    <tr>\n",
       "      <th>1</th>\n",
       "      <td>rio de janeiro</td>\n",
       "      <td>6620</td>\n",
       "    </tr>\n",
       "    <tr>\n",
       "      <th>2</th>\n",
       "      <td>belo horizonte</td>\n",
       "      <td>2672</td>\n",
       "    </tr>\n",
       "    <tr>\n",
       "      <th>3</th>\n",
       "      <td>brasilia</td>\n",
       "      <td>2069</td>\n",
       "    </tr>\n",
       "    <tr>\n",
       "      <th>4</th>\n",
       "      <td>curitiba</td>\n",
       "      <td>1465</td>\n",
       "    </tr>\n",
       "    <tr>\n",
       "      <th>5</th>\n",
       "      <td>campinas</td>\n",
       "      <td>1398</td>\n",
       "    </tr>\n",
       "    <tr>\n",
       "      <th>6</th>\n",
       "      <td>porto alegre</td>\n",
       "      <td>1326</td>\n",
       "    </tr>\n",
       "    <tr>\n",
       "      <th>7</th>\n",
       "      <td>salvador</td>\n",
       "      <td>1209</td>\n",
       "    </tr>\n",
       "    <tr>\n",
       "      <th>8</th>\n",
       "      <td>guarulhos</td>\n",
       "      <td>1153</td>\n",
       "    </tr>\n",
       "    <tr>\n",
       "      <th>9</th>\n",
       "      <td>sao bernardo do campo</td>\n",
       "      <td>908</td>\n",
       "    </tr>\n",
       "  </tbody>\n",
       "</table>\n",
       "</div>"
      ],
      "text/plain": [
       "           customer_city  customer_count\n",
       "0              sao paulo           14984\n",
       "1         rio de janeiro            6620\n",
       "2         belo horizonte            2672\n",
       "3               brasilia            2069\n",
       "4               curitiba            1465\n",
       "5               campinas            1398\n",
       "6           porto alegre            1326\n",
       "7               salvador            1209\n",
       "8              guarulhos            1153\n",
       "9  sao bernardo do campo             908"
      ]
     },
     "execution_count": 89,
     "metadata": {},
     "output_type": "execute_result"
    }
   ],
   "source": [
    "customers_by_city = all_data.groupby(by=\"customer_city\").customer_unique_id.nunique().sort_values(ascending=False).reset_index()\n",
    "customers_by_city.rename(columns={\n",
    "    \"customer_unique_id\":\"customer_count\"\n",
    "}, inplace=True)\n",
    "\n",
    "customers_by_city.head(10)\n"
   ]
  },
  {
   "cell_type": "code",
   "execution_count": 90,
   "id": "4911fbc0-ee28-4432-8495-cfbb3acca554",
   "metadata": {},
   "outputs": [
    {
     "data": {
      "image/png": "[encoded data removed]",
      "text/plain": [
       "<Figure size 1000x500 with 1 Axes>"
      ]
     },
     "metadata": {},
     "output_type": "display_data"
    }
   ],
   "source": [
    "plt.figure(figsize=(10,5))\n",
    "colors = [\"#72BCD4\", \"#D3D3D3\", \"#D3D3D3\", \"#D3D3D3\", \"#D3D3D3\", \"#D3D3D3\", \"#D3D3D3\", \"#D3D3D3\", \"#D3D3D3\", \"#D3D3D3\"]\n",
    "sns.barplot(\n",
    "    x=\"customer_count\", \n",
    "    y=\"customer_city\",\n",
    "    data=customers_by_city.head(10),\n",
    "    palette=colors\n",
    ")\n",
    "plt.title(\"Number of Customer by city\", loc=\"center\", fontsize=15)\n",
    "plt.ylabel(None)\n",
    "plt.xlabel(None)\n",
    "plt.tick_params(axis='y', labelsize=12)\n",
    "plt.show()"
   ]
  },
  {
   "cell_type": "markdown",
   "id": "2013be2f-7839-48c4-88eb-a823210d6ea9",
   "metadata": {},
   "source": [
    "Kota dengan jumlah pembeli terbanyak adalah :\n",
    "1. Sao Paulo\n",
    "2. Rio de Janeiro\n",
    "3. Belo Horizonte\n",
    "4. Brasilia\n",
    "5. Curitiba\n",
    "6. Campinas\n",
    "7. Porto Alegre\n",
    "8. Salvador\n",
    "9. Guarulhos\n",
    "10. Sao Bernardo do Campo"
   ]
  },
  {
   "cell_type": "markdown",
   "id": "38f829ba-9813-4528-8865-5a9b887587b9",
   "metadata": {},
   "source": [
    "### Pertanyaan 3"
   ]
  },
  {
   "cell_type": "markdown",
   "id": "a9f17e84-c8a7-4777-b82f-3dd2d347a61d",
   "metadata": {},
   "source": [
    "#### Bagaimana tren penjualan dalam kurun waktu data didapatkan?"
   ]
  },
  {
   "cell_type": "code",
   "execution_count": 92,
   "id": "470e9032-846d-40c9-b3ef-0a2aca690eca",
   "metadata": {},
   "outputs": [
    {
     "data": {
      "text/html": [
       "<div>\n",
       "<style scoped>\n",
       "    .dataframe tbody tr th:only-of-type {\n",
       "        vertical-align: middle;\n",
       "    }\n",
       "\n",
       "    .dataframe tbody tr th {\n",
       "        vertical-align: top;\n",
       "    }\n",
       "\n",
       "    .dataframe thead th {\n",
       "        text-align: right;\n",
       "    }\n",
       "</style>\n",
       "<table border=\"1\" class=\"dataframe\">\n",
       "  <thead>\n",
       "    <tr style=\"text-align: right;\">\n",
       "      <th></th>\n",
       "      <th>order_date</th>\n",
       "      <th>order_count</th>\n",
       "      <th>revenue</th>\n",
       "    </tr>\n",
       "  </thead>\n",
       "  <tbody>\n",
       "    <tr>\n",
       "      <th>0</th>\n",
       "      <td>09-2016</td>\n",
       "      <td>4</td>\n",
       "      <td>267.36</td>\n",
       "    </tr>\n",
       "    <tr>\n",
       "      <th>1</th>\n",
       "      <td>10-2016</td>\n",
       "      <td>324</td>\n",
       "      <td>49507.66</td>\n",
       "    </tr>\n",
       "    <tr>\n",
       "      <th>2</th>\n",
       "      <td>11-2016</td>\n",
       "      <td>0</td>\n",
       "      <td>0.00</td>\n",
       "    </tr>\n",
       "    <tr>\n",
       "      <th>3</th>\n",
       "      <td>12-2016</td>\n",
       "      <td>1</td>\n",
       "      <td>10.90</td>\n",
       "    </tr>\n",
       "    <tr>\n",
       "      <th>4</th>\n",
       "      <td>01-2017</td>\n",
       "      <td>800</td>\n",
       "      <td>120312.87</td>\n",
       "    </tr>\n",
       "    <tr>\n",
       "      <th>5</th>\n",
       "      <td>02-2017</td>\n",
       "      <td>1780</td>\n",
       "      <td>247303.02</td>\n",
       "    </tr>\n",
       "    <tr>\n",
       "      <th>6</th>\n",
       "      <td>03-2017</td>\n",
       "      <td>2682</td>\n",
       "      <td>374344.30</td>\n",
       "    </tr>\n",
       "    <tr>\n",
       "      <th>7</th>\n",
       "      <td>04-2017</td>\n",
       "      <td>2404</td>\n",
       "      <td>359927.23</td>\n",
       "    </tr>\n",
       "    <tr>\n",
       "      <th>8</th>\n",
       "      <td>05-2017</td>\n",
       "      <td>3700</td>\n",
       "      <td>506071.14</td>\n",
       "    </tr>\n",
       "    <tr>\n",
       "      <th>9</th>\n",
       "      <td>06-2017</td>\n",
       "      <td>3245</td>\n",
       "      <td>433038.60</td>\n",
       "    </tr>\n",
       "    <tr>\n",
       "      <th>10</th>\n",
       "      <td>07-2017</td>\n",
       "      <td>4026</td>\n",
       "      <td>498031.48</td>\n",
       "    </tr>\n",
       "    <tr>\n",
       "      <th>11</th>\n",
       "      <td>08-2017</td>\n",
       "      <td>4331</td>\n",
       "      <td>573971.68</td>\n",
       "    </tr>\n",
       "    <tr>\n",
       "      <th>12</th>\n",
       "      <td>09-2017</td>\n",
       "      <td>4285</td>\n",
       "      <td>624401.69</td>\n",
       "    </tr>\n",
       "    <tr>\n",
       "      <th>13</th>\n",
       "      <td>10-2017</td>\n",
       "      <td>4631</td>\n",
       "      <td>664219.43</td>\n",
       "    </tr>\n",
       "    <tr>\n",
       "      <th>14</th>\n",
       "      <td>11-2017</td>\n",
       "      <td>7544</td>\n",
       "      <td>1010271.37</td>\n",
       "    </tr>\n",
       "    <tr>\n",
       "      <th>15</th>\n",
       "      <td>12-2017</td>\n",
       "      <td>5673</td>\n",
       "      <td>743914.17</td>\n",
       "    </tr>\n",
       "    <tr>\n",
       "      <th>16</th>\n",
       "      <td>01-2018</td>\n",
       "      <td>7269</td>\n",
       "      <td>950030.36</td>\n",
       "    </tr>\n",
       "    <tr>\n",
       "      <th>17</th>\n",
       "      <td>02-2018</td>\n",
       "      <td>6728</td>\n",
       "      <td>844178.71</td>\n",
       "    </tr>\n",
       "    <tr>\n",
       "      <th>18</th>\n",
       "      <td>03-2018</td>\n",
       "      <td>7211</td>\n",
       "      <td>983213.44</td>\n",
       "    </tr>\n",
       "    <tr>\n",
       "      <th>19</th>\n",
       "      <td>04-2018</td>\n",
       "      <td>6939</td>\n",
       "      <td>996647.75</td>\n",
       "    </tr>\n",
       "    <tr>\n",
       "      <th>20</th>\n",
       "      <td>05-2018</td>\n",
       "      <td>6873</td>\n",
       "      <td>996517.68</td>\n",
       "    </tr>\n",
       "    <tr>\n",
       "      <th>21</th>\n",
       "      <td>06-2018</td>\n",
       "      <td>6167</td>\n",
       "      <td>865124.31</td>\n",
       "    </tr>\n",
       "    <tr>\n",
       "      <th>22</th>\n",
       "      <td>07-2018</td>\n",
       "      <td>6292</td>\n",
       "      <td>895507.22</td>\n",
       "    </tr>\n",
       "    <tr>\n",
       "      <th>23</th>\n",
       "      <td>08-2018</td>\n",
       "      <td>6512</td>\n",
       "      <td>854686.33</td>\n",
       "    </tr>\n",
       "    <tr>\n",
       "      <th>24</th>\n",
       "      <td>09-2018</td>\n",
       "      <td>16</td>\n",
       "      <td>145.00</td>\n",
       "    </tr>\n",
       "    <tr>\n",
       "      <th>25</th>\n",
       "      <td>10-2018</td>\n",
       "      <td>4</td>\n",
       "      <td>0.00</td>\n",
       "    </tr>\n",
       "  </tbody>\n",
       "</table>\n",
       "</div>"
      ],
      "text/plain": [
       "   order_date  order_count     revenue\n",
       "0     09-2016            4      267.36\n",
       "1     10-2016          324    49507.66\n",
       "2     11-2016            0        0.00\n",
       "3     12-2016            1       10.90\n",
       "4     01-2017          800   120312.87\n",
       "5     02-2017         1780   247303.02\n",
       "6     03-2017         2682   374344.30\n",
       "7     04-2017         2404   359927.23\n",
       "8     05-2017         3700   506071.14\n",
       "9     06-2017         3245   433038.60\n",
       "10    07-2017         4026   498031.48\n",
       "11    08-2017         4331   573971.68\n",
       "12    09-2017         4285   624401.69\n",
       "13    10-2017         4631   664219.43\n",
       "14    11-2017         7544  1010271.37\n",
       "15    12-2017         5673   743914.17\n",
       "16    01-2018         7269   950030.36\n",
       "17    02-2018         6728   844178.71\n",
       "18    03-2018         7211   983213.44\n",
       "19    04-2018         6939   996647.75\n",
       "20    05-2018         6873   996517.68\n",
       "21    06-2018         6167   865124.31\n",
       "22    07-2018         6292   895507.22\n",
       "23    08-2018         6512   854686.33\n",
       "24    09-2018           16      145.00\n",
       "25    10-2018            4        0.00"
      ]
     },
     "execution_count": 92,
     "metadata": {},
     "output_type": "execute_result"
    }
   ],
   "source": [
    "monthly_orders_df = all_data.resample(rule='M', on='order_purchase_timestamp').agg({\n",
    "    \"order_id\": \"nunique\",\n",
    "    \"price\": \"sum\"\n",
    "})\n",
    "monthly_orders_df.index = monthly_orders_df.index.strftime('%m-%Y') #mengubah format order date menjadi Tahun-Bulan\n",
    "monthly_orders_df = monthly_orders_df.reset_index()\n",
    "monthly_orders_df.rename(columns={\n",
    "    \"order_purchase_timestamp\":\"order_date\",\n",
    "    \"order_id\": \"order_count\",\n",
    "    \"price\": \"revenue\"\n",
    "}, inplace=True)\n",
    "monthly_orders_df\n"
   ]
  },
  {
   "cell_type": "code",
   "execution_count": 93,
   "id": "7c2ea73a-d79f-4c24-acf5-f82b3ba08538",
   "metadata": {},
   "outputs": [
    {
     "data": {
      "image/png": "[encoded data removed]",
      "text/plain": [
       "<Figure size 800x300 with 1 Axes>"
      ]
     },
     "metadata": {},
     "output_type": "display_data"
    }
   ],
   "source": [
    "plt.figure(figsize=(8, 3))\n",
    "plt.plot(\n",
    "    monthly_orders_df[\"order_date\"],\n",
    "    monthly_orders_df[\"order_count\"],\n",
    "    marker='o', \n",
    "    linewidth=2,\n",
    "    color=\"#72BCD4\"\n",
    ")\n",
    "plt.title(\"Number of Orders per Month\", loc=\"center\", fontsize=15)\n",
    "plt.xticks(fontsize=10, rotation = 45)\n",
    "plt.yticks(fontsize=10)\n",
    "plt.show()"
   ]
  },
  {
   "cell_type": "markdown",
   "id": "63912464-d372-4f37-9f83-d9728589e297",
   "metadata": {},
   "source": [
    "Total jumlah order mengalami kenaikan tiap bulannya. Yang tertinggi terjadi di bulan November 2017, setelah itu terjadi fluktuasi dan cenderung stabil sampai di bulan September 2018."
   ]
  },
  {
   "cell_type": "code",
   "execution_count": 94,
   "id": "300242fe-eaf4-4d5f-bddb-a03967b9d05c",
   "metadata": {},
   "outputs": [
    {
     "data": {
      "image/png": "[encoded data removed]",
      "text/plain": [
       "<Figure size 800x300 with 1 Axes>"
      ]
     },
     "metadata": {},
     "output_type": "display_data"
    }
   ],
   "source": [
    "plt.figure(figsize=(8, 3))\n",
    "plt.plot(\n",
    "    monthly_orders_df[\"order_date\"],\n",
    "    monthly_orders_df[\"revenue\"],\n",
    "    marker='o', \n",
    "    linewidth=2,\n",
    "    color=\"#72BCD4\"\n",
    ")\n",
    "plt.title(\"Total Revenue per Month (in Real)\", loc=\"center\", fontsize=15)\n",
    "plt.xticks(fontsize=10, rotation = 45)\n",
    "plt.yticks(fontsize=10)\n",
    "plt.show()"
   ]
  },
  {
   "cell_type": "markdown",
   "id": "4b6a14cb-fdaa-4b33-b93b-510746698d7c",
   "metadata": {},
   "source": [
    "Hampir sama dengan jumlah order, revenue juga mengalami kenaikan tiap bulannya. Yang tertinggi terjadi di bulan November 2017, setelah itu terjadi fluktuasi dan cenderung stabil sampai di bulan September 2018."
   ]
  },
  {
   "cell_type": "markdown",
   "id": "0d712bf4-7cb8-4ac9-a1c3-71694b5eb575",
   "metadata": {},
   "source": [
    "### Pertanyaan 4 (RFM Analysis)"
   ]
  },
  {
   "cell_type": "markdown",
   "id": "1f270798-2c0b-4b48-9f84-234f072627be",
   "metadata": {},
   "source": [
    "#### Bagaimana analisis RFM (Recency-Frequency-Monetary) terhadap customer? insight apa yang didapatkan?"
   ]
  },
  {
   "cell_type": "code",
   "execution_count": 95,
   "id": "c9bd82a2-ffcd-4ba5-b34a-874b89498d2f",
   "metadata": {},
   "outputs": [
    {
     "data": {
      "text/html": [
       "<div>\n",
       "<style scoped>\n",
       "    .dataframe tbody tr th:only-of-type {\n",
       "        vertical-align: middle;\n",
       "    }\n",
       "\n",
       "    .dataframe tbody tr th {\n",
       "        vertical-align: top;\n",
       "    }\n",
       "\n",
       "    .dataframe thead th {\n",
       "        text-align: right;\n",
       "    }\n",
       "</style>\n",
       "<table border=\"1\" class=\"dataframe\">\n",
       "  <thead>\n",
       "    <tr style=\"text-align: right;\">\n",
       "      <th></th>\n",
       "      <th>customer_unique_id</th>\n",
       "      <th>recency</th>\n",
       "      <th>frequency</th>\n",
       "      <th>monetary</th>\n",
       "    </tr>\n",
       "  </thead>\n",
       "  <tbody>\n",
       "    <tr>\n",
       "      <th>0</th>\n",
       "      <td>0000366f3b9a7992bf8c76cfdf3221e2</td>\n",
       "      <td>160</td>\n",
       "      <td>1</td>\n",
       "      <td>129.90</td>\n",
       "    </tr>\n",
       "    <tr>\n",
       "      <th>1</th>\n",
       "      <td>0000b849f77a49e4a4ce2b2a4ca5be3f</td>\n",
       "      <td>163</td>\n",
       "      <td>1</td>\n",
       "      <td>18.90</td>\n",
       "    </tr>\n",
       "    <tr>\n",
       "      <th>2</th>\n",
       "      <td>0000f46a3911fa3c0805444483337064</td>\n",
       "      <td>586</td>\n",
       "      <td>1</td>\n",
       "      <td>69.00</td>\n",
       "    </tr>\n",
       "    <tr>\n",
       "      <th>3</th>\n",
       "      <td>0000f6ccb0745a6a4b88665a16c9f078</td>\n",
       "      <td>370</td>\n",
       "      <td>1</td>\n",
       "      <td>25.99</td>\n",
       "    </tr>\n",
       "    <tr>\n",
       "      <th>4</th>\n",
       "      <td>0004aac84e0df4da2b147fca70cf8255</td>\n",
       "      <td>337</td>\n",
       "      <td>1</td>\n",
       "      <td>180.00</td>\n",
       "    </tr>\n",
       "    <tr>\n",
       "      <th>5</th>\n",
       "      <td>0004bd2a26a76fe21f786e4fbd80607f</td>\n",
       "      <td>195</td>\n",
       "      <td>1</td>\n",
       "      <td>154.00</td>\n",
       "    </tr>\n",
       "    <tr>\n",
       "      <th>6</th>\n",
       "      <td>00050ab1314c0e55a6ca13cf7181fecf</td>\n",
       "      <td>180</td>\n",
       "      <td>1</td>\n",
       "      <td>27.99</td>\n",
       "    </tr>\n",
       "    <tr>\n",
       "      <th>7</th>\n",
       "      <td>00053a61a98854899e70ed204dd4bafe</td>\n",
       "      <td>231</td>\n",
       "      <td>1</td>\n",
       "      <td>382.00</td>\n",
       "    </tr>\n",
       "    <tr>\n",
       "      <th>8</th>\n",
       "      <td>0005e1862207bf6ccc02e4228effd9a0</td>\n",
       "      <td>592</td>\n",
       "      <td>1</td>\n",
       "      <td>135.00</td>\n",
       "    </tr>\n",
       "    <tr>\n",
       "      <th>9</th>\n",
       "      <td>0005ef4cd20d2893f0d9fbd94d3c0d97</td>\n",
       "      <td>219</td>\n",
       "      <td>1</td>\n",
       "      <td>104.90</td>\n",
       "    </tr>\n",
       "  </tbody>\n",
       "</table>\n",
       "</div>"
      ],
      "text/plain": [
       "                 customer_unique_id  recency  frequency  monetary\n",
       "0  0000366f3b9a7992bf8c76cfdf3221e2      160          1    129.90\n",
       "1  0000b849f77a49e4a4ce2b2a4ca5be3f      163          1     18.90\n",
       "2  0000f46a3911fa3c0805444483337064      586          1     69.00\n",
       "3  0000f6ccb0745a6a4b88665a16c9f078      370          1     25.99\n",
       "4  0004aac84e0df4da2b147fca70cf8255      337          1    180.00\n",
       "5  0004bd2a26a76fe21f786e4fbd80607f      195          1    154.00\n",
       "6  00050ab1314c0e55a6ca13cf7181fecf      180          1     27.99\n",
       "7  00053a61a98854899e70ed204dd4bafe      231          1    382.00\n",
       "8  0005e1862207bf6ccc02e4228effd9a0      592          1    135.00\n",
       "9  0005ef4cd20d2893f0d9fbd94d3c0d97      219          1    104.90"
      ]
     },
     "execution_count": 95,
     "metadata": {},
     "output_type": "execute_result"
    }
   ],
   "source": [
    "#Membuat dataset baru bernama rfm_df untuk selanjutnya dilakukan analisis RFM\n",
    "rfm_df = all_data.groupby(by=\"customer_unique_id\", as_index=False).agg(\n",
    "    max_order_date = (\"order_purchase_timestamp\", \"max\"), # mengambil tanggal order terakhir\n",
    "    frequency = (\"order_id\", \"nunique\"), # menghitung jumlah order\n",
    "    monetary = (\"price\", \"sum\") # menghitung total jumlah uang untuk pemesanan\n",
    "    )\n",
    "\n",
    "rfm_df\n",
    "\n",
    "rfm_df['max_order_date'] = rfm_df['max_order_date'].dt.date #mengubah menjadi format tanggal\n",
    "recent_order_date = all_data['order_purchase_timestamp'].dt.date.max() #memilih hari terakhir dalam kolom order_date\n",
    "rfm_df.insert(1,'recency', rfm_df['max_order_date'].apply(lambda x: (recent_order_date - x).days)) #mencari selisih kapan terakhir pelanggan bertransaksi\n",
    "rfm_df.drop('max_order_date', axis=1, inplace=True) #menghapus kolom yang tidak dibutuhkan\n",
    "rfm_df.head(10)\n"
   ]
  },
  {
   "cell_type": "code",
   "execution_count": 96,
   "id": "ae3cd573-f3f6-4585-ba2a-8a8146544873",
   "metadata": {},
   "outputs": [
    {
     "data": {
      "text/html": [
       "<div>\n",
       "<style scoped>\n",
       "    .dataframe tbody tr th:only-of-type {\n",
       "        vertical-align: middle;\n",
       "    }\n",
       "\n",
       "    .dataframe tbody tr th {\n",
       "        vertical-align: top;\n",
       "    }\n",
       "\n",
       "    .dataframe thead th {\n",
       "        text-align: right;\n",
       "    }\n",
       "</style>\n",
       "<table border=\"1\" class=\"dataframe\">\n",
       "  <thead>\n",
       "    <tr style=\"text-align: right;\">\n",
       "      <th></th>\n",
       "      <th>recency</th>\n",
       "      <th>frequency</th>\n",
       "      <th>monetary</th>\n",
       "    </tr>\n",
       "  </thead>\n",
       "  <tbody>\n",
       "    <tr>\n",
       "      <th>count</th>\n",
       "      <td>96096.000000</td>\n",
       "      <td>96096.000000</td>\n",
       "      <td>96096.000000</td>\n",
       "    </tr>\n",
       "    <tr>\n",
       "      <th>mean</th>\n",
       "      <td>288.108797</td>\n",
       "      <td>1.034809</td>\n",
       "      <td>141.438184</td>\n",
       "    </tr>\n",
       "    <tr>\n",
       "      <th>std</th>\n",
       "      <td>153.417869</td>\n",
       "      <td>0.214384</td>\n",
       "      <td>217.215904</td>\n",
       "    </tr>\n",
       "    <tr>\n",
       "      <th>min</th>\n",
       "      <td>0.000000</td>\n",
       "      <td>1.000000</td>\n",
       "      <td>0.000000</td>\n",
       "    </tr>\n",
       "    <tr>\n",
       "      <th>25%</th>\n",
       "      <td>164.000000</td>\n",
       "      <td>1.000000</td>\n",
       "      <td>45.990000</td>\n",
       "    </tr>\n",
       "    <tr>\n",
       "      <th>50%</th>\n",
       "      <td>269.000000</td>\n",
       "      <td>1.000000</td>\n",
       "      <td>89.000000</td>\n",
       "    </tr>\n",
       "    <tr>\n",
       "      <th>75%</th>\n",
       "      <td>397.000000</td>\n",
       "      <td>1.000000</td>\n",
       "      <td>154.000000</td>\n",
       "    </tr>\n",
       "    <tr>\n",
       "      <th>max</th>\n",
       "      <td>773.000000</td>\n",
       "      <td>17.000000</td>\n",
       "      <td>13440.000000</td>\n",
       "    </tr>\n",
       "  </tbody>\n",
       "</table>\n",
       "</div>"
      ],
      "text/plain": [
       "            recency     frequency      monetary\n",
       "count  96096.000000  96096.000000  96096.000000\n",
       "mean     288.108797      1.034809    141.438184\n",
       "std      153.417869      0.214384    217.215904\n",
       "min        0.000000      1.000000      0.000000\n",
       "25%      164.000000      1.000000     45.990000\n",
       "50%      269.000000      1.000000     89.000000\n",
       "75%      397.000000      1.000000    154.000000\n",
       "max      773.000000     17.000000  13440.000000"
      ]
     },
     "execution_count": 96,
     "metadata": {},
     "output_type": "execute_result"
    }
   ],
   "source": [
    "rfm_df.describe()"
   ]
  },
  {
   "cell_type": "markdown",
   "id": "c97fc988-c56b-48e7-8cb1-dc4185dc1183",
   "metadata": {},
   "source": [
    "Terdapat sebanyak 96.096 pelanggan unik. Di antara semua pelanggan, ada yang bertransaksi terakhir paling lama 773 hari, dengan frekuensi berbelanja paling banyak 17 kali. Nilai maksimum order sebesar 13.440,00 Real."
   ]
  },
  {
   "cell_type": "markdown",
   "id": "1e4f0d65-a417-403f-92bc-4d52565367c0",
   "metadata": {},
   "source": [
    "#### Customer yang paling sering berbelanja"
   ]
  },
  {
   "cell_type": "code",
   "execution_count": 97,
   "id": "25ea38ed-7517-46fd-9d40-2620698d3778",
   "metadata": {},
   "outputs": [
    {
     "data": {
      "text/html": [
       "<div>\n",
       "<style scoped>\n",
       "    .dataframe tbody tr th:only-of-type {\n",
       "        vertical-align: middle;\n",
       "    }\n",
       "\n",
       "    .dataframe tbody tr th {\n",
       "        vertical-align: top;\n",
       "    }\n",
       "\n",
       "    .dataframe thead th {\n",
       "        text-align: right;\n",
       "    }\n",
       "</style>\n",
       "<table border=\"1\" class=\"dataframe\">\n",
       "  <thead>\n",
       "    <tr style=\"text-align: right;\">\n",
       "      <th></th>\n",
       "      <th>customer_unique_id</th>\n",
       "      <th>recency</th>\n",
       "      <th>frequency</th>\n",
       "      <th>monetary</th>\n",
       "    </tr>\n",
       "  </thead>\n",
       "  <tbody>\n",
       "    <tr>\n",
       "      <th>52973</th>\n",
       "      <td>8d50f5eadf50201ccdcedfb9e2ac8455</td>\n",
       "      <td>58</td>\n",
       "      <td>17</td>\n",
       "      <td>729.62</td>\n",
       "    </tr>\n",
       "    <tr>\n",
       "      <th>23472</th>\n",
       "      <td>3e43e6105506432c953e165fb2acf44c</td>\n",
       "      <td>232</td>\n",
       "      <td>9</td>\n",
       "      <td>1000.85</td>\n",
       "    </tr>\n",
       "    <tr>\n",
       "      <th>37797</th>\n",
       "      <td>6469f99c1f9dfae7733b25662e7f1782</td>\n",
       "      <td>111</td>\n",
       "      <td>7</td>\n",
       "      <td>664.20</td>\n",
       "    </tr>\n",
       "    <tr>\n",
       "      <th>76082</th>\n",
       "      <td>ca77025e7201e3b30c44b472ff346268</td>\n",
       "      <td>138</td>\n",
       "      <td>7</td>\n",
       "      <td>806.61</td>\n",
       "    </tr>\n",
       "    <tr>\n",
       "      <th>10354</th>\n",
       "      <td>1b6c7548a2a1f9037c1fd3ddfed95f33</td>\n",
       "      <td>245</td>\n",
       "      <td>7</td>\n",
       "      <td>809.21</td>\n",
       "    </tr>\n",
       "    <tr>\n",
       "      <th>...</th>\n",
       "      <td>...</td>\n",
       "      <td>...</td>\n",
       "      <td>...</td>\n",
       "      <td>...</td>\n",
       "    </tr>\n",
       "    <tr>\n",
       "      <th>32508</th>\n",
       "      <td>5657dfebff5868c4dc7e8355fea865c4</td>\n",
       "      <td>340</td>\n",
       "      <td>1</td>\n",
       "      <td>89.99</td>\n",
       "    </tr>\n",
       "    <tr>\n",
       "      <th>32507</th>\n",
       "      <td>5657596addb4d7b07b32cd330614bdf8</td>\n",
       "      <td>348</td>\n",
       "      <td>1</td>\n",
       "      <td>159.99</td>\n",
       "    </tr>\n",
       "    <tr>\n",
       "      <th>32506</th>\n",
       "      <td>5656eb169546146caeab56c3ffc3d268</td>\n",
       "      <td>83</td>\n",
       "      <td>1</td>\n",
       "      <td>110.00</td>\n",
       "    </tr>\n",
       "    <tr>\n",
       "      <th>32505</th>\n",
       "      <td>5656a8fabc8629ff96b2bc14f8c09a27</td>\n",
       "      <td>321</td>\n",
       "      <td>1</td>\n",
       "      <td>14.03</td>\n",
       "    </tr>\n",
       "    <tr>\n",
       "      <th>96095</th>\n",
       "      <td>ffffd2657e2aad2907e67c3e9daecbeb</td>\n",
       "      <td>533</td>\n",
       "      <td>1</td>\n",
       "      <td>56.99</td>\n",
       "    </tr>\n",
       "  </tbody>\n",
       "</table>\n",
       "<p>96096 rows × 4 columns</p>\n",
       "</div>"
      ],
      "text/plain": [
       "                     customer_unique_id  recency  frequency  monetary\n",
       "52973  8d50f5eadf50201ccdcedfb9e2ac8455       58         17    729.62\n",
       "23472  3e43e6105506432c953e165fb2acf44c      232          9   1000.85\n",
       "37797  6469f99c1f9dfae7733b25662e7f1782      111          7    664.20\n",
       "76082  ca77025e7201e3b30c44b472ff346268      138          7    806.61\n",
       "10354  1b6c7548a2a1f9037c1fd3ddfed95f33      245          7    809.21\n",
       "...                                 ...      ...        ...       ...\n",
       "32508  5657dfebff5868c4dc7e8355fea865c4      340          1     89.99\n",
       "32507  5657596addb4d7b07b32cd330614bdf8      348          1    159.99\n",
       "32506  5656eb169546146caeab56c3ffc3d268       83          1    110.00\n",
       "32505  5656a8fabc8629ff96b2bc14f8c09a27      321          1     14.03\n",
       "96095  ffffd2657e2aad2907e67c3e9daecbeb      533          1     56.99\n",
       "\n",
       "[96096 rows x 4 columns]"
      ]
     },
     "execution_count": 97,
     "metadata": {},
     "output_type": "execute_result"
    }
   ],
   "source": [
    "rfm_df.sort_values(by='frequency', ascending=False)"
   ]
  },
  {
   "cell_type": "markdown",
   "id": "46669e5c-9de4-40b3-9dad-bb75fb3b4795",
   "metadata": {},
   "source": [
    "customer '8d50f5eadf50201ccdcedfb9e2ac8455' berbelanja sebanyak 17 kali"
   ]
  },
  {
   "cell_type": "markdown",
   "id": "252e4283-2ce1-4906-96b5-f1a110458648",
   "metadata": {},
   "source": [
    "#### Customer yang berbelanja paling banyak secara jumlah uang"
   ]
  },
  {
   "cell_type": "code",
   "execution_count": 98,
   "id": "2dae92e3-1402-477d-a11b-942d9795792c",
   "metadata": {},
   "outputs": [
    {
     "data": {
      "text/html": [
       "<div>\n",
       "<style scoped>\n",
       "    .dataframe tbody tr th:only-of-type {\n",
       "        vertical-align: middle;\n",
       "    }\n",
       "\n",
       "    .dataframe tbody tr th {\n",
       "        vertical-align: top;\n",
       "    }\n",
       "\n",
       "    .dataframe thead th {\n",
       "        text-align: right;\n",
       "    }\n",
       "</style>\n",
       "<table border=\"1\" class=\"dataframe\">\n",
       "  <thead>\n",
       "    <tr style=\"text-align: right;\">\n",
       "      <th></th>\n",
       "      <th>customer_unique_id</th>\n",
       "      <th>recency</th>\n",
       "      <th>frequency</th>\n",
       "      <th>monetary</th>\n",
       "    </tr>\n",
       "  </thead>\n",
       "  <tbody>\n",
       "    <tr>\n",
       "      <th>3826</th>\n",
       "      <td>0a0a92112bd4c708ca5fde585afaa872</td>\n",
       "      <td>383</td>\n",
       "      <td>1</td>\n",
       "      <td>13440.0</td>\n",
       "    </tr>\n",
       "    <tr>\n",
       "      <th>81962</th>\n",
       "      <td>da122df9eeddfedc1dc1f5349a1a690c</td>\n",
       "      <td>564</td>\n",
       "      <td>2</td>\n",
       "      <td>7388.0</td>\n",
       "    </tr>\n",
       "    <tr>\n",
       "      <th>44447</th>\n",
       "      <td>763c8b1c9c68a0229c42c9fc6f662b93</td>\n",
       "      <td>94</td>\n",
       "      <td>1</td>\n",
       "      <td>7160.0</td>\n",
       "    </tr>\n",
       "    <tr>\n",
       "      <th>82808</th>\n",
       "      <td>dc4802a71eae9be1dd28f5d788ceb526</td>\n",
       "      <td>612</td>\n",
       "      <td>1</td>\n",
       "      <td>6735.0</td>\n",
       "    </tr>\n",
       "    <tr>\n",
       "      <th>26205</th>\n",
       "      <td>459bef486812aa25204be022145caa62</td>\n",
       "      <td>84</td>\n",
       "      <td>1</td>\n",
       "      <td>6729.0</td>\n",
       "    </tr>\n",
       "    <tr>\n",
       "      <th>...</th>\n",
       "      <td>...</td>\n",
       "      <td>...</td>\n",
       "      <td>...</td>\n",
       "      <td>...</td>\n",
       "    </tr>\n",
       "    <tr>\n",
       "      <th>27364</th>\n",
       "      <td>48aa83248476ac4d2b058596436b7680</td>\n",
       "      <td>76</td>\n",
       "      <td>1</td>\n",
       "      <td>0.0</td>\n",
       "    </tr>\n",
       "    <tr>\n",
       "      <th>82714</th>\n",
       "      <td>dc0eb6b79e438bca1400a408ff88fd15</td>\n",
       "      <td>266</td>\n",
       "      <td>1</td>\n",
       "      <td>0.0</td>\n",
       "    </tr>\n",
       "    <tr>\n",
       "      <th>19551</th>\n",
       "      <td>33e79e15e9937ba1bc8f61eedae9e7f0</td>\n",
       "      <td>79</td>\n",
       "      <td>1</td>\n",
       "      <td>0.0</td>\n",
       "    </tr>\n",
       "    <tr>\n",
       "      <th>77327</th>\n",
       "      <td>cdc8a55939d542adcdcf766ce064a40a</td>\n",
       "      <td>275</td>\n",
       "      <td>1</td>\n",
       "      <td>0.0</td>\n",
       "    </tr>\n",
       "    <tr>\n",
       "      <th>50196</th>\n",
       "      <td>859801343e938e403027c0668f64f037</td>\n",
       "      <td>624</td>\n",
       "      <td>1</td>\n",
       "      <td>0.0</td>\n",
       "    </tr>\n",
       "  </tbody>\n",
       "</table>\n",
       "<p>96096 rows × 4 columns</p>\n",
       "</div>"
      ],
      "text/plain": [
       "                     customer_unique_id  recency  frequency  monetary\n",
       "3826   0a0a92112bd4c708ca5fde585afaa872      383          1   13440.0\n",
       "81962  da122df9eeddfedc1dc1f5349a1a690c      564          2    7388.0\n",
       "44447  763c8b1c9c68a0229c42c9fc6f662b93       94          1    7160.0\n",
       "82808  dc4802a71eae9be1dd28f5d788ceb526      612          1    6735.0\n",
       "26205  459bef486812aa25204be022145caa62       84          1    6729.0\n",
       "...                                 ...      ...        ...       ...\n",
       "27364  48aa83248476ac4d2b058596436b7680       76          1       0.0\n",
       "82714  dc0eb6b79e438bca1400a408ff88fd15      266          1       0.0\n",
       "19551  33e79e15e9937ba1bc8f61eedae9e7f0       79          1       0.0\n",
       "77327  cdc8a55939d542adcdcf766ce064a40a      275          1       0.0\n",
       "50196  859801343e938e403027c0668f64f037      624          1       0.0\n",
       "\n",
       "[96096 rows x 4 columns]"
      ]
     },
     "execution_count": 98,
     "metadata": {},
     "output_type": "execute_result"
    }
   ],
   "source": [
    "rfm_df.sort_values(by='monetary', ascending=False)"
   ]
  },
  {
   "cell_type": "markdown",
   "id": "9e3e4bf4-2f10-4b1b-968f-6bdcb1bf3e94",
   "metadata": {},
   "source": [
    "Customer '0a0a92112bd4c708ca5fde585afaa872' berbelanja sebesar 13.440 Real"
   ]
  },
  {
   "cell_type": "code",
   "execution_count": 99,
   "id": "b4fdab01-3490-4fce-b7c5-4923f3e1cbf8",
   "metadata": {},
   "outputs": [
    {
     "data": {
      "text/html": [
       "<div>\n",
       "<style scoped>\n",
       "    .dataframe tbody tr th:only-of-type {\n",
       "        vertical-align: middle;\n",
       "    }\n",
       "\n",
       "    .dataframe tbody tr th {\n",
       "        vertical-align: top;\n",
       "    }\n",
       "\n",
       "    .dataframe thead th {\n",
       "        text-align: right;\n",
       "    }\n",
       "</style>\n",
       "<table border=\"1\" class=\"dataframe\">\n",
       "  <thead>\n",
       "    <tr style=\"text-align: right;\">\n",
       "      <th></th>\n",
       "      <th>customer_unique_id</th>\n",
       "      <th>recency</th>\n",
       "      <th>frequency</th>\n",
       "      <th>monetary</th>\n",
       "      <th>R_rank_norm</th>\n",
       "      <th>F_rank_norm</th>\n",
       "      <th>M_rank_norm</th>\n",
       "    </tr>\n",
       "  </thead>\n",
       "  <tbody>\n",
       "    <tr>\n",
       "      <th>0</th>\n",
       "      <td>0000366f3b9a7992bf8c76cfdf3221e2</td>\n",
       "      <td>160</td>\n",
       "      <td>1</td>\n",
       "      <td>129.90</td>\n",
       "      <td>76.264361</td>\n",
       "      <td>48.441142</td>\n",
       "      <td>48.441142</td>\n",
       "    </tr>\n",
       "    <tr>\n",
       "      <th>1</th>\n",
       "      <td>0000b849f77a49e4a4ce2b2a4ca5be3f</td>\n",
       "      <td>163</td>\n",
       "      <td>1</td>\n",
       "      <td>18.90</td>\n",
       "      <td>75.239864</td>\n",
       "      <td>48.441142</td>\n",
       "      <td>48.441142</td>\n",
       "    </tr>\n",
       "    <tr>\n",
       "      <th>2</th>\n",
       "      <td>0000f46a3911fa3c0805444483337064</td>\n",
       "      <td>586</td>\n",
       "      <td>1</td>\n",
       "      <td>69.00</td>\n",
       "      <td>3.661963</td>\n",
       "      <td>48.441142</td>\n",
       "      <td>48.441142</td>\n",
       "    </tr>\n",
       "    <tr>\n",
       "      <th>3</th>\n",
       "      <td>0000f6ccb0745a6a4b88665a16c9f078</td>\n",
       "      <td>370</td>\n",
       "      <td>1</td>\n",
       "      <td>25.99</td>\n",
       "      <td>28.923160</td>\n",
       "      <td>48.441142</td>\n",
       "      <td>48.441142</td>\n",
       "    </tr>\n",
       "    <tr>\n",
       "      <th>4</th>\n",
       "      <td>0004aac84e0df4da2b147fca70cf8255</td>\n",
       "      <td>337</td>\n",
       "      <td>1</td>\n",
       "      <td>180.00</td>\n",
       "      <td>33.970196</td>\n",
       "      <td>48.441142</td>\n",
       "      <td>48.441142</td>\n",
       "    </tr>\n",
       "  </tbody>\n",
       "</table>\n",
       "</div>"
      ],
      "text/plain": [
       "                 customer_unique_id  recency  frequency  monetary  \\\n",
       "0  0000366f3b9a7992bf8c76cfdf3221e2      160          1    129.90   \n",
       "1  0000b849f77a49e4a4ce2b2a4ca5be3f      163          1     18.90   \n",
       "2  0000f46a3911fa3c0805444483337064      586          1     69.00   \n",
       "3  0000f6ccb0745a6a4b88665a16c9f078      370          1     25.99   \n",
       "4  0004aac84e0df4da2b147fca70cf8255      337          1    180.00   \n",
       "\n",
       "   R_rank_norm  F_rank_norm  M_rank_norm  \n",
       "0    76.264361    48.441142    48.441142  \n",
       "1    75.239864    48.441142    48.441142  \n",
       "2     3.661963    48.441142    48.441142  \n",
       "3    28.923160    48.441142    48.441142  \n",
       "4    33.970196    48.441142    48.441142  "
      ]
     },
     "execution_count": 99,
     "metadata": {},
     "output_type": "execute_result"
    }
   ],
   "source": [
    "# Memberikan ranking pada pelanggan berdasarkan skor recency, frequency, dan monetary\n",
    "rfm_df['R_rank'] = rfm_df['recency'].rank(ascending=False)\n",
    "rfm_df['F_rank'] = rfm_df['frequency'].rank(ascending=True)\n",
    "rfm_df['M_rank'] = rfm_df['monetary'].rank(ascending=True)\n",
    "\n",
    "# Normalisasi ranking pelanggan\n",
    "rfm_df['R_rank_norm'] = (rfm_df['R_rank']/rfm_df['R_rank'].max())*100\n",
    "rfm_df['F_rank_norm'] = (rfm_df['F_rank']/rfm_df['F_rank'].max())*100\n",
    "rfm_df['M_rank_norm'] = (rfm_df['F_rank']/rfm_df['M_rank'].max())*100\n",
    "\n",
    "rfm_df.drop(columns=['R_rank', 'F_rank', 'M_rank'], inplace=True)\n",
    "rfm_df.head()"
   ]
  },
  {
   "cell_type": "code",
   "execution_count": 100,
   "id": "de6e935e-fcdb-4957-9b9f-142d75c535d2",
   "metadata": {},
   "outputs": [
    {
     "data": {
      "text/html": [
       "<div>\n",
       "<style scoped>\n",
       "    .dataframe tbody tr th:only-of-type {\n",
       "        vertical-align: middle;\n",
       "    }\n",
       "\n",
       "    .dataframe tbody tr th {\n",
       "        vertical-align: top;\n",
       "    }\n",
       "\n",
       "    .dataframe thead th {\n",
       "        text-align: right;\n",
       "    }\n",
       "</style>\n",
       "<table border=\"1\" class=\"dataframe\">\n",
       "  <thead>\n",
       "    <tr style=\"text-align: right;\">\n",
       "      <th></th>\n",
       "      <th>customer_unique_id</th>\n",
       "      <th>recency</th>\n",
       "      <th>frequency</th>\n",
       "      <th>monetary</th>\n",
       "      <th>RFM_Score</th>\n",
       "    </tr>\n",
       "  </thead>\n",
       "  <tbody>\n",
       "    <tr>\n",
       "      <th>0</th>\n",
       "      <td>0000366f3b9a7992bf8c76cfdf3221e2</td>\n",
       "      <td>160</td>\n",
       "      <td>1</td>\n",
       "      <td>129.90</td>\n",
       "      <td>2.63</td>\n",
       "    </tr>\n",
       "    <tr>\n",
       "      <th>1</th>\n",
       "      <td>0000b849f77a49e4a4ce2b2a4ca5be3f</td>\n",
       "      <td>163</td>\n",
       "      <td>1</td>\n",
       "      <td>18.90</td>\n",
       "      <td>2.62</td>\n",
       "    </tr>\n",
       "    <tr>\n",
       "      <th>2</th>\n",
       "      <td>0000f46a3911fa3c0805444483337064</td>\n",
       "      <td>586</td>\n",
       "      <td>1</td>\n",
       "      <td>69.00</td>\n",
       "      <td>2.09</td>\n",
       "    </tr>\n",
       "    <tr>\n",
       "      <th>3</th>\n",
       "      <td>0000f6ccb0745a6a4b88665a16c9f078</td>\n",
       "      <td>370</td>\n",
       "      <td>1</td>\n",
       "      <td>25.99</td>\n",
       "      <td>2.28</td>\n",
       "    </tr>\n",
       "    <tr>\n",
       "      <th>4</th>\n",
       "      <td>0004aac84e0df4da2b147fca70cf8255</td>\n",
       "      <td>337</td>\n",
       "      <td>1</td>\n",
       "      <td>180.00</td>\n",
       "      <td>2.31</td>\n",
       "    </tr>\n",
       "  </tbody>\n",
       "</table>\n",
       "</div>"
      ],
      "text/plain": [
       "                 customer_unique_id  recency  frequency  monetary  RFM_Score\n",
       "0  0000366f3b9a7992bf8c76cfdf3221e2      160          1    129.90       2.63\n",
       "1  0000b849f77a49e4a4ce2b2a4ca5be3f      163          1     18.90       2.62\n",
       "2  0000f46a3911fa3c0805444483337064      586          1     69.00       2.09\n",
       "3  0000f6ccb0745a6a4b88665a16c9f078      370          1     25.99       2.28\n",
       "4  0004aac84e0df4da2b147fca70cf8255      337          1    180.00       2.31"
      ]
     },
     "execution_count": 100,
     "metadata": {},
     "output_type": "execute_result"
    }
   ],
   "source": [
    "# Membuat RFM Score dengan weighted value\n",
    "rfm_df['RFM_Score'] = 0.15*rfm_df['R_rank_norm'] + 0.28 *rfm_df['F_rank_norm'] + 0.57*rfm_df['M_rank_norm'] #Weighting pada masing-masing parameter\n",
    "rfm_df['RFM_Score'] = (0.05*rfm_df['RFM_Score']).round(2) #Mengubah nilai RFM Score menjadi nilai dengan maksimal 5 dan membulatkannya hingga 2 desimal\n",
    "\n",
    "rfm_df = rfm_df[['customer_unique_id', 'recency','frequency','monetary','RFM_Score']]\n",
    "rfm_df.head()"
   ]
  },
  {
   "cell_type": "code",
   "execution_count": 101,
   "id": "431402df-a473-4444-b618-bc88fc4aeb9d",
   "metadata": {},
   "outputs": [
    {
     "data": {
      "text/html": [
       "<div>\n",
       "<style scoped>\n",
       "    .dataframe tbody tr th:only-of-type {\n",
       "        vertical-align: middle;\n",
       "    }\n",
       "\n",
       "    .dataframe tbody tr th {\n",
       "        vertical-align: top;\n",
       "    }\n",
       "\n",
       "    .dataframe thead th {\n",
       "        text-align: right;\n",
       "    }\n",
       "</style>\n",
       "<table border=\"1\" class=\"dataframe\">\n",
       "  <thead>\n",
       "    <tr style=\"text-align: right;\">\n",
       "      <th></th>\n",
       "      <th>customer_unique_id</th>\n",
       "      <th>recency</th>\n",
       "      <th>frequency</th>\n",
       "      <th>monetary</th>\n",
       "      <th>RFM_Score</th>\n",
       "      <th>customer_segment</th>\n",
       "    </tr>\n",
       "  </thead>\n",
       "  <tbody>\n",
       "    <tr>\n",
       "      <th>0</th>\n",
       "      <td>0000366f3b9a7992bf8c76cfdf3221e2</td>\n",
       "      <td>160</td>\n",
       "      <td>1</td>\n",
       "      <td>129.90</td>\n",
       "      <td>2.63</td>\n",
       "      <td>Low Value Customer</td>\n",
       "    </tr>\n",
       "    <tr>\n",
       "      <th>1</th>\n",
       "      <td>0000b849f77a49e4a4ce2b2a4ca5be3f</td>\n",
       "      <td>163</td>\n",
       "      <td>1</td>\n",
       "      <td>18.90</td>\n",
       "      <td>2.62</td>\n",
       "      <td>Low Value Customer</td>\n",
       "    </tr>\n",
       "    <tr>\n",
       "      <th>2</th>\n",
       "      <td>0000f46a3911fa3c0805444483337064</td>\n",
       "      <td>586</td>\n",
       "      <td>1</td>\n",
       "      <td>69.00</td>\n",
       "      <td>2.09</td>\n",
       "      <td>Low Value Customer</td>\n",
       "    </tr>\n",
       "    <tr>\n",
       "      <th>3</th>\n",
       "      <td>0000f6ccb0745a6a4b88665a16c9f078</td>\n",
       "      <td>370</td>\n",
       "      <td>1</td>\n",
       "      <td>25.99</td>\n",
       "      <td>2.28</td>\n",
       "      <td>Low Value Customer</td>\n",
       "    </tr>\n",
       "    <tr>\n",
       "      <th>4</th>\n",
       "      <td>0004aac84e0df4da2b147fca70cf8255</td>\n",
       "      <td>337</td>\n",
       "      <td>1</td>\n",
       "      <td>180.00</td>\n",
       "      <td>2.31</td>\n",
       "      <td>Low Value Customer</td>\n",
       "    </tr>\n",
       "    <tr>\n",
       "      <th>5</th>\n",
       "      <td>0004bd2a26a76fe21f786e4fbd80607f</td>\n",
       "      <td>195</td>\n",
       "      <td>1</td>\n",
       "      <td>154.00</td>\n",
       "      <td>2.57</td>\n",
       "      <td>Low Value Customer</td>\n",
       "    </tr>\n",
       "    <tr>\n",
       "      <th>6</th>\n",
       "      <td>00050ab1314c0e55a6ca13cf7181fecf</td>\n",
       "      <td>180</td>\n",
       "      <td>1</td>\n",
       "      <td>27.99</td>\n",
       "      <td>2.59</td>\n",
       "      <td>Low Value Customer</td>\n",
       "    </tr>\n",
       "    <tr>\n",
       "      <th>7</th>\n",
       "      <td>00053a61a98854899e70ed204dd4bafe</td>\n",
       "      <td>231</td>\n",
       "      <td>1</td>\n",
       "      <td>382.00</td>\n",
       "      <td>2.50</td>\n",
       "      <td>Low Value Customer</td>\n",
       "    </tr>\n",
       "    <tr>\n",
       "      <th>8</th>\n",
       "      <td>0005e1862207bf6ccc02e4228effd9a0</td>\n",
       "      <td>592</td>\n",
       "      <td>1</td>\n",
       "      <td>135.00</td>\n",
       "      <td>2.08</td>\n",
       "      <td>Low Value Customer</td>\n",
       "    </tr>\n",
       "    <tr>\n",
       "      <th>9</th>\n",
       "      <td>0005ef4cd20d2893f0d9fbd94d3c0d97</td>\n",
       "      <td>219</td>\n",
       "      <td>1</td>\n",
       "      <td>104.90</td>\n",
       "      <td>2.52</td>\n",
       "      <td>Low Value Customer</td>\n",
       "    </tr>\n",
       "  </tbody>\n",
       "</table>\n",
       "</div>"
      ],
      "text/plain": [
       "                 customer_unique_id  recency  frequency  monetary  RFM_Score  \\\n",
       "0  0000366f3b9a7992bf8c76cfdf3221e2      160          1    129.90       2.63   \n",
       "1  0000b849f77a49e4a4ce2b2a4ca5be3f      163          1     18.90       2.62   \n",
       "2  0000f46a3911fa3c0805444483337064      586          1     69.00       2.09   \n",
       "3  0000f6ccb0745a6a4b88665a16c9f078      370          1     25.99       2.28   \n",
       "4  0004aac84e0df4da2b147fca70cf8255      337          1    180.00       2.31   \n",
       "5  0004bd2a26a76fe21f786e4fbd80607f      195          1    154.00       2.57   \n",
       "6  00050ab1314c0e55a6ca13cf7181fecf      180          1     27.99       2.59   \n",
       "7  00053a61a98854899e70ed204dd4bafe      231          1    382.00       2.50   \n",
       "8  0005e1862207bf6ccc02e4228effd9a0      592          1    135.00       2.08   \n",
       "9  0005ef4cd20d2893f0d9fbd94d3c0d97      219          1    104.90       2.52   \n",
       "\n",
       "     customer_segment  \n",
       "0  Low Value Customer  \n",
       "1  Low Value Customer  \n",
       "2  Low Value Customer  \n",
       "3  Low Value Customer  \n",
       "4  Low Value Customer  \n",
       "5  Low Value Customer  \n",
       "6  Low Value Customer  \n",
       "7  Low Value Customer  \n",
       "8  Low Value Customer  \n",
       "9  Low Value Customer  "
      ]
     },
     "execution_count": 101,
     "metadata": {},
     "output_type": "execute_result"
    }
   ],
   "source": [
    "# Memberikan rating pada pelanggan berdasarkan RFM Score\n",
    "'''\n",
    "RFM Score > 4.5 : Top Customer\n",
    "4.5 > RFM Score > 4 : High Value Customer\n",
    "4> RFM Score > 3 : Medium Value Customer\n",
    "3> RFM Score > 1.6 : Low Value Customer\n",
    "RFM Score <1.6 : Lost Customer\n",
    "'''\n",
    "rfm_df[\"customer_segment\"] = np.where(\n",
    "    rfm_df['RFM_Score'] > 4.5, \"Top Customer\", (np.where(\n",
    "        rfm_df['RFM_Score'] > 4, \"High Value Customer\",(np.where(\n",
    "            rfm_df['RFM_Score'] > 3, \"Medium Value Customer\", np.where(\n",
    "                rfm_df['RFM_Score'] > 1.6, 'Low Value Customer', 'Lost Customer')))))\n",
    ")\n",
    "\n",
    "rfm_df.head(10)"
   ]
  },
  {
   "cell_type": "code",
   "execution_count": 102,
   "id": "4612320c-6c07-4c3c-ac4e-2ccdb55c7fed",
   "metadata": {},
   "outputs": [
    {
     "data": {
      "text/plain": [
       "customer_segment\n",
       "Low Value Customer     93099\n",
       "Top Customer            1841\n",
       "High Value Customer     1156\n",
       "Name: count, dtype: int64"
      ]
     },
     "execution_count": 102,
     "metadata": {},
     "output_type": "execute_result"
    }
   ],
   "source": [
    "# Melihat Pembagian Segmen Pelanggan Berdasarkan RFM Score\n",
    "rfm_df.customer_segment.value_counts()"
   ]
  },
  {
   "cell_type": "code",
   "execution_count": 103,
   "id": "45a08780-1118-4514-80ba-13172acca5ae",
   "metadata": {},
   "outputs": [
    {
     "data": {
      "image/png": "[encoded data removed]",
      "text/plain": [
       "<Figure size 600x800 with 1 Axes>"
      ]
     },
     "metadata": {},
     "output_type": "display_data"
    }
   ],
   "source": [
    "plt.figure(figsize=(6,8))\n",
    "plt.pie(\n",
    "    rfm_df.customer_segment.value_counts(),\n",
    "    labels= rfm_df.customer_segment.value_counts().index,\n",
    "    autopct= '%1.2f%%',\n",
    "    explode = [0.3, 0.5, 0],\n",
    "    colors= sns.color_palette('Set2')\n",
    ")\n",
    "plt.title(\"Segmentasi Pelanggan Berdasarkan RFM Score\", loc='center', fontsize=16)\n",
    "plt.show()"
   ]
  },
  {
   "cell_type": "markdown",
   "id": "f0b4bdc3-e554-4f7f-8ae8-a23074dc3a65",
   "metadata": {},
   "source": [
    "Berdasarkan hasil analisis RFM, sebagian besar pelanggan berada pada segmen Low Value Customer dengan persentase sebanyak 96,88%, yang sisanya diikuti oleh pelanggan Top Customer sebanyak 1,92% dan High Value Customer sebanyak 1,20%."
   ]
  },
  {
   "cell_type": "code",
   "execution_count": 104,
   "id": "87478a64-80ba-46fc-a4e8-165ff66458b1",
   "metadata": {},
   "outputs": [
    {
     "data": {
      "text/html": [
       "<div>\n",
       "<style scoped>\n",
       "    .dataframe tbody tr th:only-of-type {\n",
       "        vertical-align: middle;\n",
       "    }\n",
       "\n",
       "    .dataframe tbody tr th {\n",
       "        vertical-align: top;\n",
       "    }\n",
       "\n",
       "    .dataframe thead th {\n",
       "        text-align: right;\n",
       "    }\n",
       "</style>\n",
       "<table border=\"1\" class=\"dataframe\">\n",
       "  <thead>\n",
       "    <tr style=\"text-align: right;\">\n",
       "      <th></th>\n",
       "      <th>customer_unique_id</th>\n",
       "      <th>recency</th>\n",
       "      <th>frequency</th>\n",
       "      <th>monetary</th>\n",
       "      <th>RFM_Score</th>\n",
       "      <th>customer_segment</th>\n",
       "    </tr>\n",
       "  </thead>\n",
       "  <tbody>\n",
       "    <tr>\n",
       "      <th>82883</th>\n",
       "      <td>dc813062e0fc23409cd255f7f53c7074</td>\n",
       "      <td>55</td>\n",
       "      <td>6</td>\n",
       "      <td>687.76</td>\n",
       "      <td>5.00</td>\n",
       "      <td>Top Customer</td>\n",
       "    </tr>\n",
       "    <tr>\n",
       "      <th>52973</th>\n",
       "      <td>8d50f5eadf50201ccdcedfb9e2ac8455</td>\n",
       "      <td>58</td>\n",
       "      <td>17</td>\n",
       "      <td>729.62</td>\n",
       "      <td>4.99</td>\n",
       "      <td>Top Customer</td>\n",
       "    </tr>\n",
       "    <tr>\n",
       "      <th>58920</th>\n",
       "      <td>9cc5a07f169a1606fd347a56683e6ea6</td>\n",
       "      <td>56</td>\n",
       "      <td>4</td>\n",
       "      <td>365.70</td>\n",
       "      <td>4.99</td>\n",
       "      <td>Top Customer</td>\n",
       "    </tr>\n",
       "    <tr>\n",
       "      <th>19858</th>\n",
       "      <td>34b0cd95480e55c2a701293a2b9671b3</td>\n",
       "      <td>50</td>\n",
       "      <td>3</td>\n",
       "      <td>263.63</td>\n",
       "      <td>4.99</td>\n",
       "      <td>Top Customer</td>\n",
       "    </tr>\n",
       "    <tr>\n",
       "      <th>65954</th>\n",
       "      <td>af5454198a97379394cacf676e1e96cb</td>\n",
       "      <td>14</td>\n",
       "      <td>3</td>\n",
       "      <td>178.00</td>\n",
       "      <td>4.99</td>\n",
       "      <td>Top Customer</td>\n",
       "    </tr>\n",
       "    <tr>\n",
       "      <th>95784</th>\n",
       "      <td>ff36be26206fffe1eb37afd54c70e18b</td>\n",
       "      <td>55</td>\n",
       "      <td>3</td>\n",
       "      <td>77.90</td>\n",
       "      <td>4.99</td>\n",
       "      <td>Top Customer</td>\n",
       "    </tr>\n",
       "    <tr>\n",
       "      <th>70105</th>\n",
       "      <td>ba84da8c159659f116329563a0a981dd</td>\n",
       "      <td>21</td>\n",
       "      <td>3</td>\n",
       "      <td>76.00</td>\n",
       "      <td>4.99</td>\n",
       "      <td>Top Customer</td>\n",
       "    </tr>\n",
       "    <tr>\n",
       "      <th>84370</th>\n",
       "      <td>e0836a97eaae86ac4adc26fbb334a527</td>\n",
       "      <td>51</td>\n",
       "      <td>3</td>\n",
       "      <td>62.98</td>\n",
       "      <td>4.99</td>\n",
       "      <td>Top Customer</td>\n",
       "    </tr>\n",
       "    <tr>\n",
       "      <th>13210</th>\n",
       "      <td>230a1e9f42924d41f37fd22a1d4a9707</td>\n",
       "      <td>41</td>\n",
       "      <td>3</td>\n",
       "      <td>52.90</td>\n",
       "      <td>4.99</td>\n",
       "      <td>Top Customer</td>\n",
       "    </tr>\n",
       "    <tr>\n",
       "      <th>89783</th>\n",
       "      <td>ef0103e9602d12594d19c2b666219bc1</td>\n",
       "      <td>30</td>\n",
       "      <td>3</td>\n",
       "      <td>0.00</td>\n",
       "      <td>4.99</td>\n",
       "      <td>Top Customer</td>\n",
       "    </tr>\n",
       "  </tbody>\n",
       "</table>\n",
       "</div>"
      ],
      "text/plain": [
       "                     customer_unique_id  recency  frequency  monetary  \\\n",
       "82883  dc813062e0fc23409cd255f7f53c7074       55          6    687.76   \n",
       "52973  8d50f5eadf50201ccdcedfb9e2ac8455       58         17    729.62   \n",
       "58920  9cc5a07f169a1606fd347a56683e6ea6       56          4    365.70   \n",
       "19858  34b0cd95480e55c2a701293a2b9671b3       50          3    263.63   \n",
       "65954  af5454198a97379394cacf676e1e96cb       14          3    178.00   \n",
       "95784  ff36be26206fffe1eb37afd54c70e18b       55          3     77.90   \n",
       "70105  ba84da8c159659f116329563a0a981dd       21          3     76.00   \n",
       "84370  e0836a97eaae86ac4adc26fbb334a527       51          3     62.98   \n",
       "13210  230a1e9f42924d41f37fd22a1d4a9707       41          3     52.90   \n",
       "89783  ef0103e9602d12594d19c2b666219bc1       30          3      0.00   \n",
       "\n",
       "       RFM_Score customer_segment  \n",
       "82883       5.00     Top Customer  \n",
       "52973       4.99     Top Customer  \n",
       "58920       4.99     Top Customer  \n",
       "19858       4.99     Top Customer  \n",
       "65954       4.99     Top Customer  \n",
       "95784       4.99     Top Customer  \n",
       "70105       4.99     Top Customer  \n",
       "84370       4.99     Top Customer  \n",
       "13210       4.99     Top Customer  \n",
       "89783       4.99     Top Customer  "
      ]
     },
     "execution_count": 104,
     "metadata": {},
     "output_type": "execute_result"
    }
   ],
   "source": [
    "# Melihat pelanggan yang memiliki RFM Score dan Monetary Score tertinggi\n",
    "rfm_df.sort_values(by=['RFM_Score', 'monetary'],ascending=False).head(10)"
   ]
  },
  {
   "cell_type": "markdown",
   "id": "56929ec7-77c5-48a1-9866-6c3d6aee6216",
   "metadata": {},
   "source": [
    "Pelanggan dengan ID dc813062e0fc23409cd255f7f53c7074 merupakan pelanggan terbaik yang memiliki RFM Score yang tertinggi."
   ]
  },
  {
   "cell_type": "markdown",
   "id": "3501198c-6beb-47ae-9610-4c4b27f0cee7",
   "metadata": {},
   "source": [
    "### Conclusion"
   ]
  },
  {
   "cell_type": "markdown",
   "id": "ecb5b488-8b74-41a6-846f-6f6c7cc26cff",
   "metadata": {},
   "source": [
    "1. Produk dalam kategori apa yang memiliki jumlah pesanan paling banyak dan paling sedikit?\n",
    "\n",
    "   Produk heatlh and beauty memiliki jumlah total order tertinggi sementera produk security and services memiliki jumlah total order paling sedikit."
   ]
  },
  {
   "cell_type": "markdown",
   "id": "fb6ebda6-9e83-476f-afbc-510293081bd9",
   "metadata": {},
   "source": [
    "2. Tunjukkan 10 kota dengan pembeli terbanyak!\n",
    "\n",
    "    Kota dengan jumlah pembeli terbanyak adalah :\n",
    "    1. Sao Paulo\n",
    "    2. Rio de Janeiro\n",
    "    3. Belo Horizonte\n",
    "    4. Brasilia\n",
    "    5. Curitiba\n",
    "    6. Campinas\n",
    "    7. Porto Alegre\n",
    "    8. Salvador\n",
    "    9. Guarulhos\n",
    "    10. Sao Bernardo do Campo   "
   ]
  },
  {
   "cell_type": "markdown",
   "id": "639a2a04-1775-469c-929e-fae919adadc0",
   "metadata": {},
   "source": [
    "3. Bagaimana tren penjualan dalam kurun waktu data didapatkan?\n",
    "\n",
    "   Total jumlah order mengalami kenaikan tiap bulannya. Yang tertinggi terjadi\n",
    "   di bulan November 2017, setelah itu terjadi fluktuasi dan cenderung stabil sampai di bulan September 2018.\n",
    "\n",
    "   Hampir sama dengan jumlah order, revenue juga mengalami kenaikan tiap bulannya. Yang tertinggi terjadi di bulan November 2017, setelah itu terjadi fluktuasi dan cenderung stabil sampai di bulan September 2018."
   ]
  },
  {
   "cell_type": "markdown",
   "id": "4303f682-3b10-4f5d-8aca-7ed4022a0e7d",
   "metadata": {},
   "source": [
    "4. Bagaimana analisis RFM (Recency-Frequency-Monetary) terhadap customer? insight apa yang didapatkan?\n",
    "\n",
    "   - Terdapat sebanyak 96.096 pelanggan unik. Di antara semua pelanggan, ada yang bertransaksi terakhir paling lama 773 hari, dengan frekuensi berbelanja paling banyak 17 kali. Nilai maksimum order sebesar 13.440,00 Real.\n",
    "   - Pelanggan dengan jumlah pembelian terbanyak adalah customer '8d50f5eadf50201ccdcedfb9e2ac8455' yang berbelanja sebanyak 17 kali.\n",
    "   - Pelanggan dengan yang berbelanja paling banyak secara jumlah uang adalah customer '0a0a92112bd4c708ca5fde585afaa872' yang telah berbelanja sebesar 13.440 Real.\n",
    "   - Berdasarkan hasil analisis RFM, sebagian besar pelanggan berada pada segmen Low Value Customer dengan persentase sebanyak 96,88% (93.099 customer), yang sisanya diikuti oleh pelanggan Top Customer sebanyak 1,92% (1.841 customer) dan High Value Customer sebanyak 1,20% (1.156 customer).\n",
    "   - Pelanggan dengan ID 'dc813062e0fc23409cd255f7f53c7074' merupakan pelanggan terbaik yang memiliki RFM Score yang tertinggi."
   ]
  },
  {
   "cell_type": "code",
   "execution_count": 105,
   "id": "01054c46-0359-4d6b-ba86-c79127220043",
   "metadata": {},
   "outputs": [],
   "source": [
    "all_data.to_csv(\"all_data.csv\", index=False)"
   ]
  },
  {
   "cell_type": "markdown",
   "id": "1effaeda-3e9e-447c-a685-b41c05c98faf",
   "metadata": {},
   "source": [
    "### Selesai"
   ]
  }
 ],
 "metadata": {
  "kernelspec": {
   "display_name": "Python 3 (ipykernel)",
   "language": "python",
   "name": "python3"
  },
  "language_info": {
   "codemirror_mode": {
    "name": "ipython",
    "version": 3
   },
   "file_extension": ".py",
   "mimetype": "text/x-python",
   "name": "python",
   "nbconvert_exporter": "python",
   "pygments_lexer": "ipython3",
   "version": "3.11.5"
  }
 },
 "nbformat": 4,
 "nbformat_minor": 5
}
